{
 "cells": [
  {
   "cell_type": "code",
   "execution_count": 1,
   "id": "cd2303c6",
   "metadata": {},
   "outputs": [],
   "source": [
    "import pandas as pd\n",
    "import matplotlib.pyplot as plt\n",
    "\n",
    "from sklearn.linear_model import LogisticRegression\n",
    "from sklearn.naive_bayes import GaussianNB\n",
    "from sklearn.ensemble import RandomForestClassifier\n",
    "from sklearn.ensemble import AdaBoostClassifier\n",
    "\n",
    "from sklearn.metrics import accuracy_score\n",
    "from sklearn.metrics import confusion_matrix\n",
    "from sklearn.metrics import plot_confusion_matrix\n",
    "\n",
    "from sklearn.model_selection import train_test_split\n",
    "\n",
    "from sklearn import metrics"
   ]
  },
  {
   "cell_type": "code",
   "execution_count": 2,
   "id": "d358a648",
   "metadata": {},
   "outputs": [
    {
     "data": {
      "text/html": [
       "<div>\n",
       "<style scoped>\n",
       "    .dataframe tbody tr th:only-of-type {\n",
       "        vertical-align: middle;\n",
       "    }\n",
       "\n",
       "    .dataframe tbody tr th {\n",
       "        vertical-align: top;\n",
       "    }\n",
       "\n",
       "    .dataframe thead th {\n",
       "        text-align: right;\n",
       "    }\n",
       "</style>\n",
       "<table border=\"1\" class=\"dataframe\">\n",
       "  <thead>\n",
       "    <tr style=\"text-align: right;\">\n",
       "      <th></th>\n",
       "      <th>ustat</th>\n",
       "      <th>alph1</th>\n",
       "      <th>alph2</th>\n",
       "      <th>beta</th>\n",
       "      <th>chi</th>\n",
       "    </tr>\n",
       "  </thead>\n",
       "  <tbody>\n",
       "    <tr>\n",
       "      <th>0</th>\n",
       "      <td>1</td>\n",
       "      <td>2</td>\n",
       "      <td>1</td>\n",
       "      <td>1</td>\n",
       "      <td>0</td>\n",
       "    </tr>\n",
       "    <tr>\n",
       "      <th>1</th>\n",
       "      <td>1</td>\n",
       "      <td>2</td>\n",
       "      <td>1</td>\n",
       "      <td>1</td>\n",
       "      <td>0</td>\n",
       "    </tr>\n",
       "    <tr>\n",
       "      <th>2</th>\n",
       "      <td>1</td>\n",
       "      <td>2</td>\n",
       "      <td>1</td>\n",
       "      <td>1</td>\n",
       "      <td>0</td>\n",
       "    </tr>\n",
       "    <tr>\n",
       "      <th>3</th>\n",
       "      <td>1</td>\n",
       "      <td>2</td>\n",
       "      <td>1</td>\n",
       "      <td>1</td>\n",
       "      <td>0</td>\n",
       "    </tr>\n",
       "    <tr>\n",
       "      <th>4</th>\n",
       "      <td>0</td>\n",
       "      <td>2</td>\n",
       "      <td>1</td>\n",
       "      <td>1</td>\n",
       "      <td>0</td>\n",
       "    </tr>\n",
       "  </tbody>\n",
       "</table>\n",
       "</div>"
      ],
      "text/plain": [
       "   ustat  alph1  alph2  beta  chi\n",
       "0      1      2      1     1    0\n",
       "1      1      2      1     1    0\n",
       "2      1      2      1     1    0\n",
       "3      1      2      1     1    0\n",
       "4      0      2      1     1    0"
      ]
     },
     "execution_count": 2,
     "metadata": {},
     "output_type": "execute_result"
    }
   ],
   "source": [
    "dir = \"../../data/preprocessed/Week01.csv\"\n",
    "df = pd.read_csv(dir)\n",
    "df.head()"
   ]
  },
  {
   "cell_type": "markdown",
   "id": "01cfd3cb",
   "metadata": {},
   "source": [
    "#### Splitting the data into training and testing. We will use train_test_split from Scikit Learn with a ratio of 67:33. "
   ]
  },
  {
   "cell_type": "code",
   "execution_count": 3,
   "id": "df0c5aa9",
   "metadata": {},
   "outputs": [],
   "source": [
    "# separating features and targets\n",
    "\n",
    "y = df['chi']\n",
    "x = df.drop(['chi'], axis=1)"
   ]
  },
  {
   "cell_type": "code",
   "execution_count": 4,
   "id": "fad09899",
   "metadata": {},
   "outputs": [],
   "source": [
    "# Train test split, ratio is 67:33\n",
    "xTrain, xTest, yTrain, yTest = train_test_split(x, y, test_size=0.33, random_state=42)"
   ]
  },
  {
   "cell_type": "markdown",
   "id": "3599d70c",
   "metadata": {},
   "source": [
    "#### Running Classification Algorithms and Generating Models"
   ]
  },
  {
   "cell_type": "markdown",
   "id": "257b9eb3",
   "metadata": {},
   "source": [
    "Various machine learning techniques are suitable for predicting a binomial outcome. The machine learning algorithms we will be implementing for this problem are Naïve Bayes, Logistic Regression, Random Forest, and AdaBoost. We begin our initial assessment of the data by implementing relatively simple classifier models before gradually approaching more complex models. Models will be assessed by using the Area Under the  Curve (AUC) score, Confusion Matrix, and Accuracy.\n"
   ]
  },
  {
   "cell_type": "code",
   "execution_count": 5,
   "id": "b0859b00",
   "metadata": {},
   "outputs": [],
   "source": [
    "# Algorithms\n",
    "\n",
    "\"LOGISTIC REGRESSION\"\n",
    "def logReg(xTrain, yTrain):\n",
    "    # from sklearn document on LogisticRegression\n",
    "    clf = LogisticRegression(random_state=0).fit(xTrain, yTrain) \n",
    "    return clf\n",
    "\n",
    "\"GAUSSIAN NAIVE BAYES\"\n",
    "def gaussNB(xTrain, yTrain):\n",
    "    # from sklearn document on GaussianNB\n",
    "    clf = GaussianNB().fit(xTrain, yTrain)\n",
    "    return clf\n",
    "\n",
    "\"RANDOM FOREST\"\n",
    "def randForest(xTrain, yTrain):\n",
    "    clf = RandomForestClassifier().fit(xTrain, yTrain)\n",
    "    return clf\n",
    "\n",
    "\"ADABOOST\"\n",
    "def ada(xTrain, yTrain):\n",
    "    clf = AdaBoostClassifier(n_estimators = 100, random_state = 0).fit(xTrain, yTrain)\n",
    "    return clf"
   ]
  },
  {
   "cell_type": "markdown",
   "id": "9fdc965c",
   "metadata": {},
   "source": [
    "#### Logistic Regression"
   ]
  },
  {
   "cell_type": "markdown",
   "id": "a689926a",
   "metadata": {},
   "source": [
    "Logistic Regression is a discriminative classifier, which makes predictions based on whether an observation falls into one of two categories of a binary dependent variable. From logistic regression, we can describe the relationship between the dependent variable outcome and the multiple ordinal independent variables. "
   ]
  },
  {
   "cell_type": "code",
   "execution_count": 7,
   "id": "18b71736",
   "metadata": {},
   "outputs": [],
   "source": [
    "lr = logReg(xTrain, yTrain)"
   ]
  },
  {
   "cell_type": "code",
   "execution_count": 8,
   "id": "1e81197c",
   "metadata": {},
   "outputs": [
    {
     "name": "stdout",
     "output_type": "stream",
     "text": [
      "Logistic Regression train set score:  0.9148148148148149\n",
      "Confusion Matrix Results:  247 0 23 0\n"
     ]
    }
   ],
   "source": [
    "print(\"Logistic Regression train set score: \", accuracy_score(yTrain, lr.predict(xTrain)))\n",
    "tn, fp, fn, tp = confusion_matrix(yTrain, lr.predict(xTrain)).ravel()\n",
    "print(\"Confusion Matrix Results: \", tn, fp, fn, tp)"
   ]
  },
  {
   "cell_type": "code",
   "execution_count": 9,
   "id": "26a53e8f",
   "metadata": {},
   "outputs": [
    {
     "name": "stdout",
     "output_type": "stream",
     "text": [
      "Logistic Regression test set score:  0.8880597014925373\n",
      "Confusion Matrix Results:  119 0 15 0\n"
     ]
    }
   ],
   "source": [
    "print(\"Logistic Regression test set score: \", accuracy_score(yTest, lr.predict(xTest)))\n",
    "tn, fp, fn, tp = confusion_matrix(yTest, lr.predict(xTest)).ravel()\n",
    "print(\"Confusion Matrix Results: \", tn, fp, fn, tp)\n"
   ]
  },
  {
   "cell_type": "code",
   "execution_count": 10,
   "id": "34e50727",
   "metadata": {},
   "outputs": [
    {
     "name": "stderr",
     "output_type": "stream",
     "text": [
      "C:\\Users\\jeffr\\anaconda3\\lib\\site-packages\\sklearn\\utils\\deprecation.py:87: FutureWarning: Function plot_confusion_matrix is deprecated; Function `plot_confusion_matrix` is deprecated in 1.0 and will be removed in 1.2. Use one of the class methods: ConfusionMatrixDisplay.from_predictions or ConfusionMatrixDisplay.from_estimator.\n",
      "  warnings.warn(msg, category=FutureWarning)\n"
     ]
    },
    {
     "data": {
      "text/plain": [
       "Text(0.5, 1.0, 'Logistic Regression')"
      ]
     },
     "execution_count": 10,
     "metadata": {},
     "output_type": "execute_result"
    },
    {
     "data": {
      "image/png": "[encoded data removed]",
      "text/plain": [
       "<Figure size 432x288 with 2 Axes>"
      ]
     },
     "metadata": {
      "needs_background": "light"
     },
     "output_type": "display_data"
    }
   ],
   "source": [
    "disp = plot_confusion_matrix(lr, xTest, yTest, cmap=plt.cm.Blues)\n",
    "disp.ax_.set_title(\"Logistic Regression\")\n"
   ]
  },
  {
   "cell_type": "code",
   "execution_count": 11,
   "id": "a5d99420",
   "metadata": {},
   "outputs": [
    {
     "name": "stderr",
     "output_type": "stream",
     "text": [
      "C:\\Users\\jeffr\\anaconda3\\lib\\site-packages\\sklearn\\utils\\deprecation.py:87: FutureWarning: Function plot_roc_curve is deprecated; Function :func:`plot_roc_curve` is deprecated in 1.0 and will be removed in 1.2. Use one of the class methods: :meth:`sklearn.metric.RocCurveDisplay.from_predictions` or :meth:`sklearn.metric.RocCurveDisplay.from_estimator`.\n",
      "  warnings.warn(msg, category=FutureWarning)\n"
     ]
    },
    {
     "data": {
      "text/plain": [
       "<sklearn.metrics._plot.roc_curve.RocCurveDisplay at 0x28c213982e0>"
      ]
     },
     "execution_count": 11,
     "metadata": {},
     "output_type": "execute_result"
    },
    {
     "data": {
      "image/png": "[encoded data removed]",
      "text/plain": [
       "<Figure size 432x288 with 1 Axes>"
      ]
     },
     "metadata": {
      "needs_background": "light"
     },
     "output_type": "display_data"
    }
   ],
   "source": [
    "metrics.plot_roc_curve(lr, xTest, yTest)"
   ]
  },
  {
   "cell_type": "markdown",
   "id": "18f276e2",
   "metadata": {},
   "source": [
    "#### Gaussian Naive Bayes"
   ]
  },
  {
   "cell_type": "markdown",
   "id": "7996e58e",
   "metadata": {},
   "source": [
    "Naïve Bayes is a generative classifier, which attempts to model how a particular class would generate input data."
   ]
  },
  {
   "cell_type": "code",
   "execution_count": 13,
   "id": "95c3e83c",
   "metadata": {},
   "outputs": [],
   "source": [
    "gNB = gaussNB(xTrain, yTrain)"
   ]
  },
  {
   "cell_type": "code",
   "execution_count": 14,
   "id": "24da7a0c",
   "metadata": {},
   "outputs": [
    {
     "name": "stdout",
     "output_type": "stream",
     "text": [
      "Gaussian Naive Bayes train set score:  0.5962962962962963\n",
      "Confusion Matrix Results:  138 109 0 23\n"
     ]
    }
   ],
   "source": [
    "print(\"Gaussian Naive Bayes train set score: \", accuracy_score(yTrain, gNB.predict(xTrain)))\n",
    "tn, fp, fn, tp = confusion_matrix(yTrain, gNB.predict(xTrain)).ravel()\n",
    "print(\"Confusion Matrix Results: \", tn, fp, fn, tp)\n"
   ]
  },
  {
   "cell_type": "code",
   "execution_count": 15,
   "id": "0a8e4cf3",
   "metadata": {},
   "outputs": [
    {
     "name": "stdout",
     "output_type": "stream",
     "text": [
      "Gaussian Naive Bayes test set score:  0.5373134328358209\n",
      "Confusion Matrix Results:  57 62 0 15\n"
     ]
    }
   ],
   "source": [
    "print(\"Gaussian Naive Bayes test set score: \", accuracy_score(yTest, gNB.predict(xTest)))\n",
    "tn, fp, fn, tp = confusion_matrix(yTest, gNB.predict(xTest)).ravel()\n",
    "print(\"Confusion Matrix Results: \", tn, fp, fn, tp)\n"
   ]
  },
  {
   "cell_type": "code",
   "execution_count": 16,
   "id": "97ee276d",
   "metadata": {},
   "outputs": [
    {
     "name": "stderr",
     "output_type": "stream",
     "text": [
      "C:\\Users\\jeffr\\anaconda3\\lib\\site-packages\\sklearn\\utils\\deprecation.py:87: FutureWarning: Function plot_confusion_matrix is deprecated; Function `plot_confusion_matrix` is deprecated in 1.0 and will be removed in 1.2. Use one of the class methods: ConfusionMatrixDisplay.from_predictions or ConfusionMatrixDisplay.from_estimator.\n",
      "  warnings.warn(msg, category=FutureWarning)\n"
     ]
    },
    {
     "data": {
      "text/plain": [
       "Text(0.5, 1.0, 'Gaussian Bayes')"
      ]
     },
     "execution_count": 16,
     "metadata": {},
     "output_type": "execute_result"
    },
    {
     "data": {
      "image/png": "[encoded data removed]",
      "text/plain": [
       "<Figure size 432x288 with 2 Axes>"
      ]
     },
     "metadata": {
      "needs_background": "light"
     },
     "output_type": "display_data"
    }
   ],
   "source": [
    "disp = plot_confusion_matrix(gNB, xTest, yTest, cmap=plt.cm.Blues)\n",
    "disp.ax_.set_title(\"Gaussian Bayes\")\n"
   ]
  },
  {
   "cell_type": "code",
   "execution_count": 17,
   "id": "9489660c",
   "metadata": {},
   "outputs": [
    {
     "name": "stderr",
     "output_type": "stream",
     "text": [
      "C:\\Users\\jeffr\\anaconda3\\lib\\site-packages\\sklearn\\utils\\deprecation.py:87: FutureWarning: Function plot_roc_curve is deprecated; Function :func:`plot_roc_curve` is deprecated in 1.0 and will be removed in 1.2. Use one of the class methods: :meth:`sklearn.metric.RocCurveDisplay.from_predictions` or :meth:`sklearn.metric.RocCurveDisplay.from_estimator`.\n",
      "  warnings.warn(msg, category=FutureWarning)\n"
     ]
    },
    {
     "data": {
      "text/plain": [
       "<sklearn.metrics._plot.roc_curve.RocCurveDisplay at 0x28c214fddf0>"
      ]
     },
     "execution_count": 17,
     "metadata": {},
     "output_type": "execute_result"
    },
    {
     "data": {
      "image/png": "[encoded data removed]",
      "text/plain": [
       "<Figure size 432x288 with 1 Axes>"
      ]
     },
     "metadata": {
      "needs_background": "light"
     },
     "output_type": "display_data"
    }
   ],
   "source": [
    "metrics.plot_roc_curve(gNB, xTest, yTest) "
   ]
  },
  {
   "cell_type": "markdown",
   "id": "4b87971e",
   "metadata": {},
   "source": [
    "#### Random Forest"
   ]
  },
  {
   "cell_type": "markdown",
   "id": "51745ddb",
   "metadata": {},
   "source": [
    "Bagging (bootstrap aggregation) creates a majority-votes model and is used when we need to reduce the variance of a decision tree. Random Forest (RF) is a bagging ensemble method which constructs numerous decision trees, with the intention to reduce the decision tree’s tendency to overfit the training data. "
   ]
  },
  {
   "cell_type": "code",
   "execution_count": 19,
   "id": "98f63355",
   "metadata": {},
   "outputs": [],
   "source": [
    "randomForest = randForest(xTrain, yTrain)"
   ]
  },
  {
   "cell_type": "code",
   "execution_count": 20,
   "id": "905834ed",
   "metadata": {},
   "outputs": [
    {
     "name": "stdout",
     "output_type": "stream",
     "text": [
      "Random Forest train set score:  0.9148148148148149\n",
      "Confusion Matrix Results:  247 0 23 0\n"
     ]
    }
   ],
   "source": [
    "print(\"Random Forest train set score: \", accuracy_score(yTrain, randomForest.predict(xTrain)))\n",
    "tn, fp, fn, tp = confusion_matrix(yTrain, randomForest.predict(xTrain)).ravel()\n",
    "print(\"Confusion Matrix Results: \", tn, fp, fn, tp)"
   ]
  },
  {
   "cell_type": "code",
   "execution_count": 21,
   "id": "915342fa",
   "metadata": {},
   "outputs": [
    {
     "name": "stdout",
     "output_type": "stream",
     "text": [
      "Random Forest test set score:  0.8880597014925373\n",
      "Confusion Matrix Results:  119 0 15 0\n"
     ]
    }
   ],
   "source": [
    "print(\"Random Forest test set score: \", accuracy_score(yTest, randomForest.predict(xTest)))\n",
    "tn, fp, fn, tp = confusion_matrix(yTest, randomForest.predict(xTest)).ravel()\n",
    "print(\"Confusion Matrix Results: \", tn, fp, fn, tp)"
   ]
  },
  {
   "cell_type": "code",
   "execution_count": 22,
   "id": "92777e26",
   "metadata": {},
   "outputs": [
    {
     "name": "stderr",
     "output_type": "stream",
     "text": [
      "C:\\Users\\jeffr\\anaconda3\\lib\\site-packages\\sklearn\\utils\\deprecation.py:87: FutureWarning: Function plot_confusion_matrix is deprecated; Function `plot_confusion_matrix` is deprecated in 1.0 and will be removed in 1.2. Use one of the class methods: ConfusionMatrixDisplay.from_predictions or ConfusionMatrixDisplay.from_estimator.\n",
      "  warnings.warn(msg, category=FutureWarning)\n"
     ]
    },
    {
     "data": {
      "text/plain": [
       "Text(0.5, 1.0, 'Random Forest')"
      ]
     },
     "execution_count": 22,
     "metadata": {},
     "output_type": "execute_result"
    },
    {
     "data": {
      "image/png": "[encoded data removed]",
      "text/plain": [
       "<Figure size 432x288 with 2 Axes>"
      ]
     },
     "metadata": {
      "needs_background": "light"
     },
     "output_type": "display_data"
    }
   ],
   "source": [
    "disp = plot_confusion_matrix(randomForest, xTest, yTest, cmap=plt.cm.Blues)\n",
    "disp.ax_.set_title(\"Random Forest\")\n"
   ]
  },
  {
   "cell_type": "code",
   "execution_count": 23,
   "id": "5a24db9e",
   "metadata": {},
   "outputs": [
    {
     "name": "stderr",
     "output_type": "stream",
     "text": [
      "C:\\Users\\jeffr\\anaconda3\\lib\\site-packages\\sklearn\\utils\\deprecation.py:87: FutureWarning: Function plot_roc_curve is deprecated; Function :func:`plot_roc_curve` is deprecated in 1.0 and will be removed in 1.2. Use one of the class methods: :meth:`sklearn.metric.RocCurveDisplay.from_predictions` or :meth:`sklearn.metric.RocCurveDisplay.from_estimator`.\n",
      "  warnings.warn(msg, category=FutureWarning)\n"
     ]
    },
    {
     "data": {
      "text/plain": [
       "<sklearn.metrics._plot.roc_curve.RocCurveDisplay at 0x28c214f7a30>"
      ]
     },
     "execution_count": 23,
     "metadata": {},
     "output_type": "execute_result"
    },
    {
     "data": {
      "image/png": "[encoded data removed]",
      "text/plain": [
       "<Figure size 432x288 with 1 Axes>"
      ]
     },
     "metadata": {
      "needs_background": "light"
     },
     "output_type": "display_data"
    }
   ],
   "source": [
    "metrics.plot_roc_curve(randomForest, xTest, yTest) "
   ]
  },
  {
   "cell_type": "markdown",
   "id": "275b9610",
   "metadata": {},
   "source": [
    "#### Adaboost"
   ]
  },
  {
   "cell_type": "markdown",
   "id": "0bf0e23f",
   "metadata": {},
   "source": [
    "While bagging algorithms combine the output of many classifiers to generate a prediction, boosting algorithms seek to improve the prediction by sequentially training weak learners, each compensating for the shortcomings of the previous learner. "
   ]
  },
  {
   "cell_type": "code",
   "execution_count": 25,
   "id": "22eeec71",
   "metadata": {},
   "outputs": [],
   "source": [
    "adaboost = ada(xTrain, yTrain)"
   ]
  },
  {
   "cell_type": "code",
   "execution_count": 26,
   "id": "e03291a6",
   "metadata": {},
   "outputs": [
    {
     "name": "stdout",
     "output_type": "stream",
     "text": [
      "Adaboost train set score:  0.9148148148148149\n",
      "Confusion Matrix Results:  247 0 23 0\n"
     ]
    }
   ],
   "source": [
    "print(\"Adaboost train set score: \", accuracy_score(yTrain, adaboost.predict(xTrain)))\n",
    "tn, fp, fn, tp = confusion_matrix(yTrain, adaboost.predict(xTrain)).ravel()\n",
    "print(\"Confusion Matrix Results: \", tn, fp, fn, tp)"
   ]
  },
  {
   "cell_type": "code",
   "execution_count": 27,
   "id": "1899de43",
   "metadata": {},
   "outputs": [
    {
     "name": "stdout",
     "output_type": "stream",
     "text": [
      "Adaboost test set score:  0.8880597014925373\n",
      "Confusion Matrix Results:  119 0 15 0\n"
     ]
    }
   ],
   "source": [
    "print(\"Adaboost test set score: \", accuracy_score(yTest, adaboost.predict(xTest)))\n",
    "tn, fp, fn, tp = confusion_matrix(yTest, adaboost.predict(xTest)).ravel()\n",
    "print(\"Confusion Matrix Results: \", tn, fp, fn, tp)\n"
   ]
  },
  {
   "cell_type": "code",
   "execution_count": 28,
   "id": "56d9d7bd",
   "metadata": {},
   "outputs": [
    {
     "name": "stderr",
     "output_type": "stream",
     "text": [
      "C:\\Users\\jeffr\\anaconda3\\lib\\site-packages\\sklearn\\utils\\deprecation.py:87: FutureWarning: Function plot_confusion_matrix is deprecated; Function `plot_confusion_matrix` is deprecated in 1.0 and will be removed in 1.2. Use one of the class methods: ConfusionMatrixDisplay.from_predictions or ConfusionMatrixDisplay.from_estimator.\n",
      "  warnings.warn(msg, category=FutureWarning)\n"
     ]
    },
    {
     "data": {
      "text/plain": [
       "Text(0.5, 1.0, 'Adaboost')"
      ]
     },
     "execution_count": 28,
     "metadata": {},
     "output_type": "execute_result"
    },
    {
     "data": {
      "image/png": "[encoded data removed]",
      "text/plain": [
       "<Figure size 432x288 with 2 Axes>"
      ]
     },
     "metadata": {
      "needs_background": "light"
     },
     "output_type": "display_data"
    }
   ],
   "source": [
    "disp = plot_confusion_matrix(adaboost, xTest, yTest, cmap=plt.cm.Blues)\n",
    "disp.ax_.set_title(\"Adaboost\")"
   ]
  },
  {
   "cell_type": "code",
   "execution_count": 29,
   "id": "9f7c7a3b",
   "metadata": {},
   "outputs": [
    {
     "name": "stderr",
     "output_type": "stream",
     "text": [
      "C:\\Users\\jeffr\\anaconda3\\lib\\site-packages\\sklearn\\utils\\deprecation.py:87: FutureWarning: Function plot_roc_curve is deprecated; Function :func:`plot_roc_curve` is deprecated in 1.0 and will be removed in 1.2. Use one of the class methods: :meth:`sklearn.metric.RocCurveDisplay.from_predictions` or :meth:`sklearn.metric.RocCurveDisplay.from_estimator`.\n",
      "  warnings.warn(msg, category=FutureWarning)\n"
     ]
    },
    {
     "data": {
      "text/plain": [
       "<sklearn.metrics._plot.roc_curve.RocCurveDisplay at 0x28c21519400>"
      ]
     },
     "execution_count": 29,
     "metadata": {},
     "output_type": "execute_result"
    },
    {
     "data": {
      "image/png": "[encoded data removed]",
      "text/plain": [
       "<Figure size 432x288 with 1 Axes>"
      ]
     },
     "metadata": {
      "needs_background": "light"
     },
     "output_type": "display_data"
    }
   ],
   "source": [
    "metrics.plot_roc_curve(adaboost, xTest, yTest) "
   ]
  }
 ],
 "metadata": {
  "kernelspec": {
   "display_name": "Python 3 (ipykernel)",
   "language": "python",
   "name": "python3"
  },
  "language_info": {
   "codemirror_mode": {
    "name": "ipython",
    "version": 3
   },
   "file_extension": ".py",
   "mimetype": "text/x-python",
   "name": "python",
   "nbconvert_exporter": "python",
   "pygments_lexer": "ipython3",
   "version": "3.9.12"
  }
 },
 "nbformat": 4,
 "nbformat_minor": 5
}
