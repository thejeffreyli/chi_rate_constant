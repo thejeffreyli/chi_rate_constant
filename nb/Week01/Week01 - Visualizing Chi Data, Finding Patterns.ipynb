{
 "cells": [
  {
   "cell_type": "code",
   "execution_count": 1,
   "id": "56db8fb3",
   "metadata": {},
   "outputs": [],
   "source": [
    "import pandas as pd\n",
    "import numpy as np\n",
    "import matplotlib.pyplot as plt\n",
    "\n",
    "import sklearn "
   ]
  },
  {
   "cell_type": "code",
   "execution_count": 2,
   "id": "a2cebaf7",
   "metadata": {},
   "outputs": [],
   "source": [
    "data = np.genfromtxt(\"../../data/data.dat\")"
   ]
  },
  {
   "cell_type": "code",
   "execution_count": 3,
   "id": "48b5d378",
   "metadata": {},
   "outputs": [
    {
     "data": {
      "text/html": [
       "<div>\n",
       "<style scoped>\n",
       "    .dataframe tbody tr th:only-of-type {\n",
       "        vertical-align: middle;\n",
       "    }\n",
       "\n",
       "    .dataframe tbody tr th {\n",
       "        vertical-align: top;\n",
       "    }\n",
       "\n",
       "    .dataframe thead th {\n",
       "        text-align: right;\n",
       "    }\n",
       "</style>\n",
       "<table border=\"1\" class=\"dataframe\">\n",
       "  <thead>\n",
       "    <tr style=\"text-align: right;\">\n",
       "      <th></th>\n",
       "      <th>ustat</th>\n",
       "      <th>alph1</th>\n",
       "      <th>alph2</th>\n",
       "      <th>beta</th>\n",
       "      <th>chi</th>\n",
       "    </tr>\n",
       "  </thead>\n",
       "  <tbody>\n",
       "    <tr>\n",
       "      <th>0</th>\n",
       "      <td>8.408213</td>\n",
       "      <td>2.344511</td>\n",
       "      <td>2.344511</td>\n",
       "      <td>60.0</td>\n",
       "      <td>1.094479</td>\n",
       "    </tr>\n",
       "    <tr>\n",
       "      <th>1</th>\n",
       "      <td>7.006844</td>\n",
       "      <td>2.344511</td>\n",
       "      <td>2.344511</td>\n",
       "      <td>60.0</td>\n",
       "      <td>0.840347</td>\n",
       "    </tr>\n",
       "    <tr>\n",
       "      <th>2</th>\n",
       "      <td>5.255133</td>\n",
       "      <td>2.344511</td>\n",
       "      <td>2.344511</td>\n",
       "      <td>60.0</td>\n",
       "      <td>0.772829</td>\n",
       "    </tr>\n",
       "    <tr>\n",
       "      <th>3</th>\n",
       "      <td>3.503422</td>\n",
       "      <td>2.344511</td>\n",
       "      <td>2.344511</td>\n",
       "      <td>60.0</td>\n",
       "      <td>0.811944</td>\n",
       "    </tr>\n",
       "    <tr>\n",
       "      <th>4</th>\n",
       "      <td>2.102053</td>\n",
       "      <td>2.344511</td>\n",
       "      <td>2.344511</td>\n",
       "      <td>60.0</td>\n",
       "      <td>0.844523</td>\n",
       "    </tr>\n",
       "  </tbody>\n",
       "</table>\n",
       "</div>"
      ],
      "text/plain": [
       "      ustat     alph1     alph2  beta       chi\n",
       "0  8.408213  2.344511  2.344511  60.0  1.094479\n",
       "1  7.006844  2.344511  2.344511  60.0  0.840347\n",
       "2  5.255133  2.344511  2.344511  60.0  0.772829\n",
       "3  3.503422  2.344511  2.344511  60.0  0.811944\n",
       "4  2.102053  2.344511  2.344511  60.0  0.844523"
      ]
     },
     "execution_count": 3,
     "metadata": {},
     "output_type": "execute_result"
    }
   ],
   "source": [
    "# Create dataframe for easier operations/manipulation\n",
    "data = np.delete(data, 0, 0)\n",
    "df = pd.DataFrame(data, columns = ['ustat','alph1','alph2', 'beta', 'chi'])\n",
    "\n",
    "df.head()"
   ]
  },
  {
   "cell_type": "code",
   "execution_count": 4,
   "id": "d79b644c",
   "metadata": {},
   "outputs": [
    {
     "name": "stdout",
     "output_type": "stream",
     "text": [
      "<class 'pandas.core.frame.DataFrame'>\n",
      "RangeIndex: 404 entries, 0 to 403\n",
      "Data columns (total 5 columns):\n",
      " #   Column  Non-Null Count  Dtype  \n",
      "---  ------  --------------  -----  \n",
      " 0   ustat   404 non-null    float64\n",
      " 1   alph1   404 non-null    float64\n",
      " 2   alph2   404 non-null    float64\n",
      " 3   beta    404 non-null    float64\n",
      " 4   chi     404 non-null    float64\n",
      "dtypes: float64(5)\n",
      "memory usage: 15.9 KB\n"
     ]
    }
   ],
   "source": [
    "df.info()"
   ]
  },
  {
   "cell_type": "markdown",
   "id": "a7baab0d",
   "metadata": {},
   "source": [
    "There are five parameters and 403 data entries. For the problem we want to solve, ustat, alph1, alph2, and beta are features, while chi is our target."
   ]
  },
  {
   "cell_type": "markdown",
   "id": "8eefc99b",
   "metadata": {},
   "source": [
    "#### Scatterplot Visualization: We want to find initial patterns/relationships in our current data. Let's visualize the relationships of the features with regards to chi."
   ]
  },
  {
   "cell_type": "code",
   "execution_count": 5,
   "id": "c4ae5844",
   "metadata": {},
   "outputs": [
    {
     "data": {
      "image/png": "[encoded data removed]",
      "text/plain": [
       "<Figure size 432x288 with 1 Axes>"
      ]
     },
     "metadata": {
      "needs_background": "light"
     },
     "output_type": "display_data"
    }
   ],
   "source": [
    "# Ustat v Chi\n",
    "scatter1 = df.plot.scatter(x='ustat', y='chi')"
   ]
  },
  {
   "cell_type": "markdown",
   "id": "08a8ac62",
   "metadata": {},
   "source": [
    "Based on this scatter, we see a greater number of points lying in the bottom to bottom-left region. However, there does not appear to be a clear relationship with regards to both variables. "
   ]
  },
  {
   "cell_type": "code",
   "execution_count": 6,
   "id": "2821f883",
   "metadata": {},
   "outputs": [
    {
     "data": {
      "text/plain": [
       "<matplotlib.lines.Line2D at 0x283b501da60>"
      ]
     },
     "execution_count": 6,
     "metadata": {},
     "output_type": "execute_result"
    },
    {
     "data": {
      "image/png": "[encoded data removed]",
      "text/plain": [
       "<Figure size 432x288 with 1 Axes>"
      ]
     },
     "metadata": {
      "needs_background": "light"
     },
     "output_type": "display_data"
    }
   ],
   "source": [
    "# annotated\n",
    "\n",
    "df.plot.scatter(x='ustat', y='chi')\n",
    "plt.axhline(y=3, color='r', linestyle='-')"
   ]
  },
  {
   "cell_type": "markdown",
   "id": "67b85e2e",
   "metadata": {},
   "source": [
    "Houston and group previously divided this scatter at chi = 3, in which points lying below the horizontal line are deemed 'small chi' and points lying at or above are deemed 'large chi.' See Reference 2."
   ]
  },
  {
   "cell_type": "code",
   "execution_count": 7,
   "id": "62ee559e",
   "metadata": {},
   "outputs": [
    {
     "data": {
      "text/plain": [
       "<AxesSubplot:xlabel='alph1', ylabel='chi'>"
      ]
     },
     "execution_count": 7,
     "metadata": {},
     "output_type": "execute_result"
    },
    {
     "data": {
      "image/png": "[encoded data removed]",
      "text/plain": [
       "<Figure size 432x288 with 1 Axes>"
      ]
     },
     "metadata": {
      "needs_background": "light"
     },
     "output_type": "display_data"
    }
   ],
   "source": [
    "# Alph1 v Chi\n",
    "\n",
    "df.plot.scatter(x='alph1', y='chi')"
   ]
  },
  {
   "cell_type": "code",
   "execution_count": 8,
   "id": "f5662be2",
   "metadata": {},
   "outputs": [
    {
     "data": {
      "text/plain": [
       "<matplotlib.lines.Line2D at 0x283b51bebb0>"
      ]
     },
     "execution_count": 8,
     "metadata": {},
     "output_type": "execute_result"
    },
    {
     "data": {
      "image/png": "[encoded data removed]",
      "text/plain": [
       "<Figure size 432x288 with 1 Axes>"
      ]
     },
     "metadata": {
      "needs_background": "light"
     },
     "output_type": "display_data"
    }
   ],
   "source": [
    "# annotated\n",
    "\n",
    "df.plot.scatter(x='alph1', y='chi')\n",
    "plt.axhline(y=3, color='r', linestyle='-')"
   ]
  },
  {
   "cell_type": "code",
   "execution_count": 9,
   "id": "74b19167",
   "metadata": {},
   "outputs": [
    {
     "data": {
      "text/plain": [
       "<AxesSubplot:xlabel='alph2', ylabel='chi'>"
      ]
     },
     "execution_count": 9,
     "metadata": {},
     "output_type": "execute_result"
    },
    {
     "data": {
      "image/png": "[encoded data removed]",
      "text/plain": [
       "<Figure size 432x288 with 1 Axes>"
      ]
     },
     "metadata": {
      "needs_background": "light"
     },
     "output_type": "display_data"
    }
   ],
   "source": [
    "# Alph2 v Chi\n",
    "\n",
    "df.plot.scatter(x='alph2', y='chi')"
   ]
  },
  {
   "cell_type": "code",
   "execution_count": 10,
   "id": "d8d0828b",
   "metadata": {},
   "outputs": [
    {
     "data": {
      "text/plain": [
       "<matplotlib.lines.Line2D at 0x283b59e3820>"
      ]
     },
     "execution_count": 10,
     "metadata": {},
     "output_type": "execute_result"
    },
    {
     "data": {
      "image/png": "[encoded data removed]",
      "text/plain": [
       "<Figure size 432x288 with 1 Axes>"
      ]
     },
     "metadata": {
      "needs_background": "light"
     },
     "output_type": "display_data"
    }
   ],
   "source": [
    "# annotated\n",
    "\n",
    "df.plot.scatter(x='alph2', y='chi')\n",
    "plt.axhline(y=3, color='r', linestyle='-')"
   ]
  },
  {
   "cell_type": "code",
   "execution_count": 11,
   "id": "e5280149",
   "metadata": {},
   "outputs": [
    {
     "data": {
      "text/plain": [
       "<AxesSubplot:xlabel='beta', ylabel='chi'>"
      ]
     },
     "execution_count": 11,
     "metadata": {},
     "output_type": "execute_result"
    },
    {
     "data": {
      "image/png": "[encoded data removed]",
      "text/plain": [
       "<Figure size 432x288 with 1 Axes>"
      ]
     },
     "metadata": {
      "needs_background": "light"
     },
     "output_type": "display_data"
    }
   ],
   "source": [
    "# Beta v Chi\n",
    "\n",
    "df.plot.scatter(x='beta', y='chi')"
   ]
  },
  {
   "cell_type": "code",
   "execution_count": 12,
   "id": "037db9d4",
   "metadata": {},
   "outputs": [
    {
     "data": {
      "text/plain": [
       "<matplotlib.lines.Line2D at 0x283b5aa7ac0>"
      ]
     },
     "execution_count": 12,
     "metadata": {},
     "output_type": "execute_result"
    },
    {
     "data": {
      "image/png": "[encoded data removed]",
      "text/plain": [
       "<Figure size 432x288 with 1 Axes>"
      ]
     },
     "metadata": {
      "needs_background": "light"
     },
     "output_type": "display_data"
    }
   ],
   "source": [
    "# annotated\n",
    "\n",
    "df.plot.scatter(x='beta', y='chi')\n",
    "plt.axhline(y=3, color='r', linestyle='-')"
   ]
  },
  {
   "cell_type": "markdown",
   "id": "8a1709f6",
   "metadata": {},
   "source": [
    "Based on the scatter results for the remaining features, we do not find a clear relationship with any of the features with the target. Some observations to note:\n",
    "\n",
    "    1. There is a large number of data entries with an alph2 value near 0. \n",
    "    2. There appears to be outlier entries beyond alph2 = 10, in which the alph2 value is very large.\n",
    "    3. 'Large chi' values do not appear when alph2 is greater than 10. \n",
    "    3. Chi values greater than 10 appear more often at beta range 40 - 70.\n"
   ]
  },
  {
   "cell_type": "markdown",
   "id": "98256055",
   "metadata": {},
   "source": [
    "#### Box Plot Visualization: We want to find the distribution for each of the variables, so we can find any patterns in the data. This may be helpful when we preprocess the data in later steps (i.e. binning, encoding). "
   ]
  },
  {
   "cell_type": "code",
   "execution_count": 13,
   "id": "9d2a01d6",
   "metadata": {},
   "outputs": [
    {
     "data": {
      "text/plain": [
       "<AxesSubplot:>"
      ]
     },
     "execution_count": 13,
     "metadata": {},
     "output_type": "execute_result"
    },
    {
     "data": {
      "image/png": "[encoded data removed]",
      "text/plain": [
       "<Figure size 432x288 with 1 Axes>"
      ]
     },
     "metadata": {
      "needs_background": "light"
     },
     "output_type": "display_data"
    }
   ],
   "source": [
    "df['ustat'].plot.box()"
   ]
  },
  {
   "cell_type": "code",
   "execution_count": 14,
   "id": "322a66d4",
   "metadata": {},
   "outputs": [
    {
     "data": {
      "text/plain": [
       "0.25    1.430864\n",
       "0.50    3.250437\n",
       "0.75    6.675925\n",
       "Name: ustat, dtype: float64"
      ]
     },
     "execution_count": 14,
     "metadata": {},
     "output_type": "execute_result"
    }
   ],
   "source": [
    "df['ustat'].quantile([0.25,0.5,0.75])"
   ]
  },
  {
   "cell_type": "code",
   "execution_count": 15,
   "id": "0a3a6dde",
   "metadata": {},
   "outputs": [
    {
     "name": "stdout",
     "output_type": "stream",
     "text": [
      "4.26568818909009\n",
      "3.2504369501859998\n",
      "0.159464446468\n",
      "15.747413833915\n"
     ]
    }
   ],
   "source": [
    "print(df['ustat'].mean())\n",
    "print(df['ustat'].median())\n",
    "print(df['ustat'].min())\n",
    "print(df['ustat'].max())"
   ]
  },
  {
   "cell_type": "code",
   "execution_count": 16,
   "id": "ea51198d",
   "metadata": {},
   "outputs": [
    {
     "data": {
      "text/plain": [
       "<AxesSubplot:>"
      ]
     },
     "execution_count": 16,
     "metadata": {},
     "output_type": "execute_result"
    },
    {
     "data": {
      "image/png": "[encoded data removed]",
      "text/plain": [
       "<Figure size 432x288 with 1 Axes>"
      ]
     },
     "metadata": {
      "needs_background": "light"
     },
     "output_type": "display_data"
    }
   ],
   "source": [
    "df['alph1'].plot.box()"
   ]
  },
  {
   "cell_type": "code",
   "execution_count": 17,
   "id": "fcbc37ec",
   "metadata": {},
   "outputs": [
    {
     "data": {
      "text/plain": [
       "0.25    1.787582\n",
       "0.50    2.228934\n",
       "0.75    2.541756\n",
       "Name: alph1, dtype: float64"
      ]
     },
     "execution_count": 17,
     "metadata": {},
     "output_type": "execute_result"
    }
   ],
   "source": [
    "df['alph1'].quantile([0.25,0.5,0.75])"
   ]
  },
  {
   "cell_type": "code",
   "execution_count": 18,
   "id": "6ef9c3db",
   "metadata": {},
   "outputs": [
    {
     "name": "stdout",
     "output_type": "stream",
     "text": [
      "2.211244470168693\n",
      "2.228934005606\n",
      "1.030203627823\n",
      "3.509591530055\n"
     ]
    }
   ],
   "source": [
    "print(df['alph1'].mean())\n",
    "print(df['alph1'].median())\n",
    "print(df['alph1'].min())\n",
    "print(df['alph1'].max())"
   ]
  },
  {
   "cell_type": "code",
   "execution_count": 19,
   "id": "fddaf06f",
   "metadata": {
    "scrolled": true
   },
   "outputs": [
    {
     "data": {
      "text/plain": [
       "<AxesSubplot:>"
      ]
     },
     "execution_count": 19,
     "metadata": {},
     "output_type": "execute_result"
    },
    {
     "data": {
      "image/png": "[encoded data removed]",
      "text/plain": [
       "<Figure size 432x288 with 1 Axes>"
      ]
     },
     "metadata": {
      "needs_background": "light"
     },
     "output_type": "display_data"
    }
   ],
   "source": [
    "df['alph2'].plot.box()"
   ]
  },
  {
   "cell_type": "code",
   "execution_count": 20,
   "id": "db965447",
   "metadata": {},
   "outputs": [
    {
     "data": {
      "text/plain": [
       "<AxesSubplot:>"
      ]
     },
     "execution_count": 20,
     "metadata": {},
     "output_type": "execute_result"
    },
    {
     "data": {
      "image/png": "[encoded data removed]",
      "text/plain": [
       "<Figure size 432x288 with 1 Axes>"
      ]
     },
     "metadata": {
      "needs_background": "light"
     },
     "output_type": "display_data"
    }
   ],
   "source": [
    "df['alph2'].plot.box(showfliers=False)"
   ]
  },
  {
   "cell_type": "code",
   "execution_count": 21,
   "id": "9d6f592b",
   "metadata": {},
   "outputs": [
    {
     "data": {
      "text/plain": [
       "0.25    1.790162\n",
       "0.50    2.191919\n",
       "0.75    2.856577\n",
       "Name: alph2, dtype: float64"
      ]
     },
     "execution_count": 21,
     "metadata": {},
     "output_type": "execute_result"
    }
   ],
   "source": [
    "df['alph2'].quantile([0.25,0.5,0.75])"
   ]
  },
  {
   "cell_type": "code",
   "execution_count": 22,
   "id": "62efc81f",
   "metadata": {},
   "outputs": [
    {
     "name": "stdout",
     "output_type": "stream",
     "text": [
      "10.2813035588216\n",
      "2.191918885013\n",
      "0.708486898555\n",
      "95.116808437375\n"
     ]
    }
   ],
   "source": [
    "print(df['alph2'].mean())\n",
    "print(df['alph2'].median())\n",
    "print(df['alph2'].min())\n",
    "print(df['alph2'].max())"
   ]
  },
  {
   "cell_type": "code",
   "execution_count": 23,
   "id": "246bbc95",
   "metadata": {},
   "outputs": [
    {
     "data": {
      "text/plain": [
       "<AxesSubplot:>"
      ]
     },
     "execution_count": 23,
     "metadata": {},
     "output_type": "execute_result"
    },
    {
     "data": {
      "image/png": "[encoded data removed]",
      "text/plain": [
       "<Figure size 432x288 with 1 Axes>"
      ]
     },
     "metadata": {
      "needs_background": "light"
     },
     "output_type": "display_data"
    }
   ],
   "source": [
    "df['beta'].plot.box()"
   ]
  },
  {
   "cell_type": "code",
   "execution_count": 24,
   "id": "c727acec",
   "metadata": {},
   "outputs": [
    {
     "data": {
      "text/plain": [
       "<AxesSubplot:>"
      ]
     },
     "execution_count": 24,
     "metadata": {},
     "output_type": "execute_result"
    },
    {
     "data": {
      "image/png": "[encoded data removed]",
      "text/plain": [
       "<Figure size 432x288 with 1 Axes>"
      ]
     },
     "metadata": {
      "needs_background": "light"
     },
     "output_type": "display_data"
    }
   ],
   "source": [
    "df['beta'].plot.box(showfliers=False)"
   ]
  },
  {
   "cell_type": "code",
   "execution_count": 25,
   "id": "b5e9fe7f",
   "metadata": {},
   "outputs": [
    {
     "data": {
      "text/plain": [
       "0.25    45.8\n",
       "0.50    48.2\n",
       "0.75    60.0\n",
       "Name: beta, dtype: float64"
      ]
     },
     "execution_count": 25,
     "metadata": {},
     "output_type": "execute_result"
    }
   ],
   "source": [
    "df['beta'].quantile([0.25,0.5,0.75])"
   ]
  },
  {
   "cell_type": "code",
   "execution_count": 26,
   "id": "a5bafa87",
   "metadata": {},
   "outputs": [
    {
     "name": "stdout",
     "output_type": "stream",
     "text": [
      "52.07400990099003\n",
      "48.2\n",
      "11.6\n",
      "89.3\n"
     ]
    }
   ],
   "source": [
    "print(df['beta'].mean())\n",
    "print(df['beta'].median())\n",
    "print(df['beta'].min())\n",
    "print(df['beta'].max())"
   ]
  },
  {
   "cell_type": "code",
   "execution_count": 27,
   "id": "3bf197dd",
   "metadata": {},
   "outputs": [
    {
     "data": {
      "text/plain": [
       "<AxesSubplot:>"
      ]
     },
     "execution_count": 27,
     "metadata": {},
     "output_type": "execute_result"
    },
    {
     "data": {
      "image/png": "[encoded data removed]",
      "text/plain": [
       "<Figure size 432x288 with 1 Axes>"
      ]
     },
     "metadata": {
      "needs_background": "light"
     },
     "output_type": "display_data"
    }
   ],
   "source": [
    "df['chi'].plot.box()"
   ]
  },
  {
   "cell_type": "code",
   "execution_count": 28,
   "id": "c39dce13",
   "metadata": {},
   "outputs": [
    {
     "data": {
      "text/plain": [
       "<AxesSubplot:>"
      ]
     },
     "execution_count": 28,
     "metadata": {},
     "output_type": "execute_result"
    },
    {
     "data": {
      "image/png": "[encoded data removed]",
      "text/plain": [
       "<Figure size 432x288 with 1 Axes>"
      ]
     },
     "metadata": {
      "needs_background": "light"
     },
     "output_type": "display_data"
    }
   ],
   "source": [
    "df['chi'].plot.box(showfliers=False)"
   ]
  },
  {
   "cell_type": "code",
   "execution_count": 29,
   "id": "f63642c4",
   "metadata": {},
   "outputs": [
    {
     "data": {
      "text/plain": [
       "0.25    0.689301\n",
       "0.50    0.920766\n",
       "0.75    1.313009\n",
       "Name: chi, dtype: float64"
      ]
     },
     "execution_count": 29,
     "metadata": {},
     "output_type": "execute_result"
    }
   ],
   "source": [
    "df['chi'].quantile([0.25,0.5,0.75])"
   ]
  },
  {
   "cell_type": "code",
   "execution_count": 30,
   "id": "cd9fd4b6",
   "metadata": {},
   "outputs": [
    {
     "name": "stdout",
     "output_type": "stream",
     "text": [
      "1.5629289468013072\n",
      "0.9207655646840001\n",
      "0.108573734733\n",
      "25.005331620136\n"
     ]
    }
   ],
   "source": [
    "print(df['chi'].mean())\n",
    "print(df['chi'].median())\n",
    "print(df['chi'].min())\n",
    "print(df['chi'].max())"
   ]
  },
  {
   "cell_type": "markdown",
   "id": "8fe39491",
   "metadata": {},
   "source": [
    "#### Clustering. I wanted to see if there was a more systematic approach to dividing the chi values into 'small chi' and 'large chi.' Houston and group visually divided the two. "
   ]
  },
  {
   "cell_type": "code",
   "execution_count": 31,
   "id": "6eb04753",
   "metadata": {},
   "outputs": [],
   "source": [
    "# extract desired values, convert into array\n",
    "ustat_chi = df.iloc[:,[0,4]].values"
   ]
  },
  {
   "cell_type": "markdown",
   "id": "19c0d0ba",
   "metadata": {},
   "source": [
    "DBSCAN - Density-Based Spatial Clustering of Applications with Noise. Finds core samples of high density and expands clusters from them. Good for data which contains clusters of similar density. (from Scikit Learn)"
   ]
  },
  {
   "cell_type": "code",
   "execution_count": 32,
   "id": "ca4ba8b8",
   "metadata": {},
   "outputs": [],
   "source": [
    "from sklearn.cluster import DBSCAN"
   ]
  },
  {
   "cell_type": "code",
   "execution_count": 33,
   "id": "bdd0c7b0",
   "metadata": {},
   "outputs": [],
   "source": [
    "# eps: The maximum distance between two samples for one to be considered as in the neighborhood of the other.\n",
    "# min_samples: The number of samples (or total weight) in a neighborhood for a point to be considered as a core point. \n",
    "# This includes the point itself.\n",
    "\n",
    "dbscan = DBSCAN(eps=1, min_samples=6)"
   ]
  },
  {
   "cell_type": "code",
   "execution_count": 34,
   "id": "7656a564",
   "metadata": {},
   "outputs": [],
   "source": [
    "labels = dbscan.fit_predict(ustat_chi)"
   ]
  },
  {
   "cell_type": "code",
   "execution_count": 35,
   "id": "aba30714",
   "metadata": {},
   "outputs": [
    {
     "data": {
      "text/plain": [
       "array([-1,  0], dtype=int64)"
      ]
     },
     "execution_count": 35,
     "metadata": {},
     "output_type": "execute_result"
    }
   ],
   "source": [
    "# -1 == noise\n",
    "\n",
    "np.unique(labels)"
   ]
  },
  {
   "cell_type": "code",
   "execution_count": 36,
   "id": "e6c1299d",
   "metadata": {},
   "outputs": [
    {
     "data": {
      "text/plain": [
       "<matplotlib.collections.PathCollection at 0x283b7479340>"
      ]
     },
     "execution_count": 36,
     "metadata": {},
     "output_type": "execute_result"
    },
    {
     "data": {
      "image/png": "[encoded data removed]",
      "text/plain": [
       "<Figure size 432x288 with 1 Axes>"
      ]
     },
     "metadata": {
      "needs_background": "light"
     },
     "output_type": "display_data"
    }
   ],
   "source": [
    "plt.scatter(ustat_chi[labels== -1,0], ustat_chi[labels == -1,1], s = 10, c = 'red')\n",
    "plt.scatter(ustat_chi[labels== 0,0], ustat_chi[labels == 0,1], s = 10, c = 'blue')"
   ]
  },
  {
   "cell_type": "code",
   "execution_count": 37,
   "id": "7d8851ce",
   "metadata": {},
   "outputs": [
    {
     "data": {
      "text/plain": [
       "<matplotlib.lines.Line2D at 0x283b74e2d90>"
      ]
     },
     "execution_count": 37,
     "metadata": {},
     "output_type": "execute_result"
    },
    {
     "data": {
      "image/png": "[encoded data removed]",
      "text/plain": [
       "<Figure size 432x288 with 1 Axes>"
      ]
     },
     "metadata": {
      "needs_background": "light"
     },
     "output_type": "display_data"
    }
   ],
   "source": [
    "plt.scatter(ustat_chi[labels== -1,0], ustat_chi[labels == -1,1], s = 10, c = 'red')\n",
    "plt.scatter(ustat_chi[labels== 0,0], ustat_chi[labels == 0,1], s = 10, c = 'blue')\n",
    "plt.axhline(y=3, color='green', linestyle='-')"
   ]
  },
  {
   "cell_type": "markdown",
   "id": "43cffd97",
   "metadata": {},
   "source": [
    "Although we cannot exactly replicate the results from pure visualization, we achieved a separation that is very close. It is important to note that the blue dots represent one cluster and the red dots represent outliers, according to DB Scan. The psilon value and min_sample values were decided through trial and error. Most data entries lie very close, and hence are neighbors, with one another. "
   ]
  }
 ],
 "metadata": {
  "kernelspec": {
   "display_name": "Python 3 (ipykernel)",
   "language": "python",
   "name": "python3"
  },
  "language_info": {
   "codemirror_mode": {
    "name": "ipython",
    "version": 3
   },
   "file_extension": ".py",
   "mimetype": "text/x-python",
   "name": "python",
   "nbconvert_exporter": "python",
   "pygments_lexer": "ipython3",
   "version": "3.9.12"
  }
 },
 "nbformat": 4,
 "nbformat_minor": 5
}
