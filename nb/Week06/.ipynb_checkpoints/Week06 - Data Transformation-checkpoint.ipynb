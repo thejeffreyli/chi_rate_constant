{
 "cells": [
  {
   "cell_type": "markdown",
   "id": "d8a72bf4",
   "metadata": {},
   "source": [
    "### New Dataset \n",
    "This updated dataset has been purged of the 1D versions in cases where we had both 1D and 3D reaction results. In other words, there are only 3D results."
   ]
  },
  {
   "cell_type": "code",
   "execution_count": null,
   "id": "05a6ec33",
   "metadata": {},
   "outputs": [],
   "source": [
    "import pandas as pd\n",
    "import numpy as np\n",
    "import matplotlib.pyplot as plt\n",
    "import seaborn as sns\n",
    "import sklearn "
   ]
  },
  {
   "cell_type": "code",
   "execution_count": null,
   "id": "a2cebaf7",
   "metadata": {},
   "outputs": [],
   "source": [
    "data = np.genfromtxt(\"../../data/newdata/AllChiPurged.dat\")"
   ]
  },
  {
   "cell_type": "code",
   "execution_count": null,
   "id": "7f5f836d",
   "metadata": {},
   "outputs": [],
   "source": [
    "# Create dataframe for easier operations/manipulation\n",
    "df = pd.DataFrame(data, columns = ['ustat','alph1','alph2', 'beta', 'chi'])\n",
    "df.head()"
   ]
  },
  {
   "cell_type": "code",
   "execution_count": null,
   "id": "06785464",
   "metadata": {},
   "outputs": [],
   "source": [
    "data = df.values"
   ]
  },
  {
   "cell_type": "code",
   "execution_count": null,
   "id": "0f5571a3",
   "metadata": {},
   "outputs": [],
   "source": [
    "X, y = data[:, :-1], data[:, -1]"
   ]
  },
  {
   "cell_type": "code",
   "execution_count": null,
   "id": "f65bc6b4",
   "metadata": {},
   "outputs": [],
   "source": [
    "X"
   ]
  },
  {
   "cell_type": "code",
   "execution_count": null,
   "id": "a0dac0a9",
   "metadata": {},
   "outputs": [],
   "source": [
    "y"
   ]
  },
  {
   "cell_type": "markdown",
   "id": "429851d0",
   "metadata": {},
   "source": [
    "#### Transform Data"
   ]
  },
  {
   "cell_type": "code",
   "execution_count": null,
   "id": "c3f24c4c",
   "metadata": {},
   "outputs": [],
   "source": [
    "from sklearn.preprocessing import PowerTransformer\n",
    "pt = PowerTransformer(method='yeo-johnson')    "
   ]
  },
  {
   "cell_type": "code",
   "execution_count": null,
   "id": "ec22dd29",
   "metadata": {},
   "outputs": [],
   "source": [
    "# transform data\n",
    "X = pt.fit_transform(X)\n",
    "X_df = pd.DataFrame(X, columns = ['ustat','alph1','alph2', 'beta'])"
   ]
  },
  {
   "cell_type": "code",
   "execution_count": null,
   "id": "c0985ed0",
   "metadata": {},
   "outputs": [],
   "source": [
    "X_df"
   ]
  },
  {
   "cell_type": "code",
   "execution_count": null,
   "id": "754029d1",
   "metadata": {},
   "outputs": [],
   "source": []
  },
  {
   "cell_type": "code",
   "execution_count": null,
   "id": "5bc10ed8",
   "metadata": {},
   "outputs": [],
   "source": []
  },
  {
   "cell_type": "code",
   "execution_count": null,
   "id": "de639795",
   "metadata": {},
   "outputs": [],
   "source": [
    "pd.plotting.scatter_matrix(X_df, alpha = 1, figsize = (12, 12), diagonal = 'kde')"
   ]
  },
  {
   "cell_type": "markdown",
   "id": "a4d82273",
   "metadata": {},
   "source": [
    "#### Three Dimensional Scatter for Features\n",
    "\n",
    "Three dimensional scatterplots with x, y, and z as features."
   ]
  },
  {
   "cell_type": "code",
   "execution_count": null,
   "id": "f9ae593a",
   "metadata": {},
   "outputs": [],
   "source": [
    "x = X_df['ustat']\n",
    "y = X_df['alph1']\n",
    "z = X_df['alph2']\n",
    "\n",
    "\n",
    "fig = plt.figure(figsize = (10, 10))\n",
    "ax = plt.axes(projection =\"3d\")\n",
    " \n",
    "ax.scatter3D(x, y, z)\n",
    "\n",
    "ax.set_title('Feature Scatter: ustat, alph1, alph2')\n",
    "ax.set_xlabel('ustat')\n",
    "ax.set_ylabel('alph1')\n",
    "ax.set_zlabel('alph2')\n",
    " \n",
    "plt.show()"
   ]
  },
  {
   "cell_type": "code",
   "execution_count": null,
   "id": "501a67eb",
   "metadata": {},
   "outputs": [],
   "source": [
    "x = X_df['ustat']\n",
    "y = X_df['alph1']\n",
    "z = X_df['beta']\n",
    "\n",
    "\n",
    "fig = plt.figure(figsize = (10, 10))\n",
    "ax = plt.axes(projection =\"3d\")\n",
    " \n",
    "ax.scatter3D(x, y, z)\n",
    "\n",
    "ax.set_title('Feature Scatter: ustat, alph1, beta')\n",
    "ax.set_xlabel('ustat')\n",
    "ax.set_ylabel('alph1')\n",
    "ax.set_zlabel('beta')\n",
    " \n",
    "plt.show()"
   ]
  },
  {
   "cell_type": "code",
   "execution_count": null,
   "id": "d3188685",
   "metadata": {},
   "outputs": [],
   "source": [
    "x = X_df['ustat']\n",
    "y = X_df['alph2']\n",
    "z = X_df['beta']\n",
    "\n",
    "\n",
    "fig = plt.figure(figsize = (10, 10))\n",
    "ax = plt.axes(projection =\"3d\")\n",
    " \n",
    "ax.scatter3D(x, y, z)\n",
    "\n",
    "ax.set_title('Feature Scatter: ustat, alph2, beta')\n",
    "ax.set_xlabel('ustat')\n",
    "ax.set_ylabel('alph2')\n",
    "ax.set_zlabel('beta')\n",
    " \n",
    "plt.show()"
   ]
  },
  {
   "cell_type": "code",
   "execution_count": null,
   "id": "8b15e24c",
   "metadata": {},
   "outputs": [],
   "source": [
    "x = X_df['alph1']\n",
    "y = X_df['alph2']\n",
    "z = X_df['beta']\n",
    "\n",
    "\n",
    "fig = plt.figure(figsize = (10, 10))\n",
    "ax = plt.axes(projection =\"3d\")\n",
    " \n",
    "ax.scatter3D(x, y, z)\n",
    "\n",
    "ax.set_title('Feature Scatter: alph1, alph2, beta')\n",
    "ax.set_xlabel('alph1')\n",
    "ax.set_ylabel('alph2')\n",
    "ax.set_zlabel('beta')\n",
    " \n",
    "plt.show()"
   ]
  },
  {
   "cell_type": "code",
   "execution_count": null,
   "id": "6f3cb072",
   "metadata": {},
   "outputs": [],
   "source": [
    "xxx"
   ]
  },
  {
   "cell_type": "code",
   "execution_count": null,
   "id": "afba4c2d",
   "metadata": {},
   "outputs": [],
   "source": [
    "from sklearn.cluster import KMeans\n",
    "# https://scikit-learn.org/stable/modules/generated/sklearn.cluster.KMeans.html\n",
    "# https://www.geeksforgeeks.org/elbow-method-for-optimal-value-of-k-in-kmeans/\n",
    "# https://medium.com/@sk.shravan00/k-means-for-3-variables-260d20849730"
   ]
  },
  {
   "cell_type": "code",
   "execution_count": null,
   "id": "b3cc8a4c",
   "metadata": {},
   "outputs": [],
   "source": [
    "#### Columns: ustat, alph1, alph2, beta"
   ]
  },
  {
   "cell_type": "code",
   "execution_count": null,
   "id": "183f263a",
   "metadata": {},
   "outputs": [],
   "source": [
    "# elbow method: heuristic used in determining the number of clusters in a data set\n",
    "# SSE/intertia: sum of the squared distance between the average point (called Centroid) and each point of the cluster\n",
    "\n",
    "def elbow_method(X):\n",
    "    error = []\n",
    "    for i in range(1,11):\n",
    "        k_means = KMeans(n_clusters=i,init='k-means++', random_state=42)\n",
    "        k_means.fit(X)\n",
    "        # Sum of squared distances of samples to their closest cluster center, \n",
    "        # weighted by the sample weights if provided.\n",
    "        error.append(k_means.inertia_)\n",
    "    #plot elbow curve\n",
    "    plt.plot(np.arange(1,11), error)\n",
    "    plt.xlabel('k')\n",
    "    plt.ylabel('Sum of Square Error (SSE)')\n",
    "    plt.show()"
   ]
  },
  {
   "cell_type": "code",
   "execution_count": null,
   "id": "6c22af76",
   "metadata": {},
   "outputs": [],
   "source": [
    "# five columns: four features, one target\n",
    "list(df.columns)"
   ]
  },
  {
   "cell_type": "code",
   "execution_count": null,
   "id": "700b2f5a",
   "metadata": {},
   "outputs": [],
   "source": [
    "# extract three features/columns\n",
    "# ustat, alph1, alph2\n",
    "X = df.iloc[:,[True, True, True, False, False]].values"
   ]
  },
  {
   "cell_type": "code",
   "execution_count": null,
   "id": "c2c0ebc7",
   "metadata": {},
   "outputs": [],
   "source": [
    "elbow_method(X)"
   ]
  },
  {
   "cell_type": "code",
   "execution_count": null,
   "id": "126137be",
   "metadata": {},
   "outputs": [],
   "source": [
    "# select the value of k at the “elbow” ie the point after which the distortion/inertia start decreasing in a linear fashion"
   ]
  },
  {
   "cell_type": "code",
   "execution_count": null,
   "id": "46866300",
   "metadata": {},
   "outputs": [],
   "source": [
    "# predict labels for K = 4 clusters\n",
    "km = KMeans(n_clusters = 4, init = 'k-means++',  random_state=42)\n",
    "y = km.fit_predict(X)"
   ]
  },
  {
   "cell_type": "code",
   "execution_count": null,
   "id": "ba8f6875",
   "metadata": {},
   "outputs": [],
   "source": [
    "# labels\n",
    "data1 = df[y==0]\n",
    "data2 = df[y==1]\n",
    "data3 = df[y==2]\n",
    "data4 = df[y==3]"
   ]
  },
  {
   "cell_type": "code",
   "execution_count": null,
   "id": "943fba82",
   "metadata": {},
   "outputs": [],
   "source": [
    "fig = plt.figure(figsize = (10, 10))\n",
    "ax = plt.axes(projection =\"3d\")\n",
    "\n",
    "\n",
    "\n",
    "# Data for three-dimensional scattered points\n",
    "ax.scatter3D(data1['ustat'], data1['alph1'], data1['alph2'], c='tab:olive', label = 'Cluster 1')\n",
    "\n",
    "ax.scatter3D(data2['ustat'],data2['alph1'],data2['alph2'],c ='tab:cyan', label = 'Cluster 2')\n",
    "\n",
    "ax.scatter3D(data3['ustat'], data3['alph1'], data3['alph2'], c='tab:purple', label = 'Cluster 3')\n",
    "\n",
    "ax.scatter3D(data4['ustat'],data4['alph1'],data4['alph2'],c ='tab:orange', label = 'Cluster 4')\n",
    "\n",
    "plt.scatter(km.cluster_centers_[:,0], km.cluster_centers_[:,1], color = 'black', s = 100)\n",
    "\n",
    "ax.set_title('k-Means Cluster, k = 4: ustat, alph1, alph2')\n",
    "ax.set_xlabel('ustat')\n",
    "ax.set_ylabel('alph1')\n",
    "ax.set_zlabel('alph2')\n",
    "\n",
    "plt.legend()\n",
    "plt.show()"
   ]
  },
  {
   "cell_type": "code",
   "execution_count": null,
   "id": "46f4f945",
   "metadata": {},
   "outputs": [],
   "source": [
    "# ustat, alph1, beta\n",
    "X = df.iloc[:,[True, True, False, True, False]].values"
   ]
  },
  {
   "cell_type": "code",
   "execution_count": null,
   "id": "8351aec3",
   "metadata": {},
   "outputs": [],
   "source": [
    "elbow_method(X)"
   ]
  },
  {
   "cell_type": "code",
   "execution_count": null,
   "id": "860f999a",
   "metadata": {},
   "outputs": [],
   "source": [
    "# predict labels for K = 3 clusters\n",
    "km = KMeans(n_clusters = 3, init = 'k-means++',  random_state=42)\n",
    "y = km.fit_predict(X)"
   ]
  },
  {
   "cell_type": "code",
   "execution_count": null,
   "id": "226f7717",
   "metadata": {},
   "outputs": [],
   "source": [
    "# labels\n",
    "data1 = df[y==0]\n",
    "data2 = df[y==1]\n",
    "data3 = df[y==2]"
   ]
  },
  {
   "cell_type": "code",
   "execution_count": null,
   "id": "d823c324",
   "metadata": {},
   "outputs": [],
   "source": [
    "fig = plt.figure(figsize = (10, 10))\n",
    "ax = plt.axes(projection =\"3d\")\n",
    "\n",
    "\n",
    "\n",
    "# Data for three-dimensional scattered points\n",
    "ax.scatter3D(data1['ustat'], data1['alph1'], data1['beta'], c='tab:olive', label = 'Cluster 1')\n",
    "\n",
    "ax.scatter3D(data2['ustat'],data2['alph1'],data2['beta'],c ='tab:cyan', label = 'Cluster 2')\n",
    "\n",
    "ax.scatter3D(data3['ustat'], data3['alph1'], data3['beta'], c='tab:purple', label = 'Cluster 3')\n",
    "\n",
    "\n",
    "plt.scatter(km.cluster_centers_[:,0], km.cluster_centers_[:,1], color = 'black', s = 100)\n",
    "\n",
    "ax.set_title('k-Means Cluster, k = 3: ustat, alph1, beta')\n",
    "ax.set_xlabel('ustat')\n",
    "ax.set_ylabel('alph1')\n",
    "ax.set_zlabel('beta')\n",
    "\n",
    "plt.legend()\n",
    "plt.show()"
   ]
  },
  {
   "cell_type": "code",
   "execution_count": null,
   "id": "6cd804dc",
   "metadata": {},
   "outputs": [],
   "source": [
    "# ustat, alph2, beta\n",
    "X = df.iloc[:,[True, False, True, True, False]].values"
   ]
  },
  {
   "cell_type": "code",
   "execution_count": null,
   "id": "e3a460e5",
   "metadata": {},
   "outputs": [],
   "source": [
    "elbow_method(X)"
   ]
  },
  {
   "cell_type": "code",
   "execution_count": null,
   "id": "3bdf273f",
   "metadata": {},
   "outputs": [],
   "source": [
    "# predict labels for K = 5 clusters\n",
    "km = KMeans(n_clusters = 5, init = 'k-means++',  random_state=42)\n",
    "y = km.fit_predict(X)"
   ]
  },
  {
   "cell_type": "code",
   "execution_count": null,
   "id": "2316bbea",
   "metadata": {},
   "outputs": [],
   "source": [
    "# labels\n",
    "data1 = df[y==0]\n",
    "data2 = df[y==1]\n",
    "data3 = df[y==2]\n",
    "data4 = df[y==3]\n",
    "data5 = df[y==4]"
   ]
  },
  {
   "cell_type": "code",
   "execution_count": null,
   "id": "46626df9",
   "metadata": {},
   "outputs": [],
   "source": [
    "fig = plt.figure(figsize = (10, 10))\n",
    "ax = plt.axes(projection =\"3d\")\n",
    "\n",
    "\n",
    "\n",
    "# Data for three-dimensional scattered points\n",
    "ax.scatter3D(data1['ustat'], data1['alph2'], data1['beta'], c='tab:olive', label = 'Cluster 1')\n",
    "\n",
    "ax.scatter3D(data2['ustat'],data2['alph2'],data2['beta'],c ='tab:cyan', label = 'Cluster 2')\n",
    "\n",
    "ax.scatter3D(data3['ustat'], data3['alph2'], data3['beta'], c='tab:purple', label = 'Cluster 3')\n",
    "\n",
    "ax.scatter3D(data4['ustat'], data4['alph2'], data4['beta'], c='tab:orange', label = 'Cluster 4')\n",
    "\n",
    "ax.scatter3D(data5['ustat'], data5['alph2'], data5['beta'], c='tab:pink', label = 'Cluster 5')\n",
    "\n",
    "plt.scatter(km.cluster_centers_[:,0], km.cluster_centers_[:,1], color = 'black', s = 100)\n",
    "\n",
    "ax.set_title('k-Means Cluster, k = 5: ustat, alph2, beta')\n",
    "ax.set_xlabel('ustat')\n",
    "ax.set_ylabel('alph2')\n",
    "ax.set_zlabel('beta')\n",
    "\n",
    "plt.legend()\n",
    "plt.show()"
   ]
  },
  {
   "cell_type": "code",
   "execution_count": null,
   "id": "6777f61a",
   "metadata": {},
   "outputs": [],
   "source": [
    "# alph1, alph2, beta\n",
    "X = df.iloc[:,[False, True, True, True, False]].values"
   ]
  },
  {
   "cell_type": "code",
   "execution_count": null,
   "id": "83a262c2",
   "metadata": {},
   "outputs": [],
   "source": [
    "elbow_method(X)"
   ]
  },
  {
   "cell_type": "code",
   "execution_count": null,
   "id": "1f8af449",
   "metadata": {},
   "outputs": [],
   "source": [
    "# predict labels for K = 3 clusters\n",
    "km = KMeans(n_clusters = 3, init = 'k-means++',  random_state=42)\n",
    "y = km.fit_predict(X)"
   ]
  },
  {
   "cell_type": "code",
   "execution_count": null,
   "id": "62f77ffd",
   "metadata": {},
   "outputs": [],
   "source": [
    "# labels\n",
    "data1 = df[y==0]\n",
    "data2 = df[y==1]\n",
    "data3 = df[y==2]"
   ]
  },
  {
   "cell_type": "code",
   "execution_count": null,
   "id": "87f6b1ba",
   "metadata": {},
   "outputs": [],
   "source": [
    "fig = plt.figure(figsize = (10, 10))\n",
    "ax = plt.axes(projection =\"3d\")\n",
    "\n",
    "\n",
    "\n",
    "# Data for three-dimensional scattered points\n",
    "ax.scatter3D(data1['alph1'], data1['alph2'], data1['beta'], c='tab:olive', label = 'Cluster 1')\n",
    "\n",
    "ax.scatter3D(data2['alph1'],data2['alph2'],data2['beta'],c ='tab:cyan', label = 'Cluster 2')\n",
    "\n",
    "ax.scatter3D(data3['alph1'], data3['alph2'], data3['beta'], c='tab:purple', label = 'Cluster 3')\n",
    "\n",
    "plt.scatter(km.cluster_centers_[:,0], km.cluster_centers_[:,1], color = 'black', s = 100)\n",
    "\n",
    "ax.set_title('k-Means Cluster, k = 3: alph1, alph2, beta')\n",
    "ax.set_xlabel('alph1')\n",
    "ax.set_ylabel('alph2')\n",
    "ax.set_zlabel('beta')\n",
    "\n",
    "plt.legend()\n",
    "plt.show()"
   ]
  },
  {
   "cell_type": "code",
   "execution_count": null,
   "id": "eeaf26f6",
   "metadata": {},
   "outputs": [],
   "source": [
    "# 1) separate data clusters into seaprate plots\n",
    "#2) display chi values\n",
    "#3) see relationship between clusters and chi\n",
    "# report"
   ]
  }
 ],
 "metadata": {
  "kernelspec": {
   "display_name": "Python 3 (ipykernel)",
   "language": "python",
   "name": "python3"
  },
  "language_info": {
   "codemirror_mode": {
    "name": "ipython",
    "version": 3
   },
   "file_extension": ".py",
   "mimetype": "text/x-python",
   "name": "python",
   "nbconvert_exporter": "python",
   "pygments_lexer": "ipython3",
   "version": "3.9.12"
  }
 },
 "nbformat": 4,
 "nbformat_minor": 5
}
