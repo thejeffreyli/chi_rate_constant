{
 "cells": [
  {
   "cell_type": "code",
   "execution_count": 1,
   "id": "05a6ec33",
   "metadata": {},
   "outputs": [],
   "source": [
    "import pandas as pd\n",
    "import numpy as np\n",
    "import matplotlib\n",
    "import matplotlib.pyplot as plt\n",
    "import seaborn as sns\n",
    "import sklearn "
   ]
  },
  {
   "cell_type": "code",
   "execution_count": 2,
   "id": "288e2485",
   "metadata": {},
   "outputs": [],
   "source": [
    "data = np.genfromtxt(\"../../data/newdata/AllChiPurged.dat\")\n",
    "# Create dataframe for easier operations/manipulation\n",
    "df = pd.DataFrame(data, columns = ['ustat','alph1','alph2', 'beta', 'chi'])\n",
    "X_df = df.drop(['chi'], axis=1)\n",
    "y_df = df[['chi']]"
   ]
  },
  {
   "cell_type": "markdown",
   "id": "53610928",
   "metadata": {},
   "source": [
    "#### Standardize and k-Means Clustering\n",
    "\n",
    "This is a repeat of the steps from the previous week. We use power trasnformer function to standardize the data and k-means to create clusters."
   ]
  },
  {
   "cell_type": "code",
   "execution_count": 3,
   "id": "ad66ae31",
   "metadata": {},
   "outputs": [],
   "source": [
    "from sklearn.preprocessing import PowerTransformer\n",
    "pt = PowerTransformer(method='yeo-johnson')    "
   ]
  },
  {
   "cell_type": "code",
   "execution_count": 4,
   "id": "3b47efda",
   "metadata": {},
   "outputs": [],
   "source": [
    "# transform features\n",
    "X_df = pt.fit_transform(X_df)\n",
    "X_df = pd.DataFrame(X_df, columns = ['ustat','alph1','alph2', 'beta'])"
   ]
  },
  {
   "cell_type": "code",
   "execution_count": 5,
   "id": "1fdcecc0",
   "metadata": {},
   "outputs": [],
   "source": [
    "from sklearn.cluster import KMeans"
   ]
  },
  {
   "cell_type": "code",
   "execution_count": 6,
   "id": "831a0f83",
   "metadata": {},
   "outputs": [
    {
     "name": "stderr",
     "output_type": "stream",
     "text": [
      "C:\\Users\\jeffr\\AppData\\Local\\Temp\\ipykernel_25504\\1018998436.py:9: SettingWithCopyWarning: \n",
      "A value is trying to be set on a copy of a slice from a DataFrame.\n",
      "Try using .loc[row_indexer,col_indexer] = value instead\n",
      "\n",
      "See the caveats in the documentation: https://pandas.pydata.org/pandas-docs/stable/user_guide/indexing.html#returning-a-view-versus-a-copy\n",
      "  y_df['KM01'] = y\n"
     ]
    }
   ],
   "source": [
    "# extract three features/columns\n",
    "# ustat, alph1, alph2\n",
    "X = X_df.iloc[:,[True, True, True, False]].values\n",
    "\n",
    "# predict labels for K = 4 clusters\n",
    "km = KMeans(n_clusters = 4, init = 'k-means++',  random_state=42)\n",
    "y = km.fit_predict(X)\n",
    "\n",
    "y_df['KM01'] = y"
   ]
  },
  {
   "cell_type": "code",
   "execution_count": 7,
   "id": "16cdac59",
   "metadata": {},
   "outputs": [
    {
     "name": "stderr",
     "output_type": "stream",
     "text": [
      "C:\\Users\\jeffr\\AppData\\Local\\Temp\\ipykernel_25504\\3937094378.py:8: SettingWithCopyWarning: \n",
      "A value is trying to be set on a copy of a slice from a DataFrame.\n",
      "Try using .loc[row_indexer,col_indexer] = value instead\n",
      "\n",
      "See the caveats in the documentation: https://pandas.pydata.org/pandas-docs/stable/user_guide/indexing.html#returning-a-view-versus-a-copy\n",
      "  y_df['KM02'] = y\n"
     ]
    }
   ],
   "source": [
    "# ustat, alph1, beta\n",
    "X = X_df.iloc[:,[True, True, False, True]].values\n",
    "\n",
    "# predict labels for K = 3 clusters\n",
    "km = KMeans(n_clusters = 3, init = 'k-means++',  random_state=42)\n",
    "y = km.fit_predict(X)\n",
    "\n",
    "y_df['KM02'] = y"
   ]
  },
  {
   "cell_type": "code",
   "execution_count": 8,
   "id": "0a70217a",
   "metadata": {},
   "outputs": [
    {
     "name": "stderr",
     "output_type": "stream",
     "text": [
      "C:\\Users\\jeffr\\AppData\\Local\\Temp\\ipykernel_25504\\1911567088.py:8: SettingWithCopyWarning: \n",
      "A value is trying to be set on a copy of a slice from a DataFrame.\n",
      "Try using .loc[row_indexer,col_indexer] = value instead\n",
      "\n",
      "See the caveats in the documentation: https://pandas.pydata.org/pandas-docs/stable/user_guide/indexing.html#returning-a-view-versus-a-copy\n",
      "  y_df['KM03'] = y\n"
     ]
    }
   ],
   "source": [
    "# ustat, alph2, beta\n",
    "X = X_df.iloc[:,[True, False, True, True]].values\n",
    "\n",
    "# predict labels for K = 5 clusters\n",
    "km = KMeans(n_clusters = 5, init = 'k-means++',  random_state=42)\n",
    "y = km.fit_predict(X)\n",
    "\n",
    "y_df['KM03'] = y"
   ]
  },
  {
   "cell_type": "code",
   "execution_count": 9,
   "id": "3f5d8c10",
   "metadata": {},
   "outputs": [],
   "source": [
    "# alph1, alph2, beta\n",
    "X = X_df.iloc[:,[False, True, True, True]].values\n",
    "\n",
    "# predict labels for K = 3 clusters\n",
    "km = KMeans(n_clusters = 3, init = 'k-means++',  random_state=42)\n",
    "y = km.fit_predict(X)\n",
    "\n",
    "y_df['KM04'] = y"
   ]
  },
  {
   "cell_type": "markdown",
   "id": "b9f0472b",
   "metadata": {},
   "source": [
    "#### Cluster Breakdown\n",
    "\n",
    "In this step, we want to see the breakdown of each cluster. Through this, we seek to answer two questions: (1) How many data instances are in each clusters? (2) What chi values are in each cluster?"
   ]
  },
  {
   "cell_type": "markdown",
   "id": "0cbd5f55",
   "metadata": {},
   "source": [
    "The first question will determine whether there is an imbalance of instances in each cluster. Ideally, we want each cluster to be approximately the same size. The second question will let us know whether we can create separate labels from each cluster. In other words, if a cluster only has a certain chi value range which only appears in that cluster, them it can be associated with a label."
   ]
  },
  {
   "cell_type": "code",
   "execution_count": 10,
   "id": "13d6ab9f",
   "metadata": {},
   "outputs": [
    {
     "name": "stdout",
     "output_type": "stream",
     "text": [
      "0    107\n",
      "3     93\n",
      "1     90\n",
      "2     54\n",
      "Name: KM01, dtype: int64\n"
     ]
    },
    {
     "data": {
      "text/plain": [
       "Text(0, 0.5, 'chi')"
      ]
     },
     "execution_count": 10,
     "metadata": {},
     "output_type": "execute_result"
    },
    {
     "data": {
      "image/png": "[encoded data removed]",
      "text/plain": [
       "<Figure size 432x288 with 1 Axes>"
      ]
     },
     "metadata": {
      "needs_background": "light"
     },
     "output_type": "display_data"
    }
   ],
   "source": [
    "print(y_df['KM01'].value_counts())\n",
    "df1 = y_df[['chi', 'KM01']]\n",
    "df1.plot.scatter(x = 'KM01', y = 'chi')\n",
    "plt.xlabel('k')\n",
    "plt.ylabel('chi')"
   ]
  },
  {
   "cell_type": "markdown",
   "id": "4ac8f7ef",
   "metadata": {},
   "source": [
    "Cluster 0, 1, and 3 have approximately the same number of instances. Cluster 2 has about half of Cluster 1. There is no way to create separate labels from the given clusters. "
   ]
  },
  {
   "cell_type": "code",
   "execution_count": 11,
   "id": "64e63485",
   "metadata": {},
   "outputs": [
    {
     "name": "stdout",
     "output_type": "stream",
     "text": [
      "1    125\n",
      "0    118\n",
      "2    101\n",
      "Name: KM02, dtype: int64\n"
     ]
    },
    {
     "data": {
      "text/plain": [
       "Text(0, 0.5, 'chi')"
      ]
     },
     "execution_count": 11,
     "metadata": {},
     "output_type": "execute_result"
    },
    {
     "data": {
      "image/png": "[encoded data removed]",
      "text/plain": [
       "<Figure size 432x288 with 1 Axes>"
      ]
     },
     "metadata": {
      "needs_background": "light"
     },
     "output_type": "display_data"
    }
   ],
   "source": [
    "print(y_df['KM02'].value_counts())\n",
    "df2 = y_df[['chi', 'KM02']]\n",
    "df2.plot.scatter(x = 'KM02', y = 'chi')\n",
    "plt.xlabel('k')\n",
    "plt.ylabel('chi')"
   ]
  },
  {
   "cell_type": "markdown",
   "id": "42e9ef3b",
   "metadata": {},
   "source": [
    "Cluster 0, 1, and 2 have approximately the same number of instances. There is no way to create separate labels from the given clusters. "
   ]
  },
  {
   "cell_type": "code",
   "execution_count": 12,
   "id": "97324ecb",
   "metadata": {},
   "outputs": [
    {
     "name": "stdout",
     "output_type": "stream",
     "text": [
      "3    121\n",
      "4     98\n",
      "2     49\n",
      "0     40\n",
      "1     36\n",
      "Name: KM03, dtype: int64\n"
     ]
    },
    {
     "data": {
      "text/plain": [
       "Text(0, 0.5, 'chi')"
      ]
     },
     "execution_count": 12,
     "metadata": {},
     "output_type": "execute_result"
    },
    {
     "data": {
      "image/png": "[encoded data removed]",
      "text/plain": [
       "<Figure size 432x288 with 1 Axes>"
      ]
     },
     "metadata": {
      "needs_background": "light"
     },
     "output_type": "display_data"
    }
   ],
   "source": [
    "print(y_df['KM03'].value_counts())\n",
    "df3 = y_df[['chi', 'KM03']]\n",
    "df3.plot.scatter(x = 'KM03', y = 'chi')\n",
    "plt.xlabel('k')\n",
    "plt.ylabel('chi')"
   ]
  },
  {
   "cell_type": "markdown",
   "id": "8ffe2418",
   "metadata": {},
   "source": [
    "Cluster 0, 1, and 2 have approximately the same number of instances. Cluster 3 and 4 have a larger amount of instances. There is no way to create separate labels from the given clusters. "
   ]
  },
  {
   "cell_type": "code",
   "execution_count": 13,
   "id": "6a91c35e",
   "metadata": {},
   "outputs": [
    {
     "name": "stdout",
     "output_type": "stream",
     "text": [
      "2    211\n",
      "1     80\n",
      "0     53\n",
      "Name: KM04, dtype: int64\n"
     ]
    },
    {
     "data": {
      "text/plain": [
       "Text(0, 0.5, 'chi')"
      ]
     },
     "execution_count": 13,
     "metadata": {},
     "output_type": "execute_result"
    },
    {
     "data": {
      "image/png": "[encoded data removed]",
      "text/plain": [
       "<Figure size 432x288 with 1 Axes>"
      ]
     },
     "metadata": {
      "needs_background": "light"
     },
     "output_type": "display_data"
    }
   ],
   "source": [
    "print(y_df['KM04'].value_counts())\n",
    "df4 = y_df[['chi', 'KM04']]\n",
    "df4.plot.scatter(x = 'KM04', y = 'chi')\n",
    "plt.xlabel('k')\n",
    "plt.ylabel('chi')"
   ]
  },
  {
   "cell_type": "markdown",
   "id": "e92a60dc",
   "metadata": {},
   "source": [
    "Cluster 2 has the majority of the data instances. There is no way to create separate labels from the given clusters. "
   ]
  },
  {
   "cell_type": "markdown",
   "id": "5f396b8f",
   "metadata": {},
   "source": [
    "While this is not ideal, let's use k = 2 for k-means clustering. I want to see whether this will change how the chi values are spread across the clusters."
   ]
  },
  {
   "cell_type": "code",
   "execution_count": 14,
   "id": "dcad30b5",
   "metadata": {},
   "outputs": [],
   "source": [
    "# extract three features/columns\n",
    "# ustat, alph1, alph2\n",
    "X = X_df.iloc[:,[True, True, True, False]].values\n",
    "\n",
    "# predict labels for K = 2 clusters\n",
    "km = KMeans(n_clusters = 2, init = 'k-means++',  random_state=42)\n",
    "y = km.fit_predict(X)\n",
    "\n",
    "y_df['KM01'] = y"
   ]
  },
  {
   "cell_type": "code",
   "execution_count": 15,
   "id": "aa179ccf",
   "metadata": {},
   "outputs": [],
   "source": [
    "# ustat, alph1, beta\n",
    "X = X_df.iloc[:,[True, True, False, True]].values\n",
    "\n",
    "# predict labels for K = 2 clusters\n",
    "km = KMeans(n_clusters = 2, init = 'k-means++',  random_state=42)\n",
    "y = km.fit_predict(X)\n",
    "\n",
    "y_df['KM02'] = y"
   ]
  },
  {
   "cell_type": "code",
   "execution_count": 16,
   "id": "850fec77",
   "metadata": {},
   "outputs": [],
   "source": [
    "# ustat, alph2, beta\n",
    "X = X_df.iloc[:,[True, False, True, True]].values\n",
    "\n",
    "# predict labels for K = 2 clusters\n",
    "km = KMeans(n_clusters = 2, init = 'k-means++',  random_state=42)\n",
    "y = km.fit_predict(X)\n",
    "\n",
    "y_df['KM03'] = y"
   ]
  },
  {
   "cell_type": "code",
   "execution_count": 17,
   "id": "b904367b",
   "metadata": {},
   "outputs": [],
   "source": [
    "# alph1, alph2, beta\n",
    "X = X_df.iloc[:,[False, True, True, True]].values\n",
    "\n",
    "# predict labels for K = 2 clusters\n",
    "km = KMeans(n_clusters = 2, init = 'k-means++',  random_state=42)\n",
    "y = km.fit_predict(X)\n",
    "\n",
    "y_df['KM04'] = y"
   ]
  },
  {
   "cell_type": "code",
   "execution_count": 18,
   "id": "48d083b8",
   "metadata": {},
   "outputs": [
    {
     "name": "stdout",
     "output_type": "stream",
     "text": [
      "1    287\n",
      "0     57\n",
      "Name: KM01, dtype: int64\n"
     ]
    },
    {
     "data": {
      "text/plain": [
       "Text(0, 0.5, 'chi')"
      ]
     },
     "execution_count": 18,
     "metadata": {},
     "output_type": "execute_result"
    },
    {
     "data": {
      "image/png": "[encoded data removed]",
      "text/plain": [
       "<Figure size 432x288 with 1 Axes>"
      ]
     },
     "metadata": {
      "needs_background": "light"
     },
     "output_type": "display_data"
    }
   ],
   "source": [
    "print(y_df['KM01'].value_counts())\n",
    "df1 = y_df[['chi', 'KM01']]\n",
    "df1.plot.scatter(x = 'KM01', y = 'chi')\n",
    "plt.xlabel('k')\n",
    "plt.ylabel('chi')"
   ]
  },
  {
   "cell_type": "code",
   "execution_count": 19,
   "id": "e272cd15",
   "metadata": {},
   "outputs": [
    {
     "name": "stdout",
     "output_type": "stream",
     "text": [
      "1    215\n",
      "0    129\n",
      "Name: KM02, dtype: int64\n"
     ]
    },
    {
     "data": {
      "text/plain": [
       "Text(0, 0.5, 'chi')"
      ]
     },
     "execution_count": 19,
     "metadata": {},
     "output_type": "execute_result"
    },
    {
     "data": {
      "image/png": "[encoded data removed]",
      "text/plain": [
       "<Figure size 432x288 with 1 Axes>"
      ]
     },
     "metadata": {
      "needs_background": "light"
     },
     "output_type": "display_data"
    }
   ],
   "source": [
    "print(y_df['KM02'].value_counts())\n",
    "df2 = y_df[['chi', 'KM02']]\n",
    "df2.plot.scatter(x = 'KM02', y = 'chi')\n",
    "plt.xlabel('k')\n",
    "plt.ylabel('chi')"
   ]
  },
  {
   "cell_type": "code",
   "execution_count": 20,
   "id": "c424fe77",
   "metadata": {},
   "outputs": [
    {
     "name": "stdout",
     "output_type": "stream",
     "text": [
      "1    201\n",
      "0    143\n",
      "Name: KM03, dtype: int64\n"
     ]
    },
    {
     "data": {
      "text/plain": [
       "Text(0, 0.5, 'chi')"
      ]
     },
     "execution_count": 20,
     "metadata": {},
     "output_type": "execute_result"
    },
    {
     "data": {
      "image/png": "[encoded data removed]",
      "text/plain": [
       "<Figure size 432x288 with 1 Axes>"
      ]
     },
     "metadata": {
      "needs_background": "light"
     },
     "output_type": "display_data"
    }
   ],
   "source": [
    "print(y_df['KM03'].value_counts())\n",
    "df3 = y_df[['chi', 'KM03']]\n",
    "df3.plot.scatter(x = 'KM03', y = 'chi')\n",
    "plt.xlabel('k')\n",
    "plt.ylabel('chi')"
   ]
  },
  {
   "cell_type": "code",
   "execution_count": 21,
   "id": "b02fdb90",
   "metadata": {},
   "outputs": [
    {
     "name": "stdout",
     "output_type": "stream",
     "text": [
      "0    227\n",
      "1    117\n",
      "Name: KM04, dtype: int64\n"
     ]
    },
    {
     "data": {
      "text/plain": [
       "Text(0, 0.5, 'chi')"
      ]
     },
     "execution_count": 21,
     "metadata": {},
     "output_type": "execute_result"
    },
    {
     "data": {
      "image/png": "[encoded data removed]",
      "text/plain": [
       "<Figure size 432x288 with 1 Axes>"
      ]
     },
     "metadata": {
      "needs_background": "light"
     },
     "output_type": "display_data"
    }
   ],
   "source": [
    "print(y_df['KM04'].value_counts())\n",
    "df4 = y_df[['chi', 'KM04']]\n",
    "df4.plot.scatter(x = 'KM04', y = 'chi')\n",
    "plt.xlabel('k')\n",
    "plt.ylabel('chi')"
   ]
  },
  {
   "cell_type": "markdown",
   "id": "88687d00",
   "metadata": {},
   "source": [
    "Power transforming the data and performing k-Means clustering was not successful in separating the chi values into different labels. Perhaps more work can be done on the data. "
   ]
  },
  {
   "cell_type": "markdown",
   "id": "8c8a8039",
   "metadata": {},
   "source": [
    "One idea: KM03 (k = 2) has about roughly about the same number of instances for both clusters. Cluster 0 appears to occupy a smaller range compared to Cluster 1. If we can exclude that range of chi values from Cluster 1, then we can potentially create labels for the data. Granted, by doing this: (1) there will be less data in the overall dataset and (2) the model accuracy might suffer a little bit."
   ]
  }
 ],
 "metadata": {
  "kernelspec": {
   "display_name": "Python 3 (ipykernel)",
   "language": "python",
   "name": "python3"
  },
  "language_info": {
   "codemirror_mode": {
    "name": "ipython",
    "version": 3
   },
   "file_extension": ".py",
   "mimetype": "text/x-python",
   "name": "python",
   "nbconvert_exporter": "python",
   "pygments_lexer": "ipython3",
   "version": "3.9.12"
  }
 },
 "nbformat": 4,
 "nbformat_minor": 5
}
