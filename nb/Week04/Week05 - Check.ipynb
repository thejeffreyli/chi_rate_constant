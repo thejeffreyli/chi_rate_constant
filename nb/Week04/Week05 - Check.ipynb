{
 "cells": [
  {
   "cell_type": "code",
   "execution_count": 1,
   "id": "bcc9d281",
   "metadata": {},
   "outputs": [],
   "source": [
    "import pandas as pd\n",
    "import numpy as np\n",
    "import matplotlib.pyplot as plt\n",
    "import seaborn as sns\n",
    "\n",
    "import matplotlib\n",
    "import sklearn "
   ]
  },
  {
   "cell_type": "markdown",
   "id": "25593787",
   "metadata": {},
   "source": [
    "#### Create new dataset with all the original variables, as well as 'chi_label' and 'diff.'"
   ]
  },
  {
   "cell_type": "code",
   "execution_count": 2,
   "id": "d67bf68e",
   "metadata": {},
   "outputs": [
    {
     "data": {
      "text/html": [
       "<div>\n",
       "<style scoped>\n",
       "    .dataframe tbody tr th:only-of-type {\n",
       "        vertical-align: middle;\n",
       "    }\n",
       "\n",
       "    .dataframe tbody tr th {\n",
       "        vertical-align: top;\n",
       "    }\n",
       "\n",
       "    .dataframe thead th {\n",
       "        text-align: right;\n",
       "    }\n",
       "</style>\n",
       "<table border=\"1\" class=\"dataframe\">\n",
       "  <thead>\n",
       "    <tr style=\"text-align: right;\">\n",
       "      <th></th>\n",
       "      <th>ustat</th>\n",
       "      <th>alph1</th>\n",
       "      <th>alph2</th>\n",
       "      <th>beta</th>\n",
       "      <th>chi</th>\n",
       "    </tr>\n",
       "  </thead>\n",
       "  <tbody>\n",
       "    <tr>\n",
       "      <th>0</th>\n",
       "      <td>8.408213</td>\n",
       "      <td>2.344511</td>\n",
       "      <td>2.344511</td>\n",
       "      <td>60.0</td>\n",
       "      <td>1.094479</td>\n",
       "    </tr>\n",
       "    <tr>\n",
       "      <th>1</th>\n",
       "      <td>7.006844</td>\n",
       "      <td>2.344511</td>\n",
       "      <td>2.344511</td>\n",
       "      <td>60.0</td>\n",
       "      <td>0.840347</td>\n",
       "    </tr>\n",
       "    <tr>\n",
       "      <th>2</th>\n",
       "      <td>5.255133</td>\n",
       "      <td>2.344511</td>\n",
       "      <td>2.344511</td>\n",
       "      <td>60.0</td>\n",
       "      <td>0.772829</td>\n",
       "    </tr>\n",
       "    <tr>\n",
       "      <th>3</th>\n",
       "      <td>3.503422</td>\n",
       "      <td>2.344511</td>\n",
       "      <td>2.344511</td>\n",
       "      <td>60.0</td>\n",
       "      <td>0.811944</td>\n",
       "    </tr>\n",
       "    <tr>\n",
       "      <th>4</th>\n",
       "      <td>2.102053</td>\n",
       "      <td>2.344511</td>\n",
       "      <td>2.344511</td>\n",
       "      <td>60.0</td>\n",
       "      <td>0.844523</td>\n",
       "    </tr>\n",
       "  </tbody>\n",
       "</table>\n",
       "</div>"
      ],
      "text/plain": [
       "      ustat     alph1     alph2  beta       chi\n",
       "0  8.408213  2.344511  2.344511  60.0  1.094479\n",
       "1  7.006844  2.344511  2.344511  60.0  0.840347\n",
       "2  5.255133  2.344511  2.344511  60.0  0.772829\n",
       "3  3.503422  2.344511  2.344511  60.0  0.811944\n",
       "4  2.102053  2.344511  2.344511  60.0  0.844523"
      ]
     },
     "execution_count": 2,
     "metadata": {},
     "output_type": "execute_result"
    }
   ],
   "source": [
    "data = np.genfromtxt(\"../../data/data.dat\")\n",
    "data = np.delete(data, 0, 0)\n",
    "df = pd.DataFrame(data, columns = ['ustat','alph1','alph2', 'beta', 'chi'])\n",
    "df.head()"
   ]
  },
  {
   "cell_type": "markdown",
   "id": "ef347cb2",
   "metadata": {},
   "source": [
    "#### Save original data as csv file."
   ]
  },
  {
   "cell_type": "code",
   "execution_count": 3,
   "id": "6971d767",
   "metadata": {},
   "outputs": [],
   "source": [
    "df.to_csv(\"../../data/processed/week05_original_data.csv\", index = False)"
   ]
  },
  {
   "cell_type": "code",
   "execution_count": 4,
   "id": "57e77835",
   "metadata": {},
   "outputs": [],
   "source": [
    "df = df.loc[df['ustat'] >= 5.26]\n",
    "df = df.loc[df['ustat'] < 12.60]"
   ]
  },
  {
   "cell_type": "code",
   "execution_count": 5,
   "id": "b659a9c7",
   "metadata": {},
   "outputs": [
    {
     "data": {
      "text/html": [
       "<div>\n",
       "<style scoped>\n",
       "    .dataframe tbody tr th:only-of-type {\n",
       "        vertical-align: middle;\n",
       "    }\n",
       "\n",
       "    .dataframe tbody tr th {\n",
       "        vertical-align: top;\n",
       "    }\n",
       "\n",
       "    .dataframe thead th {\n",
       "        text-align: right;\n",
       "    }\n",
       "</style>\n",
       "<table border=\"1\" class=\"dataframe\">\n",
       "  <thead>\n",
       "    <tr style=\"text-align: right;\">\n",
       "      <th></th>\n",
       "      <th>ustat</th>\n",
       "      <th>alph1</th>\n",
       "      <th>alph2</th>\n",
       "      <th>beta</th>\n",
       "      <th>chi</th>\n",
       "    </tr>\n",
       "  </thead>\n",
       "  <tbody>\n",
       "    <tr>\n",
       "      <th>0</th>\n",
       "      <td>8.408213</td>\n",
       "      <td>2.344511</td>\n",
       "      <td>2.344511</td>\n",
       "      <td>60.0</td>\n",
       "      <td>1.094479</td>\n",
       "    </tr>\n",
       "    <tr>\n",
       "      <th>1</th>\n",
       "      <td>7.006844</td>\n",
       "      <td>2.344511</td>\n",
       "      <td>2.344511</td>\n",
       "      <td>60.0</td>\n",
       "      <td>0.840347</td>\n",
       "    </tr>\n",
       "    <tr>\n",
       "      <th>2</th>\n",
       "      <td>10.833991</td>\n",
       "      <td>2.276779</td>\n",
       "      <td>2.276779</td>\n",
       "      <td>60.0</td>\n",
       "      <td>1.168432</td>\n",
       "    </tr>\n",
       "    <tr>\n",
       "      <th>3</th>\n",
       "      <td>8.667192</td>\n",
       "      <td>2.276779</td>\n",
       "      <td>2.276779</td>\n",
       "      <td>60.0</td>\n",
       "      <td>0.882475</td>\n",
       "    </tr>\n",
       "    <tr>\n",
       "      <th>4</th>\n",
       "      <td>7.222660</td>\n",
       "      <td>2.276779</td>\n",
       "      <td>2.276779</td>\n",
       "      <td>60.0</td>\n",
       "      <td>0.837454</td>\n",
       "    </tr>\n",
       "  </tbody>\n",
       "</table>\n",
       "</div>"
      ],
      "text/plain": [
       "       ustat     alph1     alph2  beta       chi\n",
       "0   8.408213  2.344511  2.344511  60.0  1.094479\n",
       "1   7.006844  2.344511  2.344511  60.0  0.840347\n",
       "2  10.833991  2.276779  2.276779  60.0  1.168432\n",
       "3   8.667192  2.276779  2.276779  60.0  0.882475\n",
       "4   7.222660  2.276779  2.276779  60.0  0.837454"
      ]
     },
     "execution_count": 5,
     "metadata": {},
     "output_type": "execute_result"
    }
   ],
   "source": [
    "df = df.reset_index(drop=True)\n",
    "df.head()"
   ]
  },
  {
   "cell_type": "code",
   "execution_count": 6,
   "id": "f8cebe3d",
   "metadata": {},
   "outputs": [],
   "source": [
    "# diff = |alph1 - alph2|\n",
    "diff = []\n",
    "\n",
    "for i in range(len(df['alph1'])):\n",
    "    diff.append(abs(df['alph1'][i] - df['alph2'][i]))\n",
    "    \n",
    "df['diff'] = diff"
   ]
  },
  {
   "cell_type": "code",
   "execution_count": 7,
   "id": "6595775a",
   "metadata": {},
   "outputs": [],
   "source": [
    "# CHI\n",
    "\n",
    "# small chi = 0\n",
    "# large chi = 1\n",
    "labels = []\n",
    "for i in df['chi']:\n",
    "    if i < 3:\n",
    "        labels.append(0)\n",
    "    else:\n",
    "        labels.append(1)\n",
    "        \n",
    "df['chi_label'] = labels"
   ]
  },
  {
   "cell_type": "code",
   "execution_count": 8,
   "id": "2853adf1",
   "metadata": {},
   "outputs": [
    {
     "data": {
      "text/html": [
       "<div>\n",
       "<style scoped>\n",
       "    .dataframe tbody tr th:only-of-type {\n",
       "        vertical-align: middle;\n",
       "    }\n",
       "\n",
       "    .dataframe tbody tr th {\n",
       "        vertical-align: top;\n",
       "    }\n",
       "\n",
       "    .dataframe thead th {\n",
       "        text-align: right;\n",
       "    }\n",
       "</style>\n",
       "<table border=\"1\" class=\"dataframe\">\n",
       "  <thead>\n",
       "    <tr style=\"text-align: right;\">\n",
       "      <th></th>\n",
       "      <th>ustat</th>\n",
       "      <th>alph1</th>\n",
       "      <th>alph2</th>\n",
       "      <th>beta</th>\n",
       "      <th>chi</th>\n",
       "      <th>diff</th>\n",
       "      <th>chi_label</th>\n",
       "    </tr>\n",
       "  </thead>\n",
       "  <tbody>\n",
       "    <tr>\n",
       "      <th>0</th>\n",
       "      <td>8.408213</td>\n",
       "      <td>2.344511</td>\n",
       "      <td>2.344511</td>\n",
       "      <td>60.0</td>\n",
       "      <td>1.094479</td>\n",
       "      <td>0.0</td>\n",
       "      <td>0</td>\n",
       "    </tr>\n",
       "    <tr>\n",
       "      <th>1</th>\n",
       "      <td>7.006844</td>\n",
       "      <td>2.344511</td>\n",
       "      <td>2.344511</td>\n",
       "      <td>60.0</td>\n",
       "      <td>0.840347</td>\n",
       "      <td>0.0</td>\n",
       "      <td>0</td>\n",
       "    </tr>\n",
       "    <tr>\n",
       "      <th>2</th>\n",
       "      <td>10.833991</td>\n",
       "      <td>2.276779</td>\n",
       "      <td>2.276779</td>\n",
       "      <td>60.0</td>\n",
       "      <td>1.168432</td>\n",
       "      <td>0.0</td>\n",
       "      <td>0</td>\n",
       "    </tr>\n",
       "    <tr>\n",
       "      <th>3</th>\n",
       "      <td>8.667192</td>\n",
       "      <td>2.276779</td>\n",
       "      <td>2.276779</td>\n",
       "      <td>60.0</td>\n",
       "      <td>0.882475</td>\n",
       "      <td>0.0</td>\n",
       "      <td>0</td>\n",
       "    </tr>\n",
       "    <tr>\n",
       "      <th>4</th>\n",
       "      <td>7.222660</td>\n",
       "      <td>2.276779</td>\n",
       "      <td>2.276779</td>\n",
       "      <td>60.0</td>\n",
       "      <td>0.837454</td>\n",
       "      <td>0.0</td>\n",
       "      <td>0</td>\n",
       "    </tr>\n",
       "  </tbody>\n",
       "</table>\n",
       "</div>"
      ],
      "text/plain": [
       "       ustat     alph1     alph2  beta       chi  diff  chi_label\n",
       "0   8.408213  2.344511  2.344511  60.0  1.094479   0.0          0\n",
       "1   7.006844  2.344511  2.344511  60.0  0.840347   0.0          0\n",
       "2  10.833991  2.276779  2.276779  60.0  1.168432   0.0          0\n",
       "3   8.667192  2.276779  2.276779  60.0  0.882475   0.0          0\n",
       "4   7.222660  2.276779  2.276779  60.0  0.837454   0.0          0"
      ]
     },
     "execution_count": 8,
     "metadata": {},
     "output_type": "execute_result"
    }
   ],
   "source": [
    "df.head()"
   ]
  },
  {
   "cell_type": "code",
   "execution_count": 9,
   "id": "8cb06d1e",
   "metadata": {},
   "outputs": [
    {
     "name": "stdout",
     "output_type": "stream",
     "text": [
      "<class 'pandas.core.frame.DataFrame'>\n",
      "RangeIndex: 128 entries, 0 to 127\n",
      "Data columns (total 7 columns):\n",
      " #   Column     Non-Null Count  Dtype  \n",
      "---  ------     --------------  -----  \n",
      " 0   ustat      128 non-null    float64\n",
      " 1   alph1      128 non-null    float64\n",
      " 2   alph2      128 non-null    float64\n",
      " 3   beta       128 non-null    float64\n",
      " 4   chi        128 non-null    float64\n",
      " 5   diff       128 non-null    float64\n",
      " 6   chi_label  128 non-null    int64  \n",
      "dtypes: float64(6), int64(1)\n",
      "memory usage: 7.1 KB\n"
     ]
    }
   ],
   "source": [
    "df.info()"
   ]
  },
  {
   "cell_type": "code",
   "execution_count": 10,
   "id": "13dc3946",
   "metadata": {},
   "outputs": [],
   "source": [
    "df.to_csv(\"../../data/processed/week05_overlap_data.csv\", index = False)"
   ]
  }
 ],
 "metadata": {
  "kernelspec": {
   "display_name": "Python 3 (ipykernel)",
   "language": "python",
   "name": "python3"
  },
  "language_info": {
   "codemirror_mode": {
    "name": "ipython",
    "version": 3
   },
   "file_extension": ".py",
   "mimetype": "text/x-python",
   "name": "python",
   "nbconvert_exporter": "python",
   "pygments_lexer": "ipython3",
   "version": "3.9.12"
  }
 },
 "nbformat": 4,
 "nbformat_minor": 5
}
