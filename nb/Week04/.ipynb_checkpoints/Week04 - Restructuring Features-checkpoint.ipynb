{
 "cells": [
  {
   "cell_type": "code",
   "execution_count": 1,
   "id": "bcc9d281",
   "metadata": {},
   "outputs": [],
   "source": [
    "import pandas as pd\n",
    "import numpy as np\n",
    "import matplotlib.pyplot as plt\n",
    "import seaborn as sns\n",
    "\n",
    "import matplotlib\n",
    "import sklearn "
   ]
  },
  {
   "cell_type": "markdown",
   "id": "25593787",
   "metadata": {},
   "source": [
    "#### Create new dataset with all the original variables, as well as 'chi_label' and 'diff.'"
   ]
  },
  {
   "cell_type": "code",
   "execution_count": 2,
   "id": "d67bf68e",
   "metadata": {},
   "outputs": [
    {
     "data": {
      "text/html": [
       "<div>\n",
       "<style scoped>\n",
       "    .dataframe tbody tr th:only-of-type {\n",
       "        vertical-align: middle;\n",
       "    }\n",
       "\n",
       "    .dataframe tbody tr th {\n",
       "        vertical-align: top;\n",
       "    }\n",
       "\n",
       "    .dataframe thead th {\n",
       "        text-align: right;\n",
       "    }\n",
       "</style>\n",
       "<table border=\"1\" class=\"dataframe\">\n",
       "  <thead>\n",
       "    <tr style=\"text-align: right;\">\n",
       "      <th></th>\n",
       "      <th>ustat</th>\n",
       "      <th>alph1</th>\n",
       "      <th>alph2</th>\n",
       "      <th>beta</th>\n",
       "      <th>chi</th>\n",
       "    </tr>\n",
       "  </thead>\n",
       "  <tbody>\n",
       "    <tr>\n",
       "      <th>0</th>\n",
       "      <td>8.408213</td>\n",
       "      <td>2.344511</td>\n",
       "      <td>2.344511</td>\n",
       "      <td>60.0</td>\n",
       "      <td>1.094479</td>\n",
       "    </tr>\n",
       "    <tr>\n",
       "      <th>1</th>\n",
       "      <td>7.006844</td>\n",
       "      <td>2.344511</td>\n",
       "      <td>2.344511</td>\n",
       "      <td>60.0</td>\n",
       "      <td>0.840347</td>\n",
       "    </tr>\n",
       "    <tr>\n",
       "      <th>2</th>\n",
       "      <td>5.255133</td>\n",
       "      <td>2.344511</td>\n",
       "      <td>2.344511</td>\n",
       "      <td>60.0</td>\n",
       "      <td>0.772829</td>\n",
       "    </tr>\n",
       "    <tr>\n",
       "      <th>3</th>\n",
       "      <td>3.503422</td>\n",
       "      <td>2.344511</td>\n",
       "      <td>2.344511</td>\n",
       "      <td>60.0</td>\n",
       "      <td>0.811944</td>\n",
       "    </tr>\n",
       "    <tr>\n",
       "      <th>4</th>\n",
       "      <td>2.102053</td>\n",
       "      <td>2.344511</td>\n",
       "      <td>2.344511</td>\n",
       "      <td>60.0</td>\n",
       "      <td>0.844523</td>\n",
       "    </tr>\n",
       "  </tbody>\n",
       "</table>\n",
       "</div>"
      ],
      "text/plain": [
       "      ustat     alph1     alph2  beta       chi\n",
       "0  8.408213  2.344511  2.344511  60.0  1.094479\n",
       "1  7.006844  2.344511  2.344511  60.0  0.840347\n",
       "2  5.255133  2.344511  2.344511  60.0  0.772829\n",
       "3  3.503422  2.344511  2.344511  60.0  0.811944\n",
       "4  2.102053  2.344511  2.344511  60.0  0.844523"
      ]
     },
     "execution_count": 2,
     "metadata": {},
     "output_type": "execute_result"
    }
   ],
   "source": [
    "data = np.genfromtxt(\"../../data/data.dat\")\n",
    "data = np.delete(data, 0, 0)\n",
    "df = pd.DataFrame(data, columns = ['ustat','alph1','alph2', 'beta', 'chi'])\n",
    "df.head()"
   ]
  },
  {
   "cell_type": "code",
   "execution_count": 3,
   "id": "57e77835",
   "metadata": {},
   "outputs": [],
   "source": [
    "df = df.loc[df['ustat'] >= 5.26]\n",
    "df = df.loc[df['ustat'] < 12.60]"
   ]
  },
  {
   "cell_type": "code",
   "execution_count": 4,
   "id": "b659a9c7",
   "metadata": {},
   "outputs": [
    {
     "data": {
      "text/html": [
       "<div>\n",
       "<style scoped>\n",
       "    .dataframe tbody tr th:only-of-type {\n",
       "        vertical-align: middle;\n",
       "    }\n",
       "\n",
       "    .dataframe tbody tr th {\n",
       "        vertical-align: top;\n",
       "    }\n",
       "\n",
       "    .dataframe thead th {\n",
       "        text-align: right;\n",
       "    }\n",
       "</style>\n",
       "<table border=\"1\" class=\"dataframe\">\n",
       "  <thead>\n",
       "    <tr style=\"text-align: right;\">\n",
       "      <th></th>\n",
       "      <th>ustat</th>\n",
       "      <th>alph1</th>\n",
       "      <th>alph2</th>\n",
       "      <th>beta</th>\n",
       "      <th>chi</th>\n",
       "    </tr>\n",
       "  </thead>\n",
       "  <tbody>\n",
       "    <tr>\n",
       "      <th>0</th>\n",
       "      <td>8.408213</td>\n",
       "      <td>2.344511</td>\n",
       "      <td>2.344511</td>\n",
       "      <td>60.0</td>\n",
       "      <td>1.094479</td>\n",
       "    </tr>\n",
       "    <tr>\n",
       "      <th>1</th>\n",
       "      <td>7.006844</td>\n",
       "      <td>2.344511</td>\n",
       "      <td>2.344511</td>\n",
       "      <td>60.0</td>\n",
       "      <td>0.840347</td>\n",
       "    </tr>\n",
       "    <tr>\n",
       "      <th>2</th>\n",
       "      <td>10.833991</td>\n",
       "      <td>2.276779</td>\n",
       "      <td>2.276779</td>\n",
       "      <td>60.0</td>\n",
       "      <td>1.168432</td>\n",
       "    </tr>\n",
       "    <tr>\n",
       "      <th>3</th>\n",
       "      <td>8.667192</td>\n",
       "      <td>2.276779</td>\n",
       "      <td>2.276779</td>\n",
       "      <td>60.0</td>\n",
       "      <td>0.882475</td>\n",
       "    </tr>\n",
       "    <tr>\n",
       "      <th>4</th>\n",
       "      <td>7.222660</td>\n",
       "      <td>2.276779</td>\n",
       "      <td>2.276779</td>\n",
       "      <td>60.0</td>\n",
       "      <td>0.837454</td>\n",
       "    </tr>\n",
       "  </tbody>\n",
       "</table>\n",
       "</div>"
      ],
      "text/plain": [
       "       ustat     alph1     alph2  beta       chi\n",
       "0   8.408213  2.344511  2.344511  60.0  1.094479\n",
       "1   7.006844  2.344511  2.344511  60.0  0.840347\n",
       "2  10.833991  2.276779  2.276779  60.0  1.168432\n",
       "3   8.667192  2.276779  2.276779  60.0  0.882475\n",
       "4   7.222660  2.276779  2.276779  60.0  0.837454"
      ]
     },
     "execution_count": 4,
     "metadata": {},
     "output_type": "execute_result"
    }
   ],
   "source": [
    "df = df.reset_index(drop=True)\n",
    "df.head()"
   ]
  },
  {
   "cell_type": "code",
   "execution_count": 5,
   "id": "f8cebe3d",
   "metadata": {},
   "outputs": [],
   "source": [
    "# diff = |alph1 - alph2|\n",
    "diff = []\n",
    "\n",
    "for i in range(len(df['alph1'])):\n",
    "    diff.append(abs(df['alph1'][i] - df['alph2'][i]))\n",
    "    \n",
    "df['diff'] = diff"
   ]
  },
  {
   "cell_type": "code",
   "execution_count": 6,
   "id": "6595775a",
   "metadata": {},
   "outputs": [],
   "source": [
    "# CHI\n",
    "\n",
    "# small chi = 0\n",
    "# large chi = 1\n",
    "labels = []\n",
    "for i in df['chi']:\n",
    "    if i < 3:\n",
    "        labels.append(0)\n",
    "    else:\n",
    "        labels.append(1)\n",
    "        \n",
    "df['chi_label'] = labels"
   ]
  },
  {
   "cell_type": "code",
   "execution_count": 24,
   "id": "2853adf1",
   "metadata": {},
   "outputs": [
    {
     "data": {
      "text/html": [
       "<div>\n",
       "<style scoped>\n",
       "    .dataframe tbody tr th:only-of-type {\n",
       "        vertical-align: middle;\n",
       "    }\n",
       "\n",
       "    .dataframe tbody tr th {\n",
       "        vertical-align: top;\n",
       "    }\n",
       "\n",
       "    .dataframe thead th {\n",
       "        text-align: right;\n",
       "    }\n",
       "</style>\n",
       "<table border=\"1\" class=\"dataframe\">\n",
       "  <thead>\n",
       "    <tr style=\"text-align: right;\">\n",
       "      <th></th>\n",
       "      <th>ustat</th>\n",
       "      <th>alph1</th>\n",
       "      <th>alph2</th>\n",
       "      <th>beta</th>\n",
       "      <th>chi</th>\n",
       "      <th>diff</th>\n",
       "      <th>chi_label</th>\n",
       "    </tr>\n",
       "  </thead>\n",
       "  <tbody>\n",
       "    <tr>\n",
       "      <th>0</th>\n",
       "      <td>8.408213</td>\n",
       "      <td>2.344511</td>\n",
       "      <td>2.344511</td>\n",
       "      <td>60.0</td>\n",
       "      <td>1.094479</td>\n",
       "      <td>0.0</td>\n",
       "      <td>0</td>\n",
       "    </tr>\n",
       "    <tr>\n",
       "      <th>1</th>\n",
       "      <td>7.006844</td>\n",
       "      <td>2.344511</td>\n",
       "      <td>2.344511</td>\n",
       "      <td>60.0</td>\n",
       "      <td>0.840347</td>\n",
       "      <td>0.0</td>\n",
       "      <td>0</td>\n",
       "    </tr>\n",
       "    <tr>\n",
       "      <th>2</th>\n",
       "      <td>10.833991</td>\n",
       "      <td>2.276779</td>\n",
       "      <td>2.276779</td>\n",
       "      <td>60.0</td>\n",
       "      <td>1.168432</td>\n",
       "      <td>0.0</td>\n",
       "      <td>0</td>\n",
       "    </tr>\n",
       "    <tr>\n",
       "      <th>3</th>\n",
       "      <td>8.667192</td>\n",
       "      <td>2.276779</td>\n",
       "      <td>2.276779</td>\n",
       "      <td>60.0</td>\n",
       "      <td>0.882475</td>\n",
       "      <td>0.0</td>\n",
       "      <td>0</td>\n",
       "    </tr>\n",
       "    <tr>\n",
       "      <th>4</th>\n",
       "      <td>7.222660</td>\n",
       "      <td>2.276779</td>\n",
       "      <td>2.276779</td>\n",
       "      <td>60.0</td>\n",
       "      <td>0.837454</td>\n",
       "      <td>0.0</td>\n",
       "      <td>0</td>\n",
       "    </tr>\n",
       "  </tbody>\n",
       "</table>\n",
       "</div>"
      ],
      "text/plain": [
       "       ustat     alph1     alph2  beta       chi  diff  chi_label\n",
       "0   8.408213  2.344511  2.344511  60.0  1.094479   0.0          0\n",
       "1   7.006844  2.344511  2.344511  60.0  0.840347   0.0          0\n",
       "2  10.833991  2.276779  2.276779  60.0  1.168432   0.0          0\n",
       "3   8.667192  2.276779  2.276779  60.0  0.882475   0.0          0\n",
       "4   7.222660  2.276779  2.276779  60.0  0.837454   0.0          0"
      ]
     },
     "execution_count": 24,
     "metadata": {},
     "output_type": "execute_result"
    }
   ],
   "source": [
    "df.head()"
   ]
  },
  {
   "cell_type": "code",
   "execution_count": 25,
   "id": "8cb06d1e",
   "metadata": {},
   "outputs": [
    {
     "name": "stdout",
     "output_type": "stream",
     "text": [
      "<class 'pandas.core.frame.DataFrame'>\n",
      "RangeIndex: 128 entries, 0 to 127\n",
      "Data columns (total 7 columns):\n",
      " #   Column     Non-Null Count  Dtype  \n",
      "---  ------     --------------  -----  \n",
      " 0   ustat      128 non-null    float64\n",
      " 1   alph1      128 non-null    float64\n",
      " 2   alph2      128 non-null    float64\n",
      " 3   beta       128 non-null    float64\n",
      " 4   chi        128 non-null    float64\n",
      " 5   diff       128 non-null    float64\n",
      " 6   chi_label  128 non-null    int64  \n",
      "dtypes: float64(6), int64(1)\n",
      "memory usage: 7.1 KB\n"
     ]
    }
   ],
   "source": [
    "df.info()"
   ]
  },
  {
   "cell_type": "code",
   "execution_count": 8,
   "id": "13dc3946",
   "metadata": {},
   "outputs": [],
   "source": [
    "# df.to_csv(\"../../data/processed/week04_overlap_data.csv\", index = False)"
   ]
  },
  {
   "cell_type": "markdown",
   "id": "a45bc6d2",
   "metadata": {},
   "source": [
    "#### Data Exploration with 'Overlap' Data"
   ]
  },
  {
   "cell_type": "markdown",
   "id": "ab45795a",
   "metadata": {},
   "source": [
    "We want to understand current smaller dataset and uncover relationship among features and target."
   ]
  },
  {
   "cell_type": "code",
   "execution_count": 4,
   "id": "366f8019",
   "metadata": {},
   "outputs": [
    {
     "data": {
      "text/html": [
       "<div>\n",
       "<style scoped>\n",
       "    .dataframe tbody tr th:only-of-type {\n",
       "        vertical-align: middle;\n",
       "    }\n",
       "\n",
       "    .dataframe tbody tr th {\n",
       "        vertical-align: top;\n",
       "    }\n",
       "\n",
       "    .dataframe thead th {\n",
       "        text-align: right;\n",
       "    }\n",
       "</style>\n",
       "<table border=\"1\" class=\"dataframe\">\n",
       "  <thead>\n",
       "    <tr style=\"text-align: right;\">\n",
       "      <th></th>\n",
       "      <th>ustat</th>\n",
       "      <th>alph1</th>\n",
       "      <th>alph2</th>\n",
       "      <th>beta</th>\n",
       "      <th>chi</th>\n",
       "      <th>diff</th>\n",
       "    </tr>\n",
       "  </thead>\n",
       "  <tbody>\n",
       "    <tr>\n",
       "      <th>0</th>\n",
       "      <td>8.408213</td>\n",
       "      <td>2.344511</td>\n",
       "      <td>2.344511</td>\n",
       "      <td>60.0</td>\n",
       "      <td>0</td>\n",
       "      <td>0.0</td>\n",
       "    </tr>\n",
       "    <tr>\n",
       "      <th>1</th>\n",
       "      <td>7.006844</td>\n",
       "      <td>2.344511</td>\n",
       "      <td>2.344511</td>\n",
       "      <td>60.0</td>\n",
       "      <td>0</td>\n",
       "      <td>0.0</td>\n",
       "    </tr>\n",
       "    <tr>\n",
       "      <th>2</th>\n",
       "      <td>10.833991</td>\n",
       "      <td>2.276779</td>\n",
       "      <td>2.276779</td>\n",
       "      <td>60.0</td>\n",
       "      <td>0</td>\n",
       "      <td>0.0</td>\n",
       "    </tr>\n",
       "    <tr>\n",
       "      <th>3</th>\n",
       "      <td>8.667192</td>\n",
       "      <td>2.276779</td>\n",
       "      <td>2.276779</td>\n",
       "      <td>60.0</td>\n",
       "      <td>0</td>\n",
       "      <td>0.0</td>\n",
       "    </tr>\n",
       "    <tr>\n",
       "      <th>4</th>\n",
       "      <td>7.222660</td>\n",
       "      <td>2.276779</td>\n",
       "      <td>2.276779</td>\n",
       "      <td>60.0</td>\n",
       "      <td>0</td>\n",
       "      <td>0.0</td>\n",
       "    </tr>\n",
       "  </tbody>\n",
       "</table>\n",
       "</div>"
      ],
      "text/plain": [
       "       ustat     alph1     alph2  beta  chi  diff\n",
       "0   8.408213  2.344511  2.344511  60.0    0   0.0\n",
       "1   7.006844  2.344511  2.344511  60.0    0   0.0\n",
       "2  10.833991  2.276779  2.276779  60.0    0   0.0\n",
       "3   8.667192  2.276779  2.276779  60.0    0   0.0\n",
       "4   7.222660  2.276779  2.276779  60.0    0   0.0"
      ]
     },
     "execution_count": 4,
     "metadata": {},
     "output_type": "execute_result"
    }
   ],
   "source": [
    "data = \"../../data/processed/week03_overlap_data.csv\"\n",
    "df = pd.read_csv(data)  \n",
    "df.head()"
   ]
  },
  {
   "cell_type": "code",
   "execution_count": 7,
   "id": "3b89718a",
   "metadata": {},
   "outputs": [
    {
     "name": "stdout",
     "output_type": "stream",
     "text": [
      "<class 'pandas.core.frame.DataFrame'>\n",
      "RangeIndex: 128 entries, 0 to 127\n",
      "Data columns (total 6 columns):\n",
      " #   Column  Non-Null Count  Dtype  \n",
      "---  ------  --------------  -----  \n",
      " 0   ustat   128 non-null    float64\n",
      " 1   alph1   128 non-null    float64\n",
      " 2   alph2   128 non-null    float64\n",
      " 3   beta    128 non-null    float64\n",
      " 4   chi     128 non-null    int64  \n",
      " 5   diff    128 non-null    float64\n",
      "dtypes: float64(5), int64(1)\n",
      "memory usage: 6.1 KB\n"
     ]
    }
   ],
   "source": [
    "df.info()"
   ]
  },
  {
   "cell_type": "code",
   "execution_count": 6,
   "id": "783b5c3c",
   "metadata": {},
   "outputs": [
    {
     "data": {
      "image/png": "[encoded data removed]",
      "text/plain": [
       "<Figure size 432x288 with 2 Axes>"
      ]
     },
     "metadata": {
      "needs_background": "light"
     },
     "output_type": "display_data"
    }
   ],
   "source": [
    "ax = sns.heatmap(df.corr(), vmin=-1, vmax=1, annot=True, cmap=\"YlGnBu\")"
   ]
  },
  {
   "cell_type": "markdown",
   "id": "d5334d22",
   "metadata": {},
   "source": [
    "There is high correlation between alph2 and diff."
   ]
  },
  {
   "cell_type": "code",
   "execution_count": 12,
   "id": "851f8b94",
   "metadata": {},
   "outputs": [],
   "source": [
    "colors = ['red', 'blue']"
   ]
  },
  {
   "cell_type": "code",
   "execution_count": 16,
   "id": "e10b97e4",
   "metadata": {},
   "outputs": [
    {
     "data": {
      "text/plain": [
       "<AxesSubplot:xlabel='ustat', ylabel='alph1'>"
      ]
     },
     "execution_count": 16,
     "metadata": {},
     "output_type": "execute_result"
    },
    {
     "data": {
      "image/png": "[encoded data removed]",
      "text/plain": [
       "<Figure size 432x288 with 2 Axes>"
      ]
     },
     "metadata": {
      "needs_background": "light"
     },
     "output_type": "display_data"
    }
   ],
   "source": [
    "df.plot.scatter(x='ustat', y='alph1', c='chi', cmap=matplotlib.colors.ListedColormap(colors))"
   ]
  },
  {
   "cell_type": "code",
   "execution_count": 17,
   "id": "36191e7a",
   "metadata": {},
   "outputs": [
    {
     "data": {
      "text/plain": [
       "<AxesSubplot:xlabel='ustat', ylabel='alph2'>"
      ]
     },
     "execution_count": 17,
     "metadata": {},
     "output_type": "execute_result"
    },
    {
     "data": {
      "image/png": "[encoded data removed]",
      "text/plain": [
       "<Figure size 432x288 with 2 Axes>"
      ]
     },
     "metadata": {
      "needs_background": "light"
     },
     "output_type": "display_data"
    }
   ],
   "source": [
    "df.plot.scatter(x='ustat', y='alph2', c='chi', cmap=matplotlib.colors.ListedColormap(colors))"
   ]
  },
  {
   "cell_type": "code",
   "execution_count": 18,
   "id": "8bc8b5be",
   "metadata": {},
   "outputs": [
    {
     "data": {
      "text/plain": [
       "<AxesSubplot:xlabel='ustat', ylabel='beta'>"
      ]
     },
     "execution_count": 18,
     "metadata": {},
     "output_type": "execute_result"
    },
    {
     "data": {
      "image/png": "[encoded data removed]",
      "text/plain": [
       "<Figure size 432x288 with 2 Axes>"
      ]
     },
     "metadata": {
      "needs_background": "light"
     },
     "output_type": "display_data"
    }
   ],
   "source": [
    "df.plot.scatter(x='ustat', y='beta', c='chi', cmap=matplotlib.colors.ListedColormap(colors))"
   ]
  },
  {
   "cell_type": "code",
   "execution_count": 19,
   "id": "a83407a4",
   "metadata": {},
   "outputs": [
    {
     "data": {
      "text/plain": [
       "<AxesSubplot:xlabel='ustat', ylabel='diff'>"
      ]
     },
     "execution_count": 19,
     "metadata": {},
     "output_type": "execute_result"
    },
    {
     "data": {
      "image/png": "[encoded data removed]",
      "text/plain": [
       "<Figure size 432x288 with 2 Axes>"
      ]
     },
     "metadata": {
      "needs_background": "light"
     },
     "output_type": "display_data"
    }
   ],
   "source": [
    "df.plot.scatter(x='ustat', y='diff', c='chi', cmap=matplotlib.colors.ListedColormap(colors))"
   ]
  },
  {
   "cell_type": "code",
   "execution_count": 20,
   "id": "63121577",
   "metadata": {},
   "outputs": [
    {
     "data": {
      "text/plain": [
       "<AxesSubplot:xlabel='alph1', ylabel='alph2'>"
      ]
     },
     "execution_count": 20,
     "metadata": {},
     "output_type": "execute_result"
    },
    {
     "data": {
      "image/png": "[encoded data removed]",
      "text/plain": [
       "<Figure size 432x288 with 2 Axes>"
      ]
     },
     "metadata": {
      "needs_background": "light"
     },
     "output_type": "display_data"
    }
   ],
   "source": [
    "df.plot.scatter(x='alph1', y='alph2', c='chi', cmap=matplotlib.colors.ListedColormap(colors))"
   ]
  },
  {
   "cell_type": "code",
   "execution_count": 21,
   "id": "707cabf5",
   "metadata": {},
   "outputs": [
    {
     "data": {
      "text/plain": [
       "<AxesSubplot:xlabel='alph1', ylabel='beta'>"
      ]
     },
     "execution_count": 21,
     "metadata": {},
     "output_type": "execute_result"
    },
    {
     "data": {
      "image/png": "[encoded data removed]",
      "text/plain": [
       "<Figure size 432x288 with 2 Axes>"
      ]
     },
     "metadata": {
      "needs_background": "light"
     },
     "output_type": "display_data"
    }
   ],
   "source": [
    "df.plot.scatter(x='alph1', y='beta', c='chi', cmap=matplotlib.colors.ListedColormap(colors))"
   ]
  },
  {
   "cell_type": "code",
   "execution_count": 22,
   "id": "48e0dd0b",
   "metadata": {},
   "outputs": [
    {
     "data": {
      "text/plain": [
       "<AxesSubplot:xlabel='alph1', ylabel='diff'>"
      ]
     },
     "execution_count": 22,
     "metadata": {},
     "output_type": "execute_result"
    },
    {
     "data": {
      "image/png": "[encoded data removed]",
      "text/plain": [
       "<Figure size 432x288 with 2 Axes>"
      ]
     },
     "metadata": {
      "needs_background": "light"
     },
     "output_type": "display_data"
    }
   ],
   "source": [
    "df.plot.scatter(x='alph1', y='diff', c='chi', cmap=matplotlib.colors.ListedColormap(colors))"
   ]
  },
  {
   "cell_type": "code",
   "execution_count": 23,
   "id": "b94138c1",
   "metadata": {},
   "outputs": [
    {
     "data": {
      "text/plain": [
       "<AxesSubplot:xlabel='alph2', ylabel='beta'>"
      ]
     },
     "execution_count": 23,
     "metadata": {},
     "output_type": "execute_result"
    },
    {
     "data": {
      "image/png": "[encoded data removed]",
      "text/plain": [
       "<Figure size 432x288 with 2 Axes>"
      ]
     },
     "metadata": {
      "needs_background": "light"
     },
     "output_type": "display_data"
    }
   ],
   "source": [
    "df.plot.scatter(x='alph2', y='beta', c='chi', cmap=matplotlib.colors.ListedColormap(colors))"
   ]
  },
  {
   "cell_type": "code",
   "execution_count": 24,
   "id": "2e6b9c58",
   "metadata": {},
   "outputs": [
    {
     "data": {
      "text/plain": [
       "<AxesSubplot:xlabel='alph2', ylabel='diff'>"
      ]
     },
     "execution_count": 24,
     "metadata": {},
     "output_type": "execute_result"
    },
    {
     "data": {
      "image/png": "[encoded data removed]",
      "text/plain": [
       "<Figure size 432x288 with 2 Axes>"
      ]
     },
     "metadata": {
      "needs_background": "light"
     },
     "output_type": "display_data"
    }
   ],
   "source": [
    "df.plot.scatter(x='alph2', y='diff', c='chi', cmap=matplotlib.colors.ListedColormap(colors))"
   ]
  },
  {
   "cell_type": "code",
   "execution_count": 25,
   "id": "58bbdb52",
   "metadata": {},
   "outputs": [
    {
     "data": {
      "text/plain": [
       "<AxesSubplot:xlabel='beta', ylabel='diff'>"
      ]
     },
     "execution_count": 25,
     "metadata": {},
     "output_type": "execute_result"
    },
    {
     "data": {
      "image/png": "[encoded data removed]",
      "text/plain": [
       "<Figure size 432x288 with 2 Axes>"
      ]
     },
     "metadata": {
      "needs_background": "light"
     },
     "output_type": "display_data"
    }
   ],
   "source": [
    "df.plot.scatter(x='beta', y='diff', c='chi', cmap=matplotlib.colors.ListedColormap(colors))"
   ]
  },
  {
   "cell_type": "code",
   "execution_count": null,
   "id": "4ef4abe7",
   "metadata": {},
   "outputs": [],
   "source": []
  },
  {
   "cell_type": "code",
   "execution_count": null,
   "id": "cd4104a3",
   "metadata": {},
   "outputs": [],
   "source": []
  },
  {
   "cell_type": "code",
   "execution_count": null,
   "id": "3c48e0f9",
   "metadata": {},
   "outputs": [],
   "source": []
  },
  {
   "cell_type": "code",
   "execution_count": null,
   "id": "0bcd4ffb",
   "metadata": {},
   "outputs": [],
   "source": []
  },
  {
   "cell_type": "code",
   "execution_count": null,
   "id": "df8ea0ac",
   "metadata": {},
   "outputs": [],
   "source": []
  },
  {
   "cell_type": "code",
   "execution_count": null,
   "id": "185765ad",
   "metadata": {},
   "outputs": [],
   "source": []
  },
  {
   "cell_type": "markdown",
   "id": "2751a1bf",
   "metadata": {},
   "source": [
    "We will only be looking at the overlapped region between ustat >= 5.26 and ustat < 12.60.. The issue we are currently facing is that we cannot find an easy way to determine 'large chi' and 'small chi' solely based on looking at this region. Thus, we have to explore the other relationships between variables and potentially create new groups. It's essentially a new dataset and new classification problem."
   ]
  },
  {
   "cell_type": "code",
   "execution_count": null,
   "id": "c1581225",
   "metadata": {},
   "outputs": [],
   "source": []
  },
  {
   "cell_type": "code",
   "execution_count": null,
   "id": "2ade104f",
   "metadata": {},
   "outputs": [],
   "source": []
  },
  {
   "cell_type": "code",
   "execution_count": null,
   "id": "69060738",
   "metadata": {},
   "outputs": [],
   "source": []
  }
 ],
 "metadata": {
  "kernelspec": {
   "display_name": "Python 3 (ipykernel)",
   "language": "python",
   "name": "python3"
  },
  "language_info": {
   "codemirror_mode": {
    "name": "ipython",
    "version": 3
   },
   "file_extension": ".py",
   "mimetype": "text/x-python",
   "name": "python",
   "nbconvert_exporter": "python",
   "pygments_lexer": "ipython3",
   "version": "3.9.12"
  }
 },
 "nbformat": 4,
 "nbformat_minor": 5
}
