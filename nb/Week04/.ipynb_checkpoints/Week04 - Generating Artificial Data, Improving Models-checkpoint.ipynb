{
 "cells": [
  {
   "cell_type": "code",
   "execution_count": 1,
   "id": "21780dbd",
   "metadata": {},
   "outputs": [],
   "source": [
    "import pandas as pd\n",
    "import matplotlib.pyplot as plt\n",
    "import numpy as np\n",
    "\n",
    "from sklearn.linear_model import LogisticRegression\n",
    "\n",
    "from sklearn.metrics import accuracy_score\n",
    "from sklearn.metrics import confusion_matrix\n",
    "from sklearn.metrics import plot_confusion_matrix\n",
    "\n",
    "from sklearn.model_selection import train_test_split\n",
    "\n",
    "from sklearn import metrics"
   ]
  },
  {
   "cell_type": "code",
   "execution_count": 2,
   "id": "00b5e6bd",
   "metadata": {},
   "outputs": [],
   "source": [
    "\"LOGISTIC REGRESSION\"\n",
    "def logReg(xTrain, yTrain):\n",
    "    # from sklearn document on LogisticRegression\n",
    "    clf = LogisticRegression(random_state=0).fit(xTrain, yTrain) \n",
    "    return clf"
   ]
  },
  {
   "cell_type": "markdown",
   "id": "468300b0",
   "metadata": {},
   "source": [
    "#### Original Model from Week 3"
   ]
  },
  {
   "cell_type": "markdown",
   "id": "8ae76197",
   "metadata": {},
   "source": [
    "This is the original Logistic Regression model from Week 3. It was attained by training and testing on continuous features, adding 'diff' as a feature, and dropping alph1 and alph2."
   ]
  },
  {
   "cell_type": "code",
   "execution_count": 3,
   "id": "5526aa7f",
   "metadata": {},
   "outputs": [
    {
     "data": {
      "text/html": [
       "<div>\n",
       "<style scoped>\n",
       "    .dataframe tbody tr th:only-of-type {\n",
       "        vertical-align: middle;\n",
       "    }\n",
       "\n",
       "    .dataframe tbody tr th {\n",
       "        vertical-align: top;\n",
       "    }\n",
       "\n",
       "    .dataframe thead th {\n",
       "        text-align: right;\n",
       "    }\n",
       "</style>\n",
       "<table border=\"1\" class=\"dataframe\">\n",
       "  <thead>\n",
       "    <tr style=\"text-align: right;\">\n",
       "      <th></th>\n",
       "      <th>ustat</th>\n",
       "      <th>alph1</th>\n",
       "      <th>alph2</th>\n",
       "      <th>beta</th>\n",
       "      <th>chi</th>\n",
       "      <th>diff</th>\n",
       "    </tr>\n",
       "  </thead>\n",
       "  <tbody>\n",
       "    <tr>\n",
       "      <th>0</th>\n",
       "      <td>8.408213</td>\n",
       "      <td>2.344511</td>\n",
       "      <td>2.344511</td>\n",
       "      <td>60.0</td>\n",
       "      <td>0</td>\n",
       "      <td>0.0</td>\n",
       "    </tr>\n",
       "    <tr>\n",
       "      <th>1</th>\n",
       "      <td>7.006844</td>\n",
       "      <td>2.344511</td>\n",
       "      <td>2.344511</td>\n",
       "      <td>60.0</td>\n",
       "      <td>0</td>\n",
       "      <td>0.0</td>\n",
       "    </tr>\n",
       "    <tr>\n",
       "      <th>2</th>\n",
       "      <td>5.255133</td>\n",
       "      <td>2.344511</td>\n",
       "      <td>2.344511</td>\n",
       "      <td>60.0</td>\n",
       "      <td>0</td>\n",
       "      <td>0.0</td>\n",
       "    </tr>\n",
       "    <tr>\n",
       "      <th>3</th>\n",
       "      <td>3.503422</td>\n",
       "      <td>2.344511</td>\n",
       "      <td>2.344511</td>\n",
       "      <td>60.0</td>\n",
       "      <td>0</td>\n",
       "      <td>0.0</td>\n",
       "    </tr>\n",
       "    <tr>\n",
       "      <th>4</th>\n",
       "      <td>2.102053</td>\n",
       "      <td>2.344511</td>\n",
       "      <td>2.344511</td>\n",
       "      <td>60.0</td>\n",
       "      <td>0</td>\n",
       "      <td>0.0</td>\n",
       "    </tr>\n",
       "  </tbody>\n",
       "</table>\n",
       "</div>"
      ],
      "text/plain": [
       "      ustat     alph1     alph2  beta  chi  diff\n",
       "0  8.408213  2.344511  2.344511  60.0    0   0.0\n",
       "1  7.006844  2.344511  2.344511  60.0    0   0.0\n",
       "2  5.255133  2.344511  2.344511  60.0    0   0.0\n",
       "3  3.503422  2.344511  2.344511  60.0    0   0.0\n",
       "4  2.102053  2.344511  2.344511  60.0    0   0.0"
      ]
     },
     "execution_count": 3,
     "metadata": {},
     "output_type": "execute_result"
    }
   ],
   "source": [
    "dir = \"../../data/processed/week03_nobin_diff.csv\"\n",
    "df = pd.read_csv(dir)\n",
    "df.head()"
   ]
  },
  {
   "cell_type": "code",
   "execution_count": 4,
   "id": "1a38b9ee",
   "metadata": {},
   "outputs": [],
   "source": [
    "# separating features and targets\n",
    "# dropping alph1 and alph2\n",
    "\n",
    "y = df['chi']\n",
    "x = df.drop(['alph1', 'alph2'], axis=1)"
   ]
  },
  {
   "cell_type": "code",
   "execution_count": 5,
   "id": "de76bc1d",
   "metadata": {},
   "outputs": [],
   "source": [
    "# Train test split, ratio is 67:33\n",
    "xTrain, xTest, yTrain, yTest = train_test_split(x, y, test_size=0.33, random_state=42)"
   ]
  },
  {
   "cell_type": "code",
   "execution_count": 6,
   "id": "ffda79cc",
   "metadata": {},
   "outputs": [],
   "source": [
    "lr = logReg(xTrain, yTrain)"
   ]
  },
  {
   "cell_type": "code",
   "execution_count": 7,
   "id": "b36f586a",
   "metadata": {},
   "outputs": [
    {
     "name": "stdout",
     "output_type": "stream",
     "text": [
      "Logistic Regression train set score:  0.9925925925925926\n",
      "Confusion Matrix Results:  247 0 2 21\n"
     ]
    }
   ],
   "source": [
    "print(\"Logistic Regression train set score: \", accuracy_score(yTrain, lr.predict(xTrain)))\n",
    "tn, fp, fn, tp = confusion_matrix(yTrain, lr.predict(xTrain)).ravel()\n",
    "print(\"Confusion Matrix Results: \", tn, fp, fn, tp)"
   ]
  },
  {
   "cell_type": "code",
   "execution_count": 8,
   "id": "d111a20a",
   "metadata": {},
   "outputs": [
    {
     "name": "stdout",
     "output_type": "stream",
     "text": [
      "Logistic Regression test set score:  1.0\n",
      "Confusion Matrix Results:  119 0 0 15\n"
     ]
    }
   ],
   "source": [
    "print(\"Logistic Regression test set score: \", accuracy_score(yTest, lr.predict(xTest)))\n",
    "tn, fp, fn, tp = confusion_matrix(yTest, lr.predict(xTest)).ravel()\n",
    "print(\"Confusion Matrix Results: \", tn, fp, fn, tp)"
   ]
  },
  {
   "cell_type": "markdown",
   "id": "54854224",
   "metadata": {},
   "source": [
    "#### Creating artificial data"
   ]
  },
  {
   "cell_type": "markdown",
   "id": "4e1017f7",
   "metadata": {},
   "source": [
    "A problem with machine learning, especially when you are starting out and want to learn about the algorithms, is that it is often difficult to get suitable test data. "
   ]
  },
  {
   "cell_type": "markdown",
   "id": "b24852fe",
   "metadata": {},
   "source": [
    "Artificial data was generated by taking the original data and adding noise. The mean and standard deviation of the normal distribution is 0 and 0.1, respectively. Noise was created with the same dimension as the original dataset."
   ]
  },
  {
   "cell_type": "code",
   "execution_count": 9,
   "id": "b2cb25c7",
   "metadata": {},
   "outputs": [],
   "source": [
    "mu, sigma = 0, 0.1"
   ]
  },
  {
   "cell_type": "code",
   "execution_count": 10,
   "id": "cfa3fc5f",
   "metadata": {},
   "outputs": [],
   "source": [
    "large_chi = np.genfromtxt(\"../../data/Large_chi.dat\")\n",
    "large_chi = np.delete(large_chi, 0, 0)\n",
    "large_chi_df = pd.DataFrame(large_chi, columns = ['ustat','alph1','alph2', 'beta', 'chi'])"
   ]
  },
  {
   "cell_type": "code",
   "execution_count": 11,
   "id": "ea9df2c7",
   "metadata": {},
   "outputs": [
    {
     "data": {
      "text/plain": [
       "(38, 5)"
      ]
     },
     "execution_count": 11,
     "metadata": {},
     "output_type": "execute_result"
    }
   ],
   "source": [
    "large_chi_df.shape"
   ]
  },
  {
   "cell_type": "code",
   "execution_count": 12,
   "id": "6c5ee64d",
   "metadata": {},
   "outputs": [
    {
     "data": {
      "text/html": [
       "<div>\n",
       "<style scoped>\n",
       "    .dataframe tbody tr th:only-of-type {\n",
       "        vertical-align: middle;\n",
       "    }\n",
       "\n",
       "    .dataframe tbody tr th {\n",
       "        vertical-align: top;\n",
       "    }\n",
       "\n",
       "    .dataframe thead th {\n",
       "        text-align: right;\n",
       "    }\n",
       "</style>\n",
       "<table border=\"1\" class=\"dataframe\">\n",
       "  <thead>\n",
       "    <tr style=\"text-align: right;\">\n",
       "      <th></th>\n",
       "      <th>ustat</th>\n",
       "      <th>alph1</th>\n",
       "      <th>alph2</th>\n",
       "      <th>beta</th>\n",
       "      <th>chi</th>\n",
       "    </tr>\n",
       "  </thead>\n",
       "  <tbody>\n",
       "    <tr>\n",
       "      <th>0</th>\n",
       "      <td>10.495969</td>\n",
       "      <td>2.385810</td>\n",
       "      <td>2.256247</td>\n",
       "      <td>60.265820</td>\n",
       "      <td>3.205253</td>\n",
       "    </tr>\n",
       "    <tr>\n",
       "      <th>1</th>\n",
       "      <td>15.713914</td>\n",
       "      <td>1.647098</td>\n",
       "      <td>1.437121</td>\n",
       "      <td>60.138956</td>\n",
       "      <td>15.944190</td>\n",
       "    </tr>\n",
       "    <tr>\n",
       "      <th>2</th>\n",
       "      <td>9.369160</td>\n",
       "      <td>1.485535</td>\n",
       "      <td>1.375596</td>\n",
       "      <td>89.392088</td>\n",
       "      <td>10.864530</td>\n",
       "    </tr>\n",
       "    <tr>\n",
       "      <th>3</th>\n",
       "      <td>7.468983</td>\n",
       "      <td>1.452310</td>\n",
       "      <td>1.464230</td>\n",
       "      <td>89.236146</td>\n",
       "      <td>3.877706</td>\n",
       "    </tr>\n",
       "    <tr>\n",
       "      <th>4</th>\n",
       "      <td>12.993232</td>\n",
       "      <td>2.362790</td>\n",
       "      <td>2.079315</td>\n",
       "      <td>46.586071</td>\n",
       "      <td>5.592981</td>\n",
       "    </tr>\n",
       "  </tbody>\n",
       "</table>\n",
       "</div>"
      ],
      "text/plain": [
       "       ustat     alph1     alph2       beta        chi\n",
       "0  10.495969  2.385810  2.256247  60.265820   3.205253\n",
       "1  15.713914  1.647098  1.437121  60.138956  15.944190\n",
       "2   9.369160  1.485535  1.375596  89.392088  10.864530\n",
       "3   7.468983  1.452310  1.464230  89.236146   3.877706\n",
       "4  12.993232  2.362790  2.079315  46.586071   5.592981"
      ]
     },
     "execution_count": 12,
     "metadata": {},
     "output_type": "execute_result"
    }
   ],
   "source": [
    "noise = np.random.normal(mu, sigma, [38,5])\n",
    "large_signal = large_chi_df + noise\n",
    "large_signal.head()"
   ]
  },
  {
   "cell_type": "code",
   "execution_count": 13,
   "id": "8782ae69",
   "metadata": {},
   "outputs": [],
   "source": [
    "small_chi = np.genfromtxt(\"../../data/Small_chi.dat\")\n",
    "small_chi = np.delete(small_chi, 0, 0)\n",
    "small_chi_df = pd.DataFrame(small_chi, columns = ['ustat','alph1','alph2', 'beta', 'chi'])"
   ]
  },
  {
   "cell_type": "code",
   "execution_count": 14,
   "id": "fba3558c",
   "metadata": {},
   "outputs": [
    {
     "data": {
      "text/plain": [
       "(366, 5)"
      ]
     },
     "execution_count": 14,
     "metadata": {},
     "output_type": "execute_result"
    }
   ],
   "source": [
    "small_chi_df.shape"
   ]
  },
  {
   "cell_type": "code",
   "execution_count": 15,
   "id": "75121643",
   "metadata": {},
   "outputs": [
    {
     "data": {
      "text/html": [
       "<div>\n",
       "<style scoped>\n",
       "    .dataframe tbody tr th:only-of-type {\n",
       "        vertical-align: middle;\n",
       "    }\n",
       "\n",
       "    .dataframe tbody tr th {\n",
       "        vertical-align: top;\n",
       "    }\n",
       "\n",
       "    .dataframe thead th {\n",
       "        text-align: right;\n",
       "    }\n",
       "</style>\n",
       "<table border=\"1\" class=\"dataframe\">\n",
       "  <thead>\n",
       "    <tr style=\"text-align: right;\">\n",
       "      <th></th>\n",
       "      <th>ustat</th>\n",
       "      <th>alph1</th>\n",
       "      <th>alph2</th>\n",
       "      <th>beta</th>\n",
       "      <th>chi</th>\n",
       "    </tr>\n",
       "  </thead>\n",
       "  <tbody>\n",
       "    <tr>\n",
       "      <th>0</th>\n",
       "      <td>8.485653</td>\n",
       "      <td>2.266756</td>\n",
       "      <td>2.311169</td>\n",
       "      <td>59.937070</td>\n",
       "      <td>1.065877</td>\n",
       "    </tr>\n",
       "    <tr>\n",
       "      <th>1</th>\n",
       "      <td>7.004358</td>\n",
       "      <td>2.212923</td>\n",
       "      <td>2.206819</td>\n",
       "      <td>59.942812</td>\n",
       "      <td>0.926329</td>\n",
       "    </tr>\n",
       "    <tr>\n",
       "      <th>2</th>\n",
       "      <td>5.287635</td>\n",
       "      <td>2.406714</td>\n",
       "      <td>2.551052</td>\n",
       "      <td>60.101100</td>\n",
       "      <td>0.866103</td>\n",
       "    </tr>\n",
       "    <tr>\n",
       "      <th>3</th>\n",
       "      <td>3.572441</td>\n",
       "      <td>2.358493</td>\n",
       "      <td>2.253166</td>\n",
       "      <td>59.890606</td>\n",
       "      <td>0.881307</td>\n",
       "    </tr>\n",
       "    <tr>\n",
       "      <th>4</th>\n",
       "      <td>2.201952</td>\n",
       "      <td>2.431366</td>\n",
       "      <td>2.060193</td>\n",
       "      <td>59.851932</td>\n",
       "      <td>0.720740</td>\n",
       "    </tr>\n",
       "  </tbody>\n",
       "</table>\n",
       "</div>"
      ],
      "text/plain": [
       "      ustat     alph1     alph2       beta       chi\n",
       "0  8.485653  2.266756  2.311169  59.937070  1.065877\n",
       "1  7.004358  2.212923  2.206819  59.942812  0.926329\n",
       "2  5.287635  2.406714  2.551052  60.101100  0.866103\n",
       "3  3.572441  2.358493  2.253166  59.890606  0.881307\n",
       "4  2.201952  2.431366  2.060193  59.851932  0.720740"
      ]
     },
     "execution_count": 15,
     "metadata": {},
     "output_type": "execute_result"
    }
   ],
   "source": [
    "noise = np.random.normal(mu, sigma, [366,5])\n",
    "small_signal = small_chi_df + noise\n",
    "small_signal.head()"
   ]
  },
  {
   "cell_type": "code",
   "execution_count": 16,
   "id": "66d46439",
   "metadata": {},
   "outputs": [
    {
     "data": {
      "text/plain": [
       "Text(0, 0.5, 'chi')"
      ]
     },
     "execution_count": 16,
     "metadata": {},
     "output_type": "execute_result"
    },
    {
     "data": {
      "image/png": "[encoded data removed]",
      "text/plain": [
       "<Figure size 432x288 with 1 Axes>"
      ]
     },
     "metadata": {
      "needs_background": "light"
     },
     "output_type": "display_data"
    }
   ],
   "source": [
    "plt.scatter(small_signal['ustat'], small_signal['chi'], s = 10, c = 'blue')\n",
    "plt.scatter(large_signal['ustat'], large_signal['chi'], s = 10, c = 'red')\n",
    "plt.axhline(y=3, color='r', linestyle='-')\n",
    "plt.xlabel('ustat')\n",
    "plt.ylabel('chi')"
   ]
  },
  {
   "cell_type": "markdown",
   "id": "1b268963",
   "metadata": {},
   "source": [
    "We see the artificial (noisy) data resembles the original dataset."
   ]
  },
  {
   "cell_type": "markdown",
   "id": "c9e06e0a",
   "metadata": {},
   "source": [
    "#### Idea 1"
   ]
  },
  {
   "cell_type": "markdown",
   "id": "09cfd0e2",
   "metadata": {},
   "source": [
    "Since our current LR model does very well (perfect testing accuracy and perfect AUC), we can use the artificial data as testing data to see how it performs. The results will reveal to us if the model is suffering from overfitting."
   ]
  },
  {
   "cell_type": "code",
   "execution_count": 17,
   "id": "cc5d4694",
   "metadata": {},
   "outputs": [],
   "source": [
    "small_samp = small_signal.sample(n = 76)"
   ]
  },
  {
   "cell_type": "code",
   "execution_count": 18,
   "id": "ad1f7150",
   "metadata": {},
   "outputs": [
    {
     "data": {
      "text/html": [
       "<div>\n",
       "<style scoped>\n",
       "    .dataframe tbody tr th:only-of-type {\n",
       "        vertical-align: middle;\n",
       "    }\n",
       "\n",
       "    .dataframe tbody tr th {\n",
       "        vertical-align: top;\n",
       "    }\n",
       "\n",
       "    .dataframe thead th {\n",
       "        text-align: right;\n",
       "    }\n",
       "</style>\n",
       "<table border=\"1\" class=\"dataframe\">\n",
       "  <thead>\n",
       "    <tr style=\"text-align: right;\">\n",
       "      <th></th>\n",
       "      <th>ustat</th>\n",
       "      <th>alph1</th>\n",
       "      <th>alph2</th>\n",
       "      <th>beta</th>\n",
       "      <th>chi</th>\n",
       "    </tr>\n",
       "  </thead>\n",
       "  <tbody>\n",
       "    <tr>\n",
       "      <th>0</th>\n",
       "      <td>5.105705</td>\n",
       "      <td>1.305169</td>\n",
       "      <td>1.533362</td>\n",
       "      <td>54.766499</td>\n",
       "      <td>1.078103</td>\n",
       "    </tr>\n",
       "    <tr>\n",
       "      <th>1</th>\n",
       "      <td>0.605521</td>\n",
       "      <td>0.944449</td>\n",
       "      <td>64.277721</td>\n",
       "      <td>46.327134</td>\n",
       "      <td>0.287006</td>\n",
       "    </tr>\n",
       "    <tr>\n",
       "      <th>2</th>\n",
       "      <td>6.453134</td>\n",
       "      <td>2.634039</td>\n",
       "      <td>2.585186</td>\n",
       "      <td>44.806684</td>\n",
       "      <td>0.584573</td>\n",
       "    </tr>\n",
       "    <tr>\n",
       "      <th>3</th>\n",
       "      <td>8.445671</td>\n",
       "      <td>1.873191</td>\n",
       "      <td>1.856462</td>\n",
       "      <td>70.520782</td>\n",
       "      <td>2.695557</td>\n",
       "    </tr>\n",
       "    <tr>\n",
       "      <th>4</th>\n",
       "      <td>4.631709</td>\n",
       "      <td>1.690838</td>\n",
       "      <td>1.479454</td>\n",
       "      <td>89.229519</td>\n",
       "      <td>1.291085</td>\n",
       "    </tr>\n",
       "  </tbody>\n",
       "</table>\n",
       "</div>"
      ],
      "text/plain": [
       "      ustat     alph1      alph2       beta       chi\n",
       "0  5.105705  1.305169   1.533362  54.766499  1.078103\n",
       "1  0.605521  0.944449  64.277721  46.327134  0.287006\n",
       "2  6.453134  2.634039   2.585186  44.806684  0.584573\n",
       "3  8.445671  1.873191   1.856462  70.520782  2.695557\n",
       "4  4.631709  1.690838   1.479454  89.229519  1.291085"
      ]
     },
     "execution_count": 18,
     "metadata": {},
     "output_type": "execute_result"
    }
   ],
   "source": [
    "frames = [small_samp, large_signal]\n",
    "new_test = pd.concat(frames, ignore_index=True)\n",
    "new_test.head()"
   ]
  },
  {
   "cell_type": "code",
   "execution_count": 19,
   "id": "3eef8aef",
   "metadata": {},
   "outputs": [
    {
     "name": "stdout",
     "output_type": "stream",
     "text": [
      "<class 'pandas.core.frame.DataFrame'>\n",
      "RangeIndex: 114 entries, 0 to 113\n",
      "Data columns (total 5 columns):\n",
      " #   Column  Non-Null Count  Dtype  \n",
      "---  ------  --------------  -----  \n",
      " 0   ustat   114 non-null    float64\n",
      " 1   alph1   114 non-null    float64\n",
      " 2   alph2   114 non-null    float64\n",
      " 3   beta    114 non-null    float64\n",
      " 4   chi     114 non-null    float64\n",
      "dtypes: float64(5)\n",
      "memory usage: 4.6 KB\n"
     ]
    }
   ],
   "source": [
    "new_test.info()"
   ]
  },
  {
   "cell_type": "markdown",
   "id": "f19a6afd",
   "metadata": {},
   "source": [
    "Since there are only 38 artificial large chi instances, I included all of them in the testing data. I added 76 randomly selected artificial small chi instances as well (2:1 ratio). There is a total of 114 instances."
   ]
  },
  {
   "cell_type": "code",
   "execution_count": 20,
   "id": "1a2521a8",
   "metadata": {},
   "outputs": [],
   "source": [
    "# Convert Chi to binary variable\n",
    "\n",
    "# small chi = 0\n",
    "# large chi = 1\n",
    "labels = []\n",
    "for i in new_test['chi']:\n",
    "    if i < 3:\n",
    "        labels.append(0)\n",
    "    else:\n",
    "        labels.append(1)\n",
    "        \n",
    "new_test['chi'] = labels"
   ]
  },
  {
   "cell_type": "code",
   "execution_count": 21,
   "id": "736622ef",
   "metadata": {},
   "outputs": [],
   "source": [
    "# diff = |alph1 - alph2|\n",
    "diff = []\n",
    "\n",
    "for i in range(len(new_test['alph1'])):\n",
    "    diff.append(abs(new_test['alph1'][i] - new_test['alph2'][i]))\n",
    "    \n",
    "new_test['diff'] = diff"
   ]
  },
  {
   "cell_type": "code",
   "execution_count": 22,
   "id": "809e5add",
   "metadata": {},
   "outputs": [],
   "source": [
    "# separating features and targets\n",
    "# dropping alph1 and alph2\n",
    "\n",
    "yTest = new_test['chi']\n",
    "xTest = new_test.drop(['alph1', 'alph2'], axis=1)"
   ]
  },
  {
   "cell_type": "code",
   "execution_count": 23,
   "id": "3882d79a",
   "metadata": {},
   "outputs": [
    {
     "name": "stdout",
     "output_type": "stream",
     "text": [
      "Logistic Regression test set score:  0.9824561403508771\n",
      "Confusion Matrix Results:  78 0 2 34\n"
     ]
    }
   ],
   "source": [
    "print(\"Logistic Regression test set score: \", accuracy_score(yTest, lr.predict(xTest)))\n",
    "tn, fp, fn, tp = confusion_matrix(yTest, lr.predict(xTest)).ravel()\n",
    "print(\"Confusion Matrix Results: \", tn, fp, fn, tp)"
   ]
  },
  {
   "cell_type": "markdown",
   "id": "6dd89328",
   "metadata": {},
   "source": [
    "#### Idea 2"
   ]
  },
  {
   "cell_type": "markdown",
   "id": "b6c88c4d",
   "metadata": {},
   "source": [
    "We can add the artificial data into the training data to regularize the model. Adding noise during training can make the training process more robust and reduce generalization error (overfitting)."
   ]
  },
  {
   "cell_type": "code",
   "execution_count": 24,
   "id": "c697cea0",
   "metadata": {},
   "outputs": [
    {
     "data": {
      "text/html": [
       "<div>\n",
       "<style scoped>\n",
       "    .dataframe tbody tr th:only-of-type {\n",
       "        vertical-align: middle;\n",
       "    }\n",
       "\n",
       "    .dataframe tbody tr th {\n",
       "        vertical-align: top;\n",
       "    }\n",
       "\n",
       "    .dataframe thead th {\n",
       "        text-align: right;\n",
       "    }\n",
       "</style>\n",
       "<table border=\"1\" class=\"dataframe\">\n",
       "  <thead>\n",
       "    <tr style=\"text-align: right;\">\n",
       "      <th></th>\n",
       "      <th>ustat</th>\n",
       "      <th>alph1</th>\n",
       "      <th>alph2</th>\n",
       "      <th>beta</th>\n",
       "      <th>chi</th>\n",
       "      <th>diff</th>\n",
       "    </tr>\n",
       "  </thead>\n",
       "  <tbody>\n",
       "    <tr>\n",
       "      <th>0</th>\n",
       "      <td>8.408213</td>\n",
       "      <td>2.344511</td>\n",
       "      <td>2.344511</td>\n",
       "      <td>60.0</td>\n",
       "      <td>0</td>\n",
       "      <td>0.0</td>\n",
       "    </tr>\n",
       "    <tr>\n",
       "      <th>1</th>\n",
       "      <td>7.006844</td>\n",
       "      <td>2.344511</td>\n",
       "      <td>2.344511</td>\n",
       "      <td>60.0</td>\n",
       "      <td>0</td>\n",
       "      <td>0.0</td>\n",
       "    </tr>\n",
       "    <tr>\n",
       "      <th>2</th>\n",
       "      <td>5.255133</td>\n",
       "      <td>2.344511</td>\n",
       "      <td>2.344511</td>\n",
       "      <td>60.0</td>\n",
       "      <td>0</td>\n",
       "      <td>0.0</td>\n",
       "    </tr>\n",
       "    <tr>\n",
       "      <th>3</th>\n",
       "      <td>3.503422</td>\n",
       "      <td>2.344511</td>\n",
       "      <td>2.344511</td>\n",
       "      <td>60.0</td>\n",
       "      <td>0</td>\n",
       "      <td>0.0</td>\n",
       "    </tr>\n",
       "    <tr>\n",
       "      <th>4</th>\n",
       "      <td>2.102053</td>\n",
       "      <td>2.344511</td>\n",
       "      <td>2.344511</td>\n",
       "      <td>60.0</td>\n",
       "      <td>0</td>\n",
       "      <td>0.0</td>\n",
       "    </tr>\n",
       "  </tbody>\n",
       "</table>\n",
       "</div>"
      ],
      "text/plain": [
       "      ustat     alph1     alph2  beta  chi  diff\n",
       "0  8.408213  2.344511  2.344511  60.0    0   0.0\n",
       "1  7.006844  2.344511  2.344511  60.0    0   0.0\n",
       "2  5.255133  2.344511  2.344511  60.0    0   0.0\n",
       "3  3.503422  2.344511  2.344511  60.0    0   0.0\n",
       "4  2.102053  2.344511  2.344511  60.0    0   0.0"
      ]
     },
     "execution_count": 24,
     "metadata": {},
     "output_type": "execute_result"
    }
   ],
   "source": [
    "dir = \"../../data/processed/week03_nobin_diff.csv\"\n",
    "df = pd.read_csv(dir)\n",
    "df.head()"
   ]
  },
  {
   "cell_type": "code",
   "execution_count": 25,
   "id": "ff0e24d2",
   "metadata": {},
   "outputs": [],
   "source": [
    "# separating features and targets\n",
    "# dropping alph1 and alph2\n",
    "\n",
    "y = df['chi']\n",
    "x = df.drop(['alph1', 'alph2'], axis=1)"
   ]
  },
  {
   "cell_type": "code",
   "execution_count": 26,
   "id": "b3d1ad96",
   "metadata": {},
   "outputs": [],
   "source": [
    "# Train test split, ratio is 67:33\n",
    "xTrain, xTest, yTrain, yTest = train_test_split(x, y, test_size=0.33, random_state=42)"
   ]
  },
  {
   "cell_type": "code",
   "execution_count": 27,
   "id": "b7b3006c",
   "metadata": {},
   "outputs": [
    {
     "data": {
      "text/plain": [
       "277    0\n",
       "119    0\n",
       "196    0\n",
       "220    0\n",
       "227    0\n",
       "Name: chi, dtype: int64"
      ]
     },
     "execution_count": 27,
     "metadata": {},
     "output_type": "execute_result"
    }
   ],
   "source": [
    "yTrain.head()"
   ]
  },
  {
   "cell_type": "code",
   "execution_count": 28,
   "id": "25fa26ad",
   "metadata": {},
   "outputs": [
    {
     "data": {
      "text/html": [
       "<div>\n",
       "<style scoped>\n",
       "    .dataframe tbody tr th:only-of-type {\n",
       "        vertical-align: middle;\n",
       "    }\n",
       "\n",
       "    .dataframe tbody tr th {\n",
       "        vertical-align: top;\n",
       "    }\n",
       "\n",
       "    .dataframe thead th {\n",
       "        text-align: right;\n",
       "    }\n",
       "</style>\n",
       "<table border=\"1\" class=\"dataframe\">\n",
       "  <thead>\n",
       "    <tr style=\"text-align: right;\">\n",
       "      <th></th>\n",
       "      <th>ustat</th>\n",
       "      <th>alph1</th>\n",
       "      <th>alph2</th>\n",
       "      <th>beta</th>\n",
       "      <th>chi</th>\n",
       "    </tr>\n",
       "  </thead>\n",
       "  <tbody>\n",
       "    <tr>\n",
       "      <th>0</th>\n",
       "      <td>4.415403</td>\n",
       "      <td>2.036654</td>\n",
       "      <td>2.053723</td>\n",
       "      <td>16.884689</td>\n",
       "      <td>1.287870</td>\n",
       "    </tr>\n",
       "    <tr>\n",
       "      <th>1</th>\n",
       "      <td>5.514464</td>\n",
       "      <td>3.127067</td>\n",
       "      <td>3.250315</td>\n",
       "      <td>65.772732</td>\n",
       "      <td>0.710168</td>\n",
       "    </tr>\n",
       "    <tr>\n",
       "      <th>2</th>\n",
       "      <td>2.559105</td>\n",
       "      <td>3.002093</td>\n",
       "      <td>0.778912</td>\n",
       "      <td>20.112547</td>\n",
       "      <td>0.772240</td>\n",
       "    </tr>\n",
       "    <tr>\n",
       "      <th>3</th>\n",
       "      <td>2.928564</td>\n",
       "      <td>1.287403</td>\n",
       "      <td>57.938663</td>\n",
       "      <td>81.183851</td>\n",
       "      <td>1.324052</td>\n",
       "    </tr>\n",
       "    <tr>\n",
       "      <th>4</th>\n",
       "      <td>6.739006</td>\n",
       "      <td>2.201894</td>\n",
       "      <td>2.082372</td>\n",
       "      <td>17.092116</td>\n",
       "      <td>2.796636</td>\n",
       "    </tr>\n",
       "  </tbody>\n",
       "</table>\n",
       "</div>"
      ],
      "text/plain": [
       "      ustat     alph1      alph2       beta       chi\n",
       "0  4.415403  2.036654   2.053723  16.884689  1.287870\n",
       "1  5.514464  3.127067   3.250315  65.772732  0.710168\n",
       "2  2.559105  3.002093   0.778912  20.112547  0.772240\n",
       "3  2.928564  1.287403  57.938663  81.183851  1.324052\n",
       "4  6.739006  2.201894   2.082372  17.092116  2.796636"
      ]
     },
     "execution_count": 28,
     "metadata": {},
     "output_type": "execute_result"
    }
   ],
   "source": [
    "# concatenate the dfs\n",
    "small_samp = small_signal.sample(n = 10)\n",
    "large_samp = large_signal.sample(n = 10)\n",
    "\n",
    "frames = [small_samp, large_samp]\n",
    "result = pd.concat(frames, ignore_index=True)\n",
    "result.head()"
   ]
  },
  {
   "cell_type": "code",
   "execution_count": 29,
   "id": "9192bf92",
   "metadata": {},
   "outputs": [],
   "source": [
    "# Convert Chi to binary variable\n",
    "\n",
    "# small chi = 0\n",
    "# large chi = 1\n",
    "labels = []\n",
    "for i in result['chi']:\n",
    "    if i < 3:\n",
    "        labels.append(0)\n",
    "    else:\n",
    "        labels.append(1)\n",
    "        \n",
    "result['chi'] = labels"
   ]
  },
  {
   "cell_type": "code",
   "execution_count": 30,
   "id": "57097f63",
   "metadata": {},
   "outputs": [],
   "source": [
    "# diff = |alph1 - alph2|\n",
    "diff = []\n",
    "\n",
    "for i in range(len(result['alph1'])):\n",
    "    diff.append(abs(result['alph1'][i] - result['alph2'][i]))\n",
    "    \n",
    "result['diff'] = diff"
   ]
  },
  {
   "cell_type": "code",
   "execution_count": 31,
   "id": "254ba4d5",
   "metadata": {},
   "outputs": [
    {
     "data": {
      "text/html": [
       "<div>\n",
       "<style scoped>\n",
       "    .dataframe tbody tr th:only-of-type {\n",
       "        vertical-align: middle;\n",
       "    }\n",
       "\n",
       "    .dataframe tbody tr th {\n",
       "        vertical-align: top;\n",
       "    }\n",
       "\n",
       "    .dataframe thead th {\n",
       "        text-align: right;\n",
       "    }\n",
       "</style>\n",
       "<table border=\"1\" class=\"dataframe\">\n",
       "  <thead>\n",
       "    <tr style=\"text-align: right;\">\n",
       "      <th></th>\n",
       "      <th>ustat</th>\n",
       "      <th>beta</th>\n",
       "      <th>chi</th>\n",
       "      <th>diff</th>\n",
       "    </tr>\n",
       "  </thead>\n",
       "  <tbody>\n",
       "    <tr>\n",
       "      <th>277</th>\n",
       "      <td>1.889594</td>\n",
       "      <td>46.7</td>\n",
       "      <td>0</td>\n",
       "      <td>0.331320</td>\n",
       "    </tr>\n",
       "    <tr>\n",
       "      <th>119</th>\n",
       "      <td>0.808713</td>\n",
       "      <td>45.0</td>\n",
       "      <td>0</td>\n",
       "      <td>0.000000</td>\n",
       "    </tr>\n",
       "    <tr>\n",
       "      <th>196</th>\n",
       "      <td>5.563271</td>\n",
       "      <td>55.8</td>\n",
       "      <td>0</td>\n",
       "      <td>0.316142</td>\n",
       "    </tr>\n",
       "    <tr>\n",
       "      <th>220</th>\n",
       "      <td>2.901534</td>\n",
       "      <td>80.9</td>\n",
       "      <td>0</td>\n",
       "      <td>56.811570</td>\n",
       "    </tr>\n",
       "    <tr>\n",
       "      <th>227</th>\n",
       "      <td>2.129390</td>\n",
       "      <td>74.8</td>\n",
       "      <td>0</td>\n",
       "      <td>92.894595</td>\n",
       "    </tr>\n",
       "  </tbody>\n",
       "</table>\n",
       "</div>"
      ],
      "text/plain": [
       "        ustat  beta  chi       diff\n",
       "277  1.889594  46.7    0   0.331320\n",
       "119  0.808713  45.0    0   0.000000\n",
       "196  5.563271  55.8    0   0.316142\n",
       "220  2.901534  80.9    0  56.811570\n",
       "227  2.129390  74.8    0  92.894595"
      ]
     },
     "execution_count": 31,
     "metadata": {},
     "output_type": "execute_result"
    }
   ],
   "source": [
    "xTrain.head()"
   ]
  },
  {
   "cell_type": "code",
   "execution_count": 32,
   "id": "611d9cb4",
   "metadata": {},
   "outputs": [],
   "source": [
    "# concatenate the dfs\n",
    "frames = [yTrain, result['chi']]\n",
    "yTrain = pd.concat(frames, ignore_index=True)\n",
    "\n",
    "frames = [xTrain, result.drop(['alph1', 'alph2'], axis=1)]\n",
    "xTrain = pd.concat(frames, ignore_index=True)"
   ]
  },
  {
   "cell_type": "code",
   "execution_count": 33,
   "id": "05841e4e",
   "metadata": {},
   "outputs": [],
   "source": [
    "lr = logReg(xTrain, yTrain)"
   ]
  },
  {
   "cell_type": "code",
   "execution_count": 34,
   "id": "ddc2fddb",
   "metadata": {},
   "outputs": [
    {
     "name": "stdout",
     "output_type": "stream",
     "text": [
      "Logistic Regression train set score:  0.993103448275862\n",
      "Confusion Matrix Results:  257 0 2 31\n"
     ]
    }
   ],
   "source": [
    "print(\"Logistic Regression train set score: \", accuracy_score(yTrain, lr.predict(xTrain)))\n",
    "tn, fp, fn, tp = confusion_matrix(yTrain, lr.predict(xTrain)).ravel()\n",
    "print(\"Confusion Matrix Results: \", tn, fp, fn, tp)"
   ]
  },
  {
   "cell_type": "code",
   "execution_count": 35,
   "id": "be6657cd",
   "metadata": {},
   "outputs": [
    {
     "name": "stdout",
     "output_type": "stream",
     "text": [
      "Logistic Regression test set score:  1.0\n",
      "Confusion Matrix Results:  119 0 0 15\n"
     ]
    }
   ],
   "source": [
    "print(\"Logistic Regression test set score: \", accuracy_score(yTest, lr.predict(xTest)))\n",
    "tn, fp, fn, tp = confusion_matrix(yTest, lr.predict(xTest)).ravel()\n",
    "print(\"Confusion Matrix Results: \", tn, fp, fn, tp)"
   ]
  },
  {
   "cell_type": "markdown",
   "id": "da2f1f23",
   "metadata": {},
   "source": [
    "#### Idea 3"
   ]
  },
  {
   "cell_type": "markdown",
   "id": "4b960e27",
   "metadata": {},
   "source": [
    "We can use K-Fold Cross Validation during the training process. This would be beneficial since we have a relatively small dataset. It would also help us in providing us with more results."
   ]
  }
 ],
 "metadata": {
  "kernelspec": {
   "display_name": "Python 3 (ipykernel)",
   "language": "python",
   "name": "python3"
  },
  "language_info": {
   "codemirror_mode": {
    "name": "ipython",
    "version": 3
   },
   "file_extension": ".py",
   "mimetype": "text/x-python",
   "name": "python",
   "nbconvert_exporter": "python",
   "pygments_lexer": "ipython3",
   "version": "3.9.12"
  }
 },
 "nbformat": 4,
 "nbformat_minor": 5
}
