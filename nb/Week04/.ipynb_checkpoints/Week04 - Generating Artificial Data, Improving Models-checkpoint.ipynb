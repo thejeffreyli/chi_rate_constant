{
 "cells": [
  {
   "cell_type": "code",
   "execution_count": 1,
   "id": "21780dbd",
   "metadata": {},
   "outputs": [],
   "source": [
    "import pandas as pd\n",
    "import matplotlib.pyplot as plt\n",
    "import numpy as np\n",
    "\n",
    "from sklearn.linear_model import LogisticRegression\n",
    "\n",
    "from sklearn.metrics import accuracy_score\n",
    "from sklearn.metrics import confusion_matrix\n",
    "from sklearn.metrics import plot_confusion_matrix\n",
    "\n",
    "from sklearn.model_selection import train_test_split\n",
    "\n",
    "from sklearn import metrics"
   ]
  },
  {
   "cell_type": "code",
   "execution_count": 2,
   "id": "56968421",
   "metadata": {},
   "outputs": [],
   "source": [
    "\"LOGISTIC REGRESSION\"\n",
    "def logReg(xTrain, yTrain):\n",
    "    # from sklearn document on LogisticRegression\n",
    "    clf = LogisticRegression(random_state=0).fit(xTrain, yTrain) \n",
    "    return clf"
   ]
  },
  {
   "cell_type": "markdown",
   "id": "ffc4e1cb",
   "metadata": {},
   "source": [
    "#### Original Model from Week 3"
   ]
  },
  {
   "cell_type": "markdown",
   "id": "ad7906eb",
   "metadata": {},
   "source": [
    "This is the original Logistic Regression model from Week 3. It was attained by training and testing on continuous features, adding 'diff' as a feature, and dropping alph1 and alph2."
   ]
  },
  {
   "cell_type": "code",
   "execution_count": 3,
   "id": "a8c4eee8",
   "metadata": {},
   "outputs": [
    {
     "data": {
      "text/html": [
       "<div>\n",
       "<style scoped>\n",
       "    .dataframe tbody tr th:only-of-type {\n",
       "        vertical-align: middle;\n",
       "    }\n",
       "\n",
       "    .dataframe tbody tr th {\n",
       "        vertical-align: top;\n",
       "    }\n",
       "\n",
       "    .dataframe thead th {\n",
       "        text-align: right;\n",
       "    }\n",
       "</style>\n",
       "<table border=\"1\" class=\"dataframe\">\n",
       "  <thead>\n",
       "    <tr style=\"text-align: right;\">\n",
       "      <th></th>\n",
       "      <th>ustat</th>\n",
       "      <th>alph1</th>\n",
       "      <th>alph2</th>\n",
       "      <th>beta</th>\n",
       "      <th>chi</th>\n",
       "      <th>diff</th>\n",
       "    </tr>\n",
       "  </thead>\n",
       "  <tbody>\n",
       "    <tr>\n",
       "      <th>0</th>\n",
       "      <td>8.408213</td>\n",
       "      <td>2.344511</td>\n",
       "      <td>2.344511</td>\n",
       "      <td>60.0</td>\n",
       "      <td>0</td>\n",
       "      <td>0.0</td>\n",
       "    </tr>\n",
       "    <tr>\n",
       "      <th>1</th>\n",
       "      <td>7.006844</td>\n",
       "      <td>2.344511</td>\n",
       "      <td>2.344511</td>\n",
       "      <td>60.0</td>\n",
       "      <td>0</td>\n",
       "      <td>0.0</td>\n",
       "    </tr>\n",
       "    <tr>\n",
       "      <th>2</th>\n",
       "      <td>5.255133</td>\n",
       "      <td>2.344511</td>\n",
       "      <td>2.344511</td>\n",
       "      <td>60.0</td>\n",
       "      <td>0</td>\n",
       "      <td>0.0</td>\n",
       "    </tr>\n",
       "    <tr>\n",
       "      <th>3</th>\n",
       "      <td>3.503422</td>\n",
       "      <td>2.344511</td>\n",
       "      <td>2.344511</td>\n",
       "      <td>60.0</td>\n",
       "      <td>0</td>\n",
       "      <td>0.0</td>\n",
       "    </tr>\n",
       "    <tr>\n",
       "      <th>4</th>\n",
       "      <td>2.102053</td>\n",
       "      <td>2.344511</td>\n",
       "      <td>2.344511</td>\n",
       "      <td>60.0</td>\n",
       "      <td>0</td>\n",
       "      <td>0.0</td>\n",
       "    </tr>\n",
       "  </tbody>\n",
       "</table>\n",
       "</div>"
      ],
      "text/plain": [
       "      ustat     alph1     alph2  beta  chi  diff\n",
       "0  8.408213  2.344511  2.344511  60.0    0   0.0\n",
       "1  7.006844  2.344511  2.344511  60.0    0   0.0\n",
       "2  5.255133  2.344511  2.344511  60.0    0   0.0\n",
       "3  3.503422  2.344511  2.344511  60.0    0   0.0\n",
       "4  2.102053  2.344511  2.344511  60.0    0   0.0"
      ]
     },
     "execution_count": 3,
     "metadata": {},
     "output_type": "execute_result"
    }
   ],
   "source": [
    "dir = \"../../data/preprocessed/week03_nobin_diff.csv\"\n",
    "df = pd.read_csv(dir)\n",
    "df.head()"
   ]
  },
  {
   "cell_type": "code",
   "execution_count": 4,
   "id": "1cfe3232",
   "metadata": {},
   "outputs": [],
   "source": [
    "# separating features and targets\n",
    "# dropping alph1 and alph2\n",
    "\n",
    "y = df['chi']\n",
    "x = df.drop(['alph1', 'alph2'], axis=1)"
   ]
  },
  {
   "cell_type": "code",
   "execution_count": 5,
   "id": "9c77b7a2",
   "metadata": {},
   "outputs": [],
   "source": [
    "# Train test split, ratio is 67:33\n",
    "xTrain, xTest, yTrain, yTest = train_test_split(x, y, test_size=0.33, random_state=42)"
   ]
  },
  {
   "cell_type": "code",
   "execution_count": 6,
   "id": "f26c0415",
   "metadata": {},
   "outputs": [],
   "source": [
    "lr = logReg(xTrain, yTrain)"
   ]
  },
  {
   "cell_type": "code",
   "execution_count": 7,
   "id": "0c48ebc8",
   "metadata": {},
   "outputs": [
    {
     "name": "stdout",
     "output_type": "stream",
     "text": [
      "Logistic Regression train set score:  0.9925925925925926\n",
      "Confusion Matrix Results:  247 0 2 21\n"
     ]
    }
   ],
   "source": [
    "print(\"Logistic Regression train set score: \", accuracy_score(yTrain, lr.predict(xTrain)))\n",
    "tn, fp, fn, tp = confusion_matrix(yTrain, lr.predict(xTrain)).ravel()\n",
    "print(\"Confusion Matrix Results: \", tn, fp, fn, tp)"
   ]
  },
  {
   "cell_type": "code",
   "execution_count": 8,
   "id": "d20ab6ac",
   "metadata": {},
   "outputs": [
    {
     "name": "stdout",
     "output_type": "stream",
     "text": [
      "Logistic Regression test set score:  1.0\n",
      "Confusion Matrix Results:  119 0 0 15\n"
     ]
    }
   ],
   "source": [
    "print(\"Logistic Regression test set score: \", accuracy_score(yTest, lr.predict(xTest)))\n",
    "tn, fp, fn, tp = confusion_matrix(yTest, lr.predict(xTest)).ravel()\n",
    "print(\"Confusion Matrix Results: \", tn, fp, fn, tp)"
   ]
  },
  {
   "cell_type": "markdown",
   "id": "54854224",
   "metadata": {},
   "source": [
    "#### Creating artificial data"
   ]
  },
  {
   "cell_type": "markdown",
   "id": "4e1017f7",
   "metadata": {},
   "source": [
    "A problem with machine learning, especially when you are starting out and want to learn about the algorithms, is that it is often difficult to get suitable test data. "
   ]
  },
  {
   "cell_type": "markdown",
   "id": "9ef0875e",
   "metadata": {},
   "source": [
    "Artificial data was generated by taking the original data and adding noise. The mean and standard deviation of the normal distribution is 0 and 0.1, respectively. Noise was created with the same dimension as the original dataset."
   ]
  },
  {
   "cell_type": "code",
   "execution_count": 9,
   "id": "aa008672",
   "metadata": {},
   "outputs": [],
   "source": [
    "mu, sigma = 0, 0.1"
   ]
  },
  {
   "cell_type": "code",
   "execution_count": 10,
   "id": "cfa3fc5f",
   "metadata": {},
   "outputs": [],
   "source": [
    "large_chi = np.genfromtxt(\"../../data/Large_chi.dat\")\n",
    "large_chi = np.delete(large_chi, 0, 0)\n",
    "large_chi_df = pd.DataFrame(large_chi, columns = ['ustat','alph1','alph2', 'beta', 'chi'])"
   ]
  },
  {
   "cell_type": "code",
   "execution_count": 11,
   "id": "280dbcd9",
   "metadata": {},
   "outputs": [
    {
     "data": {
      "text/plain": [
       "(38, 5)"
      ]
     },
     "execution_count": 11,
     "metadata": {},
     "output_type": "execute_result"
    }
   ],
   "source": [
    "large_chi_df.shape"
   ]
  },
  {
   "cell_type": "code",
   "execution_count": 12,
   "id": "8ddf6b28",
   "metadata": {},
   "outputs": [
    {
     "data": {
      "text/html": [
       "<div>\n",
       "<style scoped>\n",
       "    .dataframe tbody tr th:only-of-type {\n",
       "        vertical-align: middle;\n",
       "    }\n",
       "\n",
       "    .dataframe tbody tr th {\n",
       "        vertical-align: top;\n",
       "    }\n",
       "\n",
       "    .dataframe thead th {\n",
       "        text-align: right;\n",
       "    }\n",
       "</style>\n",
       "<table border=\"1\" class=\"dataframe\">\n",
       "  <thead>\n",
       "    <tr style=\"text-align: right;\">\n",
       "      <th></th>\n",
       "      <th>ustat</th>\n",
       "      <th>alph1</th>\n",
       "      <th>alph2</th>\n",
       "      <th>beta</th>\n",
       "      <th>chi</th>\n",
       "    </tr>\n",
       "  </thead>\n",
       "  <tbody>\n",
       "    <tr>\n",
       "      <th>0</th>\n",
       "      <td>10.500094</td>\n",
       "      <td>2.317981</td>\n",
       "      <td>2.365585</td>\n",
       "      <td>59.936499</td>\n",
       "      <td>3.288619</td>\n",
       "    </tr>\n",
       "    <tr>\n",
       "      <th>1</th>\n",
       "      <td>15.786673</td>\n",
       "      <td>1.392529</td>\n",
       "      <td>1.348227</td>\n",
       "      <td>60.104467</td>\n",
       "      <td>15.910765</td>\n",
       "    </tr>\n",
       "    <tr>\n",
       "      <th>2</th>\n",
       "      <td>9.174221</td>\n",
       "      <td>1.342684</td>\n",
       "      <td>1.521243</td>\n",
       "      <td>89.362480</td>\n",
       "      <td>10.966268</td>\n",
       "    </tr>\n",
       "    <tr>\n",
       "      <th>3</th>\n",
       "      <td>7.454574</td>\n",
       "      <td>1.629419</td>\n",
       "      <td>1.573170</td>\n",
       "      <td>89.200690</td>\n",
       "      <td>3.846061</td>\n",
       "    </tr>\n",
       "    <tr>\n",
       "      <th>4</th>\n",
       "      <td>12.933056</td>\n",
       "      <td>2.324984</td>\n",
       "      <td>1.963028</td>\n",
       "      <td>46.585871</td>\n",
       "      <td>5.653814</td>\n",
       "    </tr>\n",
       "  </tbody>\n",
       "</table>\n",
       "</div>"
      ],
      "text/plain": [
       "       ustat     alph1     alph2       beta        chi\n",
       "0  10.500094  2.317981  2.365585  59.936499   3.288619\n",
       "1  15.786673  1.392529  1.348227  60.104467  15.910765\n",
       "2   9.174221  1.342684  1.521243  89.362480  10.966268\n",
       "3   7.454574  1.629419  1.573170  89.200690   3.846061\n",
       "4  12.933056  2.324984  1.963028  46.585871   5.653814"
      ]
     },
     "execution_count": 12,
     "metadata": {},
     "output_type": "execute_result"
    }
   ],
   "source": [
    "noise = np.random.normal(mu, sigma, [38,5])\n",
    "large_signal = large_chi_df + noise\n",
    "large_signal.head()"
   ]
  },
  {
   "cell_type": "code",
   "execution_count": 13,
   "id": "dfb7f124",
   "metadata": {},
   "outputs": [],
   "source": [
    "small_chi = np.genfromtxt(\"../../data/Small_chi.dat\")\n",
    "small_chi = np.delete(small_chi, 0, 0)\n",
    "small_chi_df = pd.DataFrame(small_chi, columns = ['ustat','alph1','alph2', 'beta', 'chi'])"
   ]
  },
  {
   "cell_type": "code",
   "execution_count": 14,
   "id": "d44f96ae",
   "metadata": {},
   "outputs": [
    {
     "data": {
      "text/plain": [
       "(366, 5)"
      ]
     },
     "execution_count": 14,
     "metadata": {},
     "output_type": "execute_result"
    }
   ],
   "source": [
    "small_chi_df.shape"
   ]
  },
  {
   "cell_type": "code",
   "execution_count": 15,
   "id": "b8829fc2",
   "metadata": {},
   "outputs": [
    {
     "data": {
      "text/html": [
       "<div>\n",
       "<style scoped>\n",
       "    .dataframe tbody tr th:only-of-type {\n",
       "        vertical-align: middle;\n",
       "    }\n",
       "\n",
       "    .dataframe tbody tr th {\n",
       "        vertical-align: top;\n",
       "    }\n",
       "\n",
       "    .dataframe thead th {\n",
       "        text-align: right;\n",
       "    }\n",
       "</style>\n",
       "<table border=\"1\" class=\"dataframe\">\n",
       "  <thead>\n",
       "    <tr style=\"text-align: right;\">\n",
       "      <th></th>\n",
       "      <th>ustat</th>\n",
       "      <th>alph1</th>\n",
       "      <th>alph2</th>\n",
       "      <th>beta</th>\n",
       "      <th>chi</th>\n",
       "    </tr>\n",
       "  </thead>\n",
       "  <tbody>\n",
       "    <tr>\n",
       "      <th>0</th>\n",
       "      <td>8.245769</td>\n",
       "      <td>2.334213</td>\n",
       "      <td>2.229000</td>\n",
       "      <td>59.987766</td>\n",
       "      <td>1.027867</td>\n",
       "    </tr>\n",
       "    <tr>\n",
       "      <th>1</th>\n",
       "      <td>6.937854</td>\n",
       "      <td>2.419623</td>\n",
       "      <td>2.442753</td>\n",
       "      <td>60.025324</td>\n",
       "      <td>0.843826</td>\n",
       "    </tr>\n",
       "    <tr>\n",
       "      <th>2</th>\n",
       "      <td>5.304276</td>\n",
       "      <td>2.338836</td>\n",
       "      <td>2.413715</td>\n",
       "      <td>59.995711</td>\n",
       "      <td>0.882634</td>\n",
       "    </tr>\n",
       "    <tr>\n",
       "      <th>3</th>\n",
       "      <td>3.392019</td>\n",
       "      <td>2.296831</td>\n",
       "      <td>2.335242</td>\n",
       "      <td>60.023798</td>\n",
       "      <td>0.943002</td>\n",
       "    </tr>\n",
       "    <tr>\n",
       "      <th>4</th>\n",
       "      <td>2.105861</td>\n",
       "      <td>2.314090</td>\n",
       "      <td>2.318320</td>\n",
       "      <td>60.053515</td>\n",
       "      <td>0.826086</td>\n",
       "    </tr>\n",
       "  </tbody>\n",
       "</table>\n",
       "</div>"
      ],
      "text/plain": [
       "      ustat     alph1     alph2       beta       chi\n",
       "0  8.245769  2.334213  2.229000  59.987766  1.027867\n",
       "1  6.937854  2.419623  2.442753  60.025324  0.843826\n",
       "2  5.304276  2.338836  2.413715  59.995711  0.882634\n",
       "3  3.392019  2.296831  2.335242  60.023798  0.943002\n",
       "4  2.105861  2.314090  2.318320  60.053515  0.826086"
      ]
     },
     "execution_count": 15,
     "metadata": {},
     "output_type": "execute_result"
    }
   ],
   "source": [
    "noise = np.random.normal(mu, sigma, [366,5])\n",
    "small_signal = small_chi_df + noise\n",
    "small_signal.head()"
   ]
  },
  {
   "cell_type": "code",
   "execution_count": 16,
   "id": "43f32c09",
   "metadata": {},
   "outputs": [
    {
     "data": {
      "text/plain": [
       "Text(0, 0.5, 'chi')"
      ]
     },
     "execution_count": 16,
     "metadata": {},
     "output_type": "execute_result"
    },
    {
     "data": {
      "image/png": "[encoded data removed]",
      "text/plain": [
       "<Figure size 432x288 with 1 Axes>"
      ]
     },
     "metadata": {
      "needs_background": "light"
     },
     "output_type": "display_data"
    }
   ],
   "source": [
    "plt.scatter(small_signal['ustat'], small_signal['chi'], s = 10, c = 'blue')\n",
    "plt.scatter(large_signal['ustat'], large_signal['chi'], s = 10, c = 'red')\n",
    "plt.axhline(y=3, color='r', linestyle='-')\n",
    "plt.xlabel('ustat')\n",
    "plt.ylabel('chi')"
   ]
  },
  {
   "cell_type": "markdown",
   "id": "b2abcd41",
   "metadata": {},
   "source": [
    "We see the artificial (noisy) data resembles the original dataset."
   ]
  },
  {
   "cell_type": "markdown",
   "id": "70a539bc",
   "metadata": {},
   "source": [
    "#### Idea 1"
   ]
  },
  {
   "cell_type": "markdown",
   "id": "e092644f",
   "metadata": {},
   "source": [
    "Since our current LR model does very well (perfect testing accuracy and perfect AUC), we can use the artificial data as testing data to see how it performs. The results will reveal to us if the model is suffering from overfitting."
   ]
  },
  {
   "cell_type": "code",
   "execution_count": 17,
   "id": "97bde6f2",
   "metadata": {},
   "outputs": [],
   "source": [
    "small_samp = small_signal.sample(n = 76)"
   ]
  },
  {
   "cell_type": "code",
   "execution_count": 18,
   "id": "d0150ac1",
   "metadata": {},
   "outputs": [
    {
     "data": {
      "text/html": [
       "<div>\n",
       "<style scoped>\n",
       "    .dataframe tbody tr th:only-of-type {\n",
       "        vertical-align: middle;\n",
       "    }\n",
       "\n",
       "    .dataframe tbody tr th {\n",
       "        vertical-align: top;\n",
       "    }\n",
       "\n",
       "    .dataframe thead th {\n",
       "        text-align: right;\n",
       "    }\n",
       "</style>\n",
       "<table border=\"1\" class=\"dataframe\">\n",
       "  <thead>\n",
       "    <tr style=\"text-align: right;\">\n",
       "      <th></th>\n",
       "      <th>ustat</th>\n",
       "      <th>alph1</th>\n",
       "      <th>alph2</th>\n",
       "      <th>beta</th>\n",
       "      <th>chi</th>\n",
       "    </tr>\n",
       "  </thead>\n",
       "  <tbody>\n",
       "    <tr>\n",
       "      <th>0</th>\n",
       "      <td>2.887459</td>\n",
       "      <td>1.401432</td>\n",
       "      <td>6.308135</td>\n",
       "      <td>46.536918</td>\n",
       "      <td>0.597271</td>\n",
       "    </tr>\n",
       "    <tr>\n",
       "      <th>1</th>\n",
       "      <td>2.471130</td>\n",
       "      <td>1.810698</td>\n",
       "      <td>1.854018</td>\n",
       "      <td>88.996825</td>\n",
       "      <td>0.863451</td>\n",
       "    </tr>\n",
       "    <tr>\n",
       "      <th>2</th>\n",
       "      <td>2.467207</td>\n",
       "      <td>0.968492</td>\n",
       "      <td>64.286617</td>\n",
       "      <td>46.318873</td>\n",
       "      <td>0.125122</td>\n",
       "    </tr>\n",
       "    <tr>\n",
       "      <th>3</th>\n",
       "      <td>3.539068</td>\n",
       "      <td>2.136895</td>\n",
       "      <td>2.016186</td>\n",
       "      <td>13.611341</td>\n",
       "      <td>0.336987</td>\n",
       "    </tr>\n",
       "    <tr>\n",
       "      <th>4</th>\n",
       "      <td>0.280683</td>\n",
       "      <td>1.317386</td>\n",
       "      <td>87.044983</td>\n",
       "      <td>47.707130</td>\n",
       "      <td>1.030110</td>\n",
       "    </tr>\n",
       "  </tbody>\n",
       "</table>\n",
       "</div>"
      ],
      "text/plain": [
       "      ustat     alph1      alph2       beta       chi\n",
       "0  2.887459  1.401432   6.308135  46.536918  0.597271\n",
       "1  2.471130  1.810698   1.854018  88.996825  0.863451\n",
       "2  2.467207  0.968492  64.286617  46.318873  0.125122\n",
       "3  3.539068  2.136895   2.016186  13.611341  0.336987\n",
       "4  0.280683  1.317386  87.044983  47.707130  1.030110"
      ]
     },
     "execution_count": 18,
     "metadata": {},
     "output_type": "execute_result"
    }
   ],
   "source": [
    "frames = [small_samp, large_signal]\n",
    "new_test = pd.concat(frames, ignore_index=True)\n",
    "new_test.head()"
   ]
  },
  {
   "cell_type": "code",
   "execution_count": 19,
   "id": "e09e53c6",
   "metadata": {},
   "outputs": [
    {
     "name": "stdout",
     "output_type": "stream",
     "text": [
      "<class 'pandas.core.frame.DataFrame'>\n",
      "RangeIndex: 114 entries, 0 to 113\n",
      "Data columns (total 5 columns):\n",
      " #   Column  Non-Null Count  Dtype  \n",
      "---  ------  --------------  -----  \n",
      " 0   ustat   114 non-null    float64\n",
      " 1   alph1   114 non-null    float64\n",
      " 2   alph2   114 non-null    float64\n",
      " 3   beta    114 non-null    float64\n",
      " 4   chi     114 non-null    float64\n",
      "dtypes: float64(5)\n",
      "memory usage: 4.6 KB\n"
     ]
    }
   ],
   "source": [
    "new_test.info()"
   ]
  },
  {
   "cell_type": "markdown",
   "id": "41138baa",
   "metadata": {},
   "source": [
    "Since there are only 38 artificial large chi instances, I included all of them in the testing data. I added 76 randomly selected artificial small chi instances as well (2:1 ratio). There is a total of 114 instances."
   ]
  },
  {
   "cell_type": "code",
   "execution_count": 20,
   "id": "4ef5bcc5",
   "metadata": {},
   "outputs": [],
   "source": [
    "# Convert Chi to binary variable\n",
    "\n",
    "# small chi = 0\n",
    "# large chi = 1\n",
    "labels = []\n",
    "for i in new_test['chi']:\n",
    "    if i < 3:\n",
    "        labels.append(0)\n",
    "    else:\n",
    "        labels.append(1)\n",
    "        \n",
    "new_test['chi'] = labels"
   ]
  },
  {
   "cell_type": "code",
   "execution_count": 21,
   "id": "bf98ff95",
   "metadata": {},
   "outputs": [],
   "source": [
    "# diff = |alph1 - alph2|\n",
    "diff = []\n",
    "\n",
    "for i in range(len(new_test['alph1'])):\n",
    "    diff.append(abs(new_test['alph1'][i] - new_test['alph2'][i]))\n",
    "    \n",
    "new_test['diff'] = diff"
   ]
  },
  {
   "cell_type": "code",
   "execution_count": 22,
   "id": "6f00e5dc",
   "metadata": {},
   "outputs": [],
   "source": [
    "# separating features and targets\n",
    "# dropping alph1 and alph2\n",
    "\n",
    "yTest = new_test['chi']\n",
    "xTest = new_test.drop(['alph1', 'alph2'], axis=1)"
   ]
  },
  {
   "cell_type": "code",
   "execution_count": 23,
   "id": "0ee65d61",
   "metadata": {},
   "outputs": [
    {
     "name": "stdout",
     "output_type": "stream",
     "text": [
      "Logistic Regression test set score:  0.9824561403508771\n",
      "Confusion Matrix Results:  76 0 2 36\n"
     ]
    }
   ],
   "source": [
    "print(\"Logistic Regression test set score: \", accuracy_score(yTest, lr.predict(xTest)))\n",
    "tn, fp, fn, tp = confusion_matrix(yTest, lr.predict(xTest)).ravel()\n",
    "print(\"Confusion Matrix Results: \", tn, fp, fn, tp)"
   ]
  },
  {
   "cell_type": "code",
   "execution_count": 24,
   "id": "54189b6e",
   "metadata": {},
   "outputs": [
    {
     "name": "stderr",
     "output_type": "stream",
     "text": [
      "C:\\Users\\jeffr\\anaconda3\\lib\\site-packages\\sklearn\\utils\\deprecation.py:87: FutureWarning: Function plot_confusion_matrix is deprecated; Function `plot_confusion_matrix` is deprecated in 1.0 and will be removed in 1.2. Use one of the class methods: ConfusionMatrixDisplay.from_predictions or ConfusionMatrixDisplay.from_estimator.\n",
      "  warnings.warn(msg, category=FutureWarning)\n"
     ]
    },
    {
     "data": {
      "text/plain": [
       "Text(0.5, 1.0, 'Logistic Regression')"
      ]
     },
     "execution_count": 24,
     "metadata": {},
     "output_type": "execute_result"
    },
    {
     "data": {
      "image/png": "[encoded data removed]",
      "text/plain": [
       "<Figure size 432x288 with 2 Axes>"
      ]
     },
     "metadata": {
      "needs_background": "light"
     },
     "output_type": "display_data"
    }
   ],
   "source": [
    "disp = plot_confusion_matrix(lr, xTest, yTest, cmap=plt.cm.Blues)\n",
    "disp.ax_.set_title(\"Logistic Regression\")"
   ]
  },
  {
   "cell_type": "code",
   "execution_count": 25,
   "id": "241f4d2b",
   "metadata": {},
   "outputs": [
    {
     "name": "stderr",
     "output_type": "stream",
     "text": [
      "C:\\Users\\jeffr\\anaconda3\\lib\\site-packages\\sklearn\\utils\\deprecation.py:87: FutureWarning: Function plot_roc_curve is deprecated; Function :func:`plot_roc_curve` is deprecated in 1.0 and will be removed in 1.2. Use one of the class methods: :meth:`sklearn.metric.RocCurveDisplay.from_predictions` or :meth:`sklearn.metric.RocCurveDisplay.from_estimator`.\n",
      "  warnings.warn(msg, category=FutureWarning)\n"
     ]
    },
    {
     "data": {
      "text/plain": [
       "<sklearn.metrics._plot.roc_curve.RocCurveDisplay at 0x28c2491f3d0>"
      ]
     },
     "execution_count": 25,
     "metadata": {},
     "output_type": "execute_result"
    },
    {
     "data": {
      "image/png": "[encoded data removed]",
      "text/plain": [
       "<Figure size 432x288 with 1 Axes>"
      ]
     },
     "metadata": {
      "needs_background": "light"
     },
     "output_type": "display_data"
    }
   ],
   "source": [
    "metrics.plot_roc_curve(lr, xTest, yTest)"
   ]
  },
  {
   "cell_type": "markdown",
   "id": "2908da4f",
   "metadata": {},
   "source": [
    "#### Idea 2"
   ]
  },
  {
   "cell_type": "markdown",
   "id": "887a51b1",
   "metadata": {},
   "source": [
    "We can add the artificial data into the training data to regularize the model. Adding noise during training can make the training process more robust and reduce generalization error (overfitting)."
   ]
  },
  {
   "cell_type": "code",
   "execution_count": 26,
   "id": "b1105eff",
   "metadata": {},
   "outputs": [
    {
     "data": {
      "text/html": [
       "<div>\n",
       "<style scoped>\n",
       "    .dataframe tbody tr th:only-of-type {\n",
       "        vertical-align: middle;\n",
       "    }\n",
       "\n",
       "    .dataframe tbody tr th {\n",
       "        vertical-align: top;\n",
       "    }\n",
       "\n",
       "    .dataframe thead th {\n",
       "        text-align: right;\n",
       "    }\n",
       "</style>\n",
       "<table border=\"1\" class=\"dataframe\">\n",
       "  <thead>\n",
       "    <tr style=\"text-align: right;\">\n",
       "      <th></th>\n",
       "      <th>ustat</th>\n",
       "      <th>alph1</th>\n",
       "      <th>alph2</th>\n",
       "      <th>beta</th>\n",
       "      <th>chi</th>\n",
       "      <th>diff</th>\n",
       "    </tr>\n",
       "  </thead>\n",
       "  <tbody>\n",
       "    <tr>\n",
       "      <th>0</th>\n",
       "      <td>8.408213</td>\n",
       "      <td>2.344511</td>\n",
       "      <td>2.344511</td>\n",
       "      <td>60.0</td>\n",
       "      <td>0</td>\n",
       "      <td>0.0</td>\n",
       "    </tr>\n",
       "    <tr>\n",
       "      <th>1</th>\n",
       "      <td>7.006844</td>\n",
       "      <td>2.344511</td>\n",
       "      <td>2.344511</td>\n",
       "      <td>60.0</td>\n",
       "      <td>0</td>\n",
       "      <td>0.0</td>\n",
       "    </tr>\n",
       "    <tr>\n",
       "      <th>2</th>\n",
       "      <td>5.255133</td>\n",
       "      <td>2.344511</td>\n",
       "      <td>2.344511</td>\n",
       "      <td>60.0</td>\n",
       "      <td>0</td>\n",
       "      <td>0.0</td>\n",
       "    </tr>\n",
       "    <tr>\n",
       "      <th>3</th>\n",
       "      <td>3.503422</td>\n",
       "      <td>2.344511</td>\n",
       "      <td>2.344511</td>\n",
       "      <td>60.0</td>\n",
       "      <td>0</td>\n",
       "      <td>0.0</td>\n",
       "    </tr>\n",
       "    <tr>\n",
       "      <th>4</th>\n",
       "      <td>2.102053</td>\n",
       "      <td>2.344511</td>\n",
       "      <td>2.344511</td>\n",
       "      <td>60.0</td>\n",
       "      <td>0</td>\n",
       "      <td>0.0</td>\n",
       "    </tr>\n",
       "  </tbody>\n",
       "</table>\n",
       "</div>"
      ],
      "text/plain": [
       "      ustat     alph1     alph2  beta  chi  diff\n",
       "0  8.408213  2.344511  2.344511  60.0    0   0.0\n",
       "1  7.006844  2.344511  2.344511  60.0    0   0.0\n",
       "2  5.255133  2.344511  2.344511  60.0    0   0.0\n",
       "3  3.503422  2.344511  2.344511  60.0    0   0.0\n",
       "4  2.102053  2.344511  2.344511  60.0    0   0.0"
      ]
     },
     "execution_count": 26,
     "metadata": {},
     "output_type": "execute_result"
    }
   ],
   "source": [
    "dir = \"../../data/preprocessed/week03_nobin_diff.csv\"\n",
    "df = pd.read_csv(dir)\n",
    "df.head()"
   ]
  },
  {
   "cell_type": "code",
   "execution_count": 27,
   "id": "95aeeaaf",
   "metadata": {},
   "outputs": [],
   "source": [
    "# separating features and targets\n",
    "# dropping alph1 and alph2\n",
    "\n",
    "y = df['chi']\n",
    "x = df.drop(['alph1', 'alph2'], axis=1)"
   ]
  },
  {
   "cell_type": "code",
   "execution_count": 28,
   "id": "75b14d0e",
   "metadata": {},
   "outputs": [],
   "source": [
    "# Train test split, ratio is 67:33\n",
    "xTrain, xTest, yTrain, yTest = train_test_split(x, y, test_size=0.33, random_state=42)"
   ]
  },
  {
   "cell_type": "code",
   "execution_count": 29,
   "id": "2286a9cc",
   "metadata": {},
   "outputs": [
    {
     "data": {
      "text/html": [
       "<div>\n",
       "<style scoped>\n",
       "    .dataframe tbody tr th:only-of-type {\n",
       "        vertical-align: middle;\n",
       "    }\n",
       "\n",
       "    .dataframe tbody tr th {\n",
       "        vertical-align: top;\n",
       "    }\n",
       "\n",
       "    .dataframe thead th {\n",
       "        text-align: right;\n",
       "    }\n",
       "</style>\n",
       "<table border=\"1\" class=\"dataframe\">\n",
       "  <thead>\n",
       "    <tr style=\"text-align: right;\">\n",
       "      <th></th>\n",
       "      <th>ustat</th>\n",
       "      <th>alph1</th>\n",
       "      <th>alph2</th>\n",
       "      <th>beta</th>\n",
       "      <th>chi</th>\n",
       "    </tr>\n",
       "  </thead>\n",
       "  <tbody>\n",
       "    <tr>\n",
       "      <th>0</th>\n",
       "      <td>2.335560</td>\n",
       "      <td>1.755595</td>\n",
       "      <td>1.726410</td>\n",
       "      <td>84.520873</td>\n",
       "      <td>0.275047</td>\n",
       "    </tr>\n",
       "    <tr>\n",
       "      <th>1</th>\n",
       "      <td>0.280683</td>\n",
       "      <td>1.317386</td>\n",
       "      <td>87.044983</td>\n",
       "      <td>47.707130</td>\n",
       "      <td>1.030110</td>\n",
       "    </tr>\n",
       "    <tr>\n",
       "      <th>2</th>\n",
       "      <td>8.130737</td>\n",
       "      <td>1.963877</td>\n",
       "      <td>2.017599</td>\n",
       "      <td>13.783262</td>\n",
       "      <td>1.238889</td>\n",
       "    </tr>\n",
       "    <tr>\n",
       "      <th>3</th>\n",
       "      <td>8.531414</td>\n",
       "      <td>2.190770</td>\n",
       "      <td>2.150383</td>\n",
       "      <td>60.121071</td>\n",
       "      <td>0.814090</td>\n",
       "    </tr>\n",
       "    <tr>\n",
       "      <th>4</th>\n",
       "      <td>3.693672</td>\n",
       "      <td>1.757549</td>\n",
       "      <td>1.547031</td>\n",
       "      <td>45.750279</td>\n",
       "      <td>1.230918</td>\n",
       "    </tr>\n",
       "  </tbody>\n",
       "</table>\n",
       "</div>"
      ],
      "text/plain": [
       "      ustat     alph1      alph2       beta       chi\n",
       "0  2.335560  1.755595   1.726410  84.520873  0.275047\n",
       "1  0.280683  1.317386  87.044983  47.707130  1.030110\n",
       "2  8.130737  1.963877   2.017599  13.783262  1.238889\n",
       "3  8.531414  2.190770   2.150383  60.121071  0.814090\n",
       "4  3.693672  1.757549   1.547031  45.750279  1.230918"
      ]
     },
     "execution_count": 29,
     "metadata": {},
     "output_type": "execute_result"
    }
   ],
   "source": [
    "# concatenate the dfs\n",
    "small_samp = small_signal.sample(n = 10)\n",
    "large_samp = large_signal.sample(n = 10)\n",
    "\n",
    "frames = [small_samp, large_samp]\n",
    "result = pd.concat(frames, ignore_index=True)\n",
    "result.head()"
   ]
  },
  {
   "cell_type": "code",
   "execution_count": 30,
   "id": "30b860ee",
   "metadata": {},
   "outputs": [],
   "source": [
    "# Convert Chi to binary variable\n",
    "\n",
    "# small chi = 0\n",
    "# large chi = 1\n",
    "labels = []\n",
    "for i in result['chi']:\n",
    "    if i < 3:\n",
    "        labels.append(0)\n",
    "    else:\n",
    "        labels.append(1)\n",
    "        \n",
    "result['chi'] = labels"
   ]
  },
  {
   "cell_type": "code",
   "execution_count": 31,
   "id": "e79f98f6",
   "metadata": {},
   "outputs": [],
   "source": [
    "# diff = |alph1 - alph2|\n",
    "diff = []\n",
    "\n",
    "for i in range(len(result['alph1'])):\n",
    "    diff.append(abs(result['alph1'][i] - result['alph2'][i]))\n",
    "    \n",
    "result['diff'] = diff"
   ]
  },
  {
   "cell_type": "code",
   "execution_count": 32,
   "id": "e4403fe6",
   "metadata": {},
   "outputs": [
    {
     "name": "stdout",
     "output_type": "stream",
     "text": [
      "<class 'pandas.core.frame.DataFrame'>\n",
      "Int64Index: 270 entries, 277 to 102\n",
      "Data columns (total 4 columns):\n",
      " #   Column  Non-Null Count  Dtype  \n",
      "---  ------  --------------  -----  \n",
      " 0   ustat   270 non-null    float64\n",
      " 1   beta    270 non-null    float64\n",
      " 2   chi     270 non-null    int64  \n",
      " 3   diff    270 non-null    float64\n",
      "dtypes: float64(3), int64(1)\n",
      "memory usage: 10.5 KB\n"
     ]
    }
   ],
   "source": [
    "xTrain.info()"
   ]
  },
  {
   "cell_type": "code",
   "execution_count": 33,
   "id": "e87db26e",
   "metadata": {},
   "outputs": [],
   "source": [
    "# concatenate the dfs\n",
    "frames = [yTrain, result['chi']]\n",
    "yTrain = pd.concat(frames, ignore_index=True)\n",
    "\n",
    "frames = [xTrain, result.drop(['alph1', 'alph2'], axis=1)]\n",
    "xTrain = pd.concat(frames, ignore_index=True)"
   ]
  },
  {
   "cell_type": "code",
   "execution_count": 34,
   "id": "b4ad2c97",
   "metadata": {},
   "outputs": [
    {
     "name": "stdout",
     "output_type": "stream",
     "text": [
      "<class 'pandas.core.frame.DataFrame'>\n",
      "RangeIndex: 290 entries, 0 to 289\n",
      "Data columns (total 4 columns):\n",
      " #   Column  Non-Null Count  Dtype  \n",
      "---  ------  --------------  -----  \n",
      " 0   ustat   290 non-null    float64\n",
      " 1   beta    290 non-null    float64\n",
      " 2   chi     290 non-null    int64  \n",
      " 3   diff    290 non-null    float64\n",
      "dtypes: float64(3), int64(1)\n",
      "memory usage: 9.2 KB\n"
     ]
    }
   ],
   "source": [
    "xTrain.info()"
   ]
  },
  {
   "cell_type": "code",
   "execution_count": 35,
   "id": "5161021e",
   "metadata": {},
   "outputs": [],
   "source": [
    "lr = logReg(xTrain, yTrain)"
   ]
  },
  {
   "cell_type": "code",
   "execution_count": 36,
   "id": "93d273e0",
   "metadata": {},
   "outputs": [
    {
     "name": "stdout",
     "output_type": "stream",
     "text": [
      "Logistic Regression train set score:  0.993103448275862\n",
      "Confusion Matrix Results:  257 0 2 31\n"
     ]
    }
   ],
   "source": [
    "print(\"Logistic Regression train set score: \", accuracy_score(yTrain, lr.predict(xTrain)))\n",
    "tn, fp, fn, tp = confusion_matrix(yTrain, lr.predict(xTrain)).ravel()\n",
    "print(\"Confusion Matrix Results: \", tn, fp, fn, tp)"
   ]
  },
  {
   "cell_type": "code",
   "execution_count": 37,
   "id": "7a8a250d",
   "metadata": {},
   "outputs": [
    {
     "name": "stdout",
     "output_type": "stream",
     "text": [
      "Logistic Regression test set score:  1.0\n",
      "Confusion Matrix Results:  119 0 0 15\n"
     ]
    }
   ],
   "source": [
    "print(\"Logistic Regression test set score: \", accuracy_score(yTest, lr.predict(xTest)))\n",
    "tn, fp, fn, tp = confusion_matrix(yTest, lr.predict(xTest)).ravel()\n",
    "print(\"Confusion Matrix Results: \", tn, fp, fn, tp)"
   ]
  },
  {
   "cell_type": "code",
   "execution_count": 38,
   "id": "0b7f389a",
   "metadata": {},
   "outputs": [
    {
     "name": "stderr",
     "output_type": "stream",
     "text": [
      "C:\\Users\\jeffr\\anaconda3\\lib\\site-packages\\sklearn\\utils\\deprecation.py:87: FutureWarning: Function plot_confusion_matrix is deprecated; Function `plot_confusion_matrix` is deprecated in 1.0 and will be removed in 1.2. Use one of the class methods: ConfusionMatrixDisplay.from_predictions or ConfusionMatrixDisplay.from_estimator.\n",
      "  warnings.warn(msg, category=FutureWarning)\n"
     ]
    },
    {
     "data": {
      "text/plain": [
       "Text(0.5, 1.0, 'Logistic Regression')"
      ]
     },
     "execution_count": 38,
     "metadata": {},
     "output_type": "execute_result"
    },
    {
     "data": {
      "image/png": "[encoded data removed]",
      "text/plain": [
       "<Figure size 432x288 with 2 Axes>"
      ]
     },
     "metadata": {
      "needs_background": "light"
     },
     "output_type": "display_data"
    }
   ],
   "source": [
    "disp = plot_confusion_matrix(lr, xTest, yTest, cmap=plt.cm.Blues)\n",
    "disp.ax_.set_title(\"Logistic Regression\")"
   ]
  },
  {
   "cell_type": "code",
   "execution_count": 39,
   "id": "ef42558a",
   "metadata": {},
   "outputs": [
    {
     "name": "stderr",
     "output_type": "stream",
     "text": [
      "C:\\Users\\jeffr\\anaconda3\\lib\\site-packages\\sklearn\\utils\\deprecation.py:87: FutureWarning: Function plot_roc_curve is deprecated; Function :func:`plot_roc_curve` is deprecated in 1.0 and will be removed in 1.2. Use one of the class methods: :meth:`sklearn.metric.RocCurveDisplay.from_predictions` or :meth:`sklearn.metric.RocCurveDisplay.from_estimator`.\n",
      "  warnings.warn(msg, category=FutureWarning)\n"
     ]
    },
    {
     "data": {
      "text/plain": [
       "<sklearn.metrics._plot.roc_curve.RocCurveDisplay at 0x28c24aab910>"
      ]
     },
     "execution_count": 39,
     "metadata": {},
     "output_type": "execute_result"
    },
    {
     "data": {
      "image/png": "[encoded data removed]",
      "text/plain": [
       "<Figure size 432x288 with 1 Axes>"
      ]
     },
     "metadata": {
      "needs_background": "light"
     },
     "output_type": "display_data"
    }
   ],
   "source": [
    "metrics.plot_roc_curve(lr, xTest, yTest)"
   ]
  }
 ],
 "metadata": {
  "kernelspec": {
   "display_name": "Python 3 (ipykernel)",
   "language": "python",
   "name": "python3"
  },
  "language_info": {
   "codemirror_mode": {
    "name": "ipython",
    "version": 3
   },
   "file_extension": ".py",
   "mimetype": "text/x-python",
   "name": "python",
   "nbconvert_exporter": "python",
   "pygments_lexer": "ipython3",
   "version": "3.9.12"
  }
 },
 "nbformat": 4,
 "nbformat_minor": 5
}
