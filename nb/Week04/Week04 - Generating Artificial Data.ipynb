{
 "cells": [
  {
   "cell_type": "code",
   "execution_count": 1,
   "id": "21780dbd",
   "metadata": {},
   "outputs": [],
   "source": [
    "import pandas as pd\n",
    "import matplotlib.pyplot as plt\n",
    "import numpy as np\n",
    "\n",
    "from sklearn.linear_model import LogisticRegression\n",
    "\n",
    "from sklearn.metrics import accuracy_score\n",
    "from sklearn.metrics import confusion_matrix\n",
    "from sklearn.metrics import plot_confusion_matrix\n",
    "\n",
    "from sklearn.model_selection import train_test_split\n",
    "\n",
    "from sklearn import metrics"
   ]
  },
  {
   "cell_type": "markdown",
   "id": "54854224",
   "metadata": {},
   "source": [
    "#### Creating artificial data"
   ]
  },
  {
   "cell_type": "markdown",
   "id": "4e1017f7",
   "metadata": {},
   "source": [
    "A problem with machine learning, especially when you are starting out and want to learn about the algorithms, is that it is often difficult to get suitable test data. "
   ]
  },
  {
   "cell_type": "code",
   "execution_count": 2,
   "id": "cfa3fc5f",
   "metadata": {},
   "outputs": [
    {
     "data": {
      "text/html": [
       "<div>\n",
       "<style scoped>\n",
       "    .dataframe tbody tr th:only-of-type {\n",
       "        vertical-align: middle;\n",
       "    }\n",
       "\n",
       "    .dataframe tbody tr th {\n",
       "        vertical-align: top;\n",
       "    }\n",
       "\n",
       "    .dataframe thead th {\n",
       "        text-align: right;\n",
       "    }\n",
       "</style>\n",
       "<table border=\"1\" class=\"dataframe\">\n",
       "  <thead>\n",
       "    <tr style=\"text-align: right;\">\n",
       "      <th></th>\n",
       "      <th>ustat</th>\n",
       "      <th>alph1</th>\n",
       "      <th>alph2</th>\n",
       "      <th>beta</th>\n",
       "      <th>chi</th>\n",
       "    </tr>\n",
       "  </thead>\n",
       "  <tbody>\n",
       "    <tr>\n",
       "      <th>0</th>\n",
       "      <td>10.510266</td>\n",
       "      <td>2.344511</td>\n",
       "      <td>2.344511</td>\n",
       "      <td>60.0</td>\n",
       "      <td>3.280779</td>\n",
       "    </tr>\n",
       "    <tr>\n",
       "      <th>1</th>\n",
       "      <td>15.747414</td>\n",
       "      <td>1.459300</td>\n",
       "      <td>1.459300</td>\n",
       "      <td>60.0</td>\n",
       "      <td>15.873000</td>\n",
       "    </tr>\n",
       "    <tr>\n",
       "      <th>2</th>\n",
       "      <td>9.215366</td>\n",
       "      <td>1.499488</td>\n",
       "      <td>1.499488</td>\n",
       "      <td>89.3</td>\n",
       "      <td>10.877743</td>\n",
       "    </tr>\n",
       "    <tr>\n",
       "      <th>3</th>\n",
       "      <td>7.372293</td>\n",
       "      <td>1.499488</td>\n",
       "      <td>1.499488</td>\n",
       "      <td>89.3</td>\n",
       "      <td>3.841368</td>\n",
       "    </tr>\n",
       "    <tr>\n",
       "      <th>4</th>\n",
       "      <td>12.984962</td>\n",
       "      <td>2.438502</td>\n",
       "      <td>2.076896</td>\n",
       "      <td>46.7</td>\n",
       "      <td>5.734794</td>\n",
       "    </tr>\n",
       "  </tbody>\n",
       "</table>\n",
       "</div>"
      ],
      "text/plain": [
       "       ustat     alph1     alph2  beta        chi\n",
       "0  10.510266  2.344511  2.344511  60.0   3.280779\n",
       "1  15.747414  1.459300  1.459300  60.0  15.873000\n",
       "2   9.215366  1.499488  1.499488  89.3  10.877743\n",
       "3   7.372293  1.499488  1.499488  89.3   3.841368\n",
       "4  12.984962  2.438502  2.076896  46.7   5.734794"
      ]
     },
     "execution_count": 2,
     "metadata": {},
     "output_type": "execute_result"
    }
   ],
   "source": [
    "large_chi = np.genfromtxt(\"../../data/Large_chi.dat\")\n",
    "large_chi = np.delete(large_chi, 0, 0)\n",
    "large_chi_df = pd.DataFrame(large_chi, columns = ['ustat','alph1','alph2', 'beta', 'chi'])\n",
    "large_chi_df.head()"
   ]
  },
  {
   "cell_type": "code",
   "execution_count": 3,
   "id": "2be09f90",
   "metadata": {},
   "outputs": [
    {
     "name": "stdout",
     "output_type": "stream",
     "text": [
      "0.25     8.713569\n",
      "0.50    10.344806\n",
      "0.75    11.976379\n",
      "Name: ustat, dtype: float64\n",
      "sd: 2.4691874203368824\n",
      "mean: 10.326957973668554\n",
      "median: 10.344806346811\n",
      "min: 5.265923675845\n",
      "max: 15.747413833915\n"
     ]
    },
    {
     "data": {
      "image/png": "[encoded data removed]",
      "text/plain": [
       "<Figure size 432x288 with 1 Axes>"
      ]
     },
     "metadata": {
      "needs_background": "light"
     },
     "output_type": "display_data"
    }
   ],
   "source": [
    "large_chi_df['ustat'].plot.box()\n",
    "print(large_chi_df['ustat'].quantile([0.25,0.5,0.75]))\n",
    "\n",
    "print(\"sd:\", large_chi_df['ustat'].std())\n",
    "print(\"mean:\", large_chi_df['ustat'].mean())\n",
    "\n",
    "print(\"median:\", large_chi_df['ustat'].median())\n",
    "print(\"min:\", large_chi_df['ustat'].min())\n",
    "print(\"max:\", large_chi_df['ustat'].max())"
   ]
  },
  {
   "cell_type": "code",
   "execution_count": 4,
   "id": "6d03e790",
   "metadata": {},
   "outputs": [
    {
     "name": "stdout",
     "output_type": "stream",
     "text": [
      "0.25    1.535035\n",
      "0.50    2.132171\n",
      "0.75    2.462107\n",
      "Name: alph1, dtype: float64\n",
      "sd: 0.6228725855287206\n",
      "mean: 2.151878837804343\n",
      "median: 2.1321711161455\n",
      "min: 1.45930048352\n",
      "max: 3.509591530055\n"
     ]
    },
    {
     "data": {
      "image/png": "[encoded data removed]",
      "text/plain": [
       "<Figure size 432x288 with 1 Axes>"
      ]
     },
     "metadata": {
      "needs_background": "light"
     },
     "output_type": "display_data"
    }
   ],
   "source": [
    "large_chi_df['alph1'].plot.box()\n",
    "print(large_chi_df['alph1'].quantile([0.25,0.5,0.75]))\n",
    "\n",
    "print(\"sd:\", large_chi_df['alph1'].std())\n",
    "print(\"mean:\", large_chi_df['alph1'].mean())\n",
    "\n",
    "print(\"median:\", large_chi_df['alph1'].median())\n",
    "print(\"min:\", large_chi_df['alph1'].min())\n",
    "print(\"max:\", large_chi_df['alph1'].max())"
   ]
  },
  {
   "cell_type": "code",
   "execution_count": 5,
   "id": "af366b0c",
   "metadata": {},
   "outputs": [
    {
     "name": "stdout",
     "output_type": "stream",
     "text": [
      "0.25    1.535035\n",
      "0.50    1.991636\n",
      "0.75    2.307606\n",
      "Name: alph2, dtype: float64\n",
      "sd: 0.8531037070409859\n",
      "mean: 2.1400917752497373\n",
      "median: 1.991635583934\n",
      "min: 1.45930048352\n",
      "max: 6.236981666667\n"
     ]
    },
    {
     "data": {
      "image/png": "[encoded data removed]",
      "text/plain": [
       "<Figure size 432x288 with 1 Axes>"
      ]
     },
     "metadata": {
      "needs_background": "light"
     },
     "output_type": "display_data"
    }
   ],
   "source": [
    "large_chi_df['alph2'].plot.box()\n",
    "print(large_chi_df['alph2'].quantile([0.25,0.5,0.75]))\n",
    "\n",
    "print(\"sd:\", large_chi_df['alph2'].std())\n",
    "print(\"mean:\", large_chi_df['alph2'].mean())\n",
    "\n",
    "print(\"median:\", large_chi_df['alph2'].median())\n",
    "print(\"min:\", large_chi_df['alph2'].min())\n",
    "print(\"max:\", large_chi_df['alph2'].max())"
   ]
  },
  {
   "cell_type": "code",
   "execution_count": 6,
   "id": "2f819d04",
   "metadata": {},
   "outputs": [
    {
     "name": "stdout",
     "output_type": "stream",
     "text": [
      "0.25    46.70\n",
      "0.50    51.45\n",
      "0.75    60.00\n",
      "Name: beta, dtype: float64\n",
      "sd: 19.448148957324637\n",
      "mean: 53.363157894736844\n",
      "median: 51.45\n",
      "min: 13.6\n",
      "max: 89.3\n"
     ]
    },
    {
     "data": {
      "image/png": "[encoded data removed]",
      "text/plain": [
       "<Figure size 432x288 with 1 Axes>"
      ]
     },
     "metadata": {
      "needs_background": "light"
     },
     "output_type": "display_data"
    }
   ],
   "source": [
    "large_chi_df['beta'].plot.box()\n",
    "print(large_chi_df['beta'].quantile([0.25,0.5,0.75]))\n",
    "\n",
    "print(\"sd:\", large_chi_df['beta'].std())\n",
    "print(\"mean:\", large_chi_df['beta'].mean())\n",
    "\n",
    "print(\"median:\", large_chi_df['beta'].median())\n",
    "print(\"min:\", large_chi_df['beta'].min())\n",
    "print(\"max:\", large_chi_df['beta'].max())"
   ]
  },
  {
   "cell_type": "code",
   "execution_count": 7,
   "id": "43487d96",
   "metadata": {},
   "outputs": [
    {
     "name": "stdout",
     "output_type": "stream",
     "text": [
      "0.25    3.626894\n",
      "0.50    5.285976\n",
      "0.75    9.890551\n",
      "Name: chi, dtype: float64\n",
      "sd: 5.552484395322056\n",
      "mean: 7.425552397280289\n",
      "median: 5.285976470324\n",
      "min: 3.055007364405\n",
      "max: 25.005331620136\n"
     ]
    },
    {
     "data": {
      "image/png": "[encoded data removed]",
      "text/plain": [
       "<Figure size 432x288 with 1 Axes>"
      ]
     },
     "metadata": {
      "needs_background": "light"
     },
     "output_type": "display_data"
    }
   ],
   "source": [
    "large_chi_df['chi'].plot.box()\n",
    "print(large_chi_df['chi'].quantile([0.25,0.5,0.75]))\n",
    "\n",
    "print(\"sd:\", large_chi_df['chi'].std())\n",
    "print(\"mean:\", large_chi_df['chi'].mean())\n",
    "\n",
    "print(\"median:\", large_chi_df['chi'].median())\n",
    "print(\"min:\", large_chi_df['chi'].min())\n",
    "print(\"max:\", large_chi_df['chi'].max())"
   ]
  },
  {
   "cell_type": "code",
   "execution_count": 8,
   "id": "82042744",
   "metadata": {},
   "outputs": [
    {
     "data": {
      "text/html": [
       "<div>\n",
       "<style scoped>\n",
       "    .dataframe tbody tr th:only-of-type {\n",
       "        vertical-align: middle;\n",
       "    }\n",
       "\n",
       "    .dataframe tbody tr th {\n",
       "        vertical-align: top;\n",
       "    }\n",
       "\n",
       "    .dataframe thead th {\n",
       "        text-align: right;\n",
       "    }\n",
       "</style>\n",
       "<table border=\"1\" class=\"dataframe\">\n",
       "  <thead>\n",
       "    <tr style=\"text-align: right;\">\n",
       "      <th></th>\n",
       "      <th>ustat</th>\n",
       "      <th>alph1</th>\n",
       "      <th>alph2</th>\n",
       "      <th>beta</th>\n",
       "      <th>chi</th>\n",
       "    </tr>\n",
       "  </thead>\n",
       "  <tbody>\n",
       "    <tr>\n",
       "      <th>0</th>\n",
       "      <td>12.292430</td>\n",
       "      <td>2.607531</td>\n",
       "      <td>3.935316</td>\n",
       "      <td>53.886312</td>\n",
       "      <td>5.524314</td>\n",
       "    </tr>\n",
       "    <tr>\n",
       "      <th>1</th>\n",
       "      <td>11.501091</td>\n",
       "      <td>1.919021</td>\n",
       "      <td>3.745269</td>\n",
       "      <td>96.103948</td>\n",
       "      <td>7.837235</td>\n",
       "    </tr>\n",
       "    <tr>\n",
       "      <th>2</th>\n",
       "      <td>11.652619</td>\n",
       "      <td>2.344091</td>\n",
       "      <td>1.715227</td>\n",
       "      <td>37.165216</td>\n",
       "      <td>16.645666</td>\n",
       "    </tr>\n",
       "    <tr>\n",
       "      <th>3</th>\n",
       "      <td>10.870337</td>\n",
       "      <td>1.797608</td>\n",
       "      <td>0.743441</td>\n",
       "      <td>50.601188</td>\n",
       "      <td>10.966375</td>\n",
       "    </tr>\n",
       "    <tr>\n",
       "      <th>4</th>\n",
       "      <td>11.876640</td>\n",
       "      <td>2.108081</td>\n",
       "      <td>3.075950</td>\n",
       "      <td>54.453699</td>\n",
       "      <td>12.462129</td>\n",
       "    </tr>\n",
       "    <tr>\n",
       "      <th>...</th>\n",
       "      <td>...</td>\n",
       "      <td>...</td>\n",
       "      <td>...</td>\n",
       "      <td>...</td>\n",
       "      <td>...</td>\n",
       "    </tr>\n",
       "    <tr>\n",
       "      <th>95</th>\n",
       "      <td>5.463897</td>\n",
       "      <td>2.315339</td>\n",
       "      <td>3.056161</td>\n",
       "      <td>72.364078</td>\n",
       "      <td>1.351907</td>\n",
       "    </tr>\n",
       "    <tr>\n",
       "      <th>96</th>\n",
       "      <td>12.094200</td>\n",
       "      <td>2.028608</td>\n",
       "      <td>0.580601</td>\n",
       "      <td>59.226388</td>\n",
       "      <td>10.261413</td>\n",
       "    </tr>\n",
       "    <tr>\n",
       "      <th>97</th>\n",
       "      <td>6.979256</td>\n",
       "      <td>1.907995</td>\n",
       "      <td>3.270820</td>\n",
       "      <td>56.359235</td>\n",
       "      <td>2.934197</td>\n",
       "    </tr>\n",
       "    <tr>\n",
       "      <th>98</th>\n",
       "      <td>9.179781</td>\n",
       "      <td>2.890604</td>\n",
       "      <td>2.372385</td>\n",
       "      <td>12.062923</td>\n",
       "      <td>4.717556</td>\n",
       "    </tr>\n",
       "    <tr>\n",
       "      <th>99</th>\n",
       "      <td>9.171513</td>\n",
       "      <td>2.190049</td>\n",
       "      <td>2.111125</td>\n",
       "      <td>60.146818</td>\n",
       "      <td>7.380485</td>\n",
       "    </tr>\n",
       "  </tbody>\n",
       "</table>\n",
       "<p>100 rows × 5 columns</p>\n",
       "</div>"
      ],
      "text/plain": [
       "        ustat     alph1     alph2       beta        chi\n",
       "0   12.292430  2.607531  3.935316  53.886312   5.524314\n",
       "1   11.501091  1.919021  3.745269  96.103948   7.837235\n",
       "2   11.652619  2.344091  1.715227  37.165216  16.645666\n",
       "3   10.870337  1.797608  0.743441  50.601188  10.966375\n",
       "4   11.876640  2.108081  3.075950  54.453699  12.462129\n",
       "..        ...       ...       ...        ...        ...\n",
       "95   5.463897  2.315339  3.056161  72.364078   1.351907\n",
       "96  12.094200  2.028608  0.580601  59.226388  10.261413\n",
       "97   6.979256  1.907995  3.270820  56.359235   2.934197\n",
       "98   9.179781  2.890604  2.372385  12.062923   4.717556\n",
       "99   9.171513  2.190049  2.111125  60.146818   7.380485\n",
       "\n",
       "[100 rows x 5 columns]"
      ]
     },
     "execution_count": 8,
     "metadata": {},
     "output_type": "execute_result"
    }
   ],
   "source": [
    "import numpy as np\n",
    "import pandas as pd\n",
    "\n",
    "cities = list(range(0, 100))\n",
    "\n",
    "\n",
    "n= len(cities)\n",
    "\n",
    "# normal(mu, sigma)\n",
    "data = {'ustat': np.random.normal(large_chi_df['ustat'].mean(), large_chi_df['ustat'].std(), n),\n",
    "        'alph1': np.random.normal(large_chi_df['alph1'].mean(), large_chi_df['alph1'].std(), n),\n",
    "        'alph2': np.random.normal(large_chi_df['alph2'].mean(), large_chi_df['alph2'].std(), n),\n",
    "        'beta': np.random.normal(large_chi_df['beta'].mean(), large_chi_df['beta'].std(), n),\n",
    "        'chi': np.random.normal(large_chi_df['chi'].mean(), large_chi_df['chi'].std(), n)\n",
    "       }\n",
    "df = pd.DataFrame(data=data, index=cities)\n",
    "df"
   ]
  },
  {
   "cell_type": "code",
   "execution_count": 9,
   "id": "272a6ca3",
   "metadata": {},
   "outputs": [],
   "source": [
    "df.to_csv(\"../../data/processed/week04_large_chi_art_data.csv\", index = False)"
   ]
  },
  {
   "cell_type": "code",
   "execution_count": null,
   "id": "a32816c5",
   "metadata": {},
   "outputs": [],
   "source": []
  }
 ],
 "metadata": {
  "kernelspec": {
   "display_name": "Python 3 (ipykernel)",
   "language": "python",
   "name": "python3"
  },
  "language_info": {
   "codemirror_mode": {
    "name": "ipython",
    "version": 3
   },
   "file_extension": ".py",
   "mimetype": "text/x-python",
   "name": "python",
   "nbconvert_exporter": "python",
   "pygments_lexer": "ipython3",
   "version": "3.9.12"
  }
 },
 "nbformat": 4,
 "nbformat_minor": 5
}
