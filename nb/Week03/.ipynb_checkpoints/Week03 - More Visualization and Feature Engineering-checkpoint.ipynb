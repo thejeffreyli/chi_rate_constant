{
 "cells": [
  {
   "cell_type": "code",
   "execution_count": 1,
   "id": "330e1ba6",
   "metadata": {},
   "outputs": [],
   "source": [
    "import pandas as pd\n",
    "import numpy as np\n",
    "import matplotlib.pyplot as plt\n",
    "\n",
    "import sklearn "
   ]
  },
  {
   "cell_type": "code",
   "execution_count": 2,
   "id": "30c468e4",
   "metadata": {},
   "outputs": [
    {
     "data": {
      "text/html": [
       "<div>\n",
       "<style scoped>\n",
       "    .dataframe tbody tr th:only-of-type {\n",
       "        vertical-align: middle;\n",
       "    }\n",
       "\n",
       "    .dataframe tbody tr th {\n",
       "        vertical-align: top;\n",
       "    }\n",
       "\n",
       "    .dataframe thead th {\n",
       "        text-align: right;\n",
       "    }\n",
       "</style>\n",
       "<table border=\"1\" class=\"dataframe\">\n",
       "  <thead>\n",
       "    <tr style=\"text-align: right;\">\n",
       "      <th></th>\n",
       "      <th>ustat</th>\n",
       "      <th>alph1</th>\n",
       "      <th>alph2</th>\n",
       "      <th>beta</th>\n",
       "      <th>chi</th>\n",
       "    </tr>\n",
       "  </thead>\n",
       "  <tbody>\n",
       "    <tr>\n",
       "      <th>0</th>\n",
       "      <td>8.408213</td>\n",
       "      <td>2.344511</td>\n",
       "      <td>2.344511</td>\n",
       "      <td>60.0</td>\n",
       "      <td>1.094479</td>\n",
       "    </tr>\n",
       "    <tr>\n",
       "      <th>1</th>\n",
       "      <td>7.006844</td>\n",
       "      <td>2.344511</td>\n",
       "      <td>2.344511</td>\n",
       "      <td>60.0</td>\n",
       "      <td>0.840347</td>\n",
       "    </tr>\n",
       "    <tr>\n",
       "      <th>2</th>\n",
       "      <td>5.255133</td>\n",
       "      <td>2.344511</td>\n",
       "      <td>2.344511</td>\n",
       "      <td>60.0</td>\n",
       "      <td>0.772829</td>\n",
       "    </tr>\n",
       "    <tr>\n",
       "      <th>3</th>\n",
       "      <td>3.503422</td>\n",
       "      <td>2.344511</td>\n",
       "      <td>2.344511</td>\n",
       "      <td>60.0</td>\n",
       "      <td>0.811944</td>\n",
       "    </tr>\n",
       "    <tr>\n",
       "      <th>4</th>\n",
       "      <td>2.102053</td>\n",
       "      <td>2.344511</td>\n",
       "      <td>2.344511</td>\n",
       "      <td>60.0</td>\n",
       "      <td>0.844523</td>\n",
       "    </tr>\n",
       "  </tbody>\n",
       "</table>\n",
       "</div>"
      ],
      "text/plain": [
       "      ustat     alph1     alph2  beta       chi\n",
       "0  8.408213  2.344511  2.344511  60.0  1.094479\n",
       "1  7.006844  2.344511  2.344511  60.0  0.840347\n",
       "2  5.255133  2.344511  2.344511  60.0  0.772829\n",
       "3  3.503422  2.344511  2.344511  60.0  0.811944\n",
       "4  2.102053  2.344511  2.344511  60.0  0.844523"
      ]
     },
     "execution_count": 2,
     "metadata": {},
     "output_type": "execute_result"
    }
   ],
   "source": [
    "data = np.genfromtxt(\"../../data/data.dat\")\n",
    "data = np.genfromtxt(\"../../data/data.dat\")\n",
    "data = np.delete(data, 0, 0)\n",
    "df = pd.DataFrame(data, columns = ['ustat','alph1','alph2', 'beta', 'chi'])\n",
    "df.head()"
   ]
  },
  {
   "cell_type": "markdown",
   "id": "44f119d9",
   "metadata": {},
   "source": [
    "#### Brainstorming ways to further separate small chi and large chi."
   ]
  },
  {
   "cell_type": "code",
   "execution_count": 3,
   "id": "361b74fb",
   "metadata": {},
   "outputs": [],
   "source": [
    "small_chi = np.genfromtxt(\"../../data/Small_chi.dat\")\n",
    "small_chi = np.delete(small_chi, 0, 0)\n",
    "small_chi_df = pd.DataFrame(small_chi, columns = ['ustat','alph1','alph2', 'beta', 'chi'])"
   ]
  },
  {
   "cell_type": "code",
   "execution_count": 4,
   "id": "a5869a78",
   "metadata": {},
   "outputs": [
    {
     "data": {
      "text/plain": [
       "<AxesSubplot:xlabel='ustat', ylabel='chi'>"
      ]
     },
     "execution_count": 4,
     "metadata": {},
     "output_type": "execute_result"
    },
    {
     "data": {
      "image/png": "[encoded data removed]",
      "text/plain": [
       "<Figure size 432x288 with 1 Axes>"
      ]
     },
     "metadata": {
      "needs_background": "light"
     },
     "output_type": "display_data"
    }
   ],
   "source": [
    "small_chi_df.plot.scatter(x='ustat', y='chi')"
   ]
  },
  {
   "cell_type": "code",
   "execution_count": 5,
   "id": "c08eb0ce",
   "metadata": {},
   "outputs": [
    {
     "data": {
      "text/plain": [
       "12.597931067132"
      ]
     },
     "execution_count": 5,
     "metadata": {},
     "output_type": "execute_result"
    }
   ],
   "source": [
    "# rightmost small_chi value\n",
    "small_chi_df['ustat'].max()"
   ]
  },
  {
   "cell_type": "code",
   "execution_count": 6,
   "id": "33558ed1",
   "metadata": {},
   "outputs": [],
   "source": [
    "large_chi = np.genfromtxt(\"../../data/Large_chi.dat\")\n",
    "large_chi = np.delete(large_chi, 0, 0)\n",
    "large_chi_df = pd.DataFrame(large_chi, columns = ['ustat','alph1','alph2', 'beta', 'chi'])"
   ]
  },
  {
   "cell_type": "code",
   "execution_count": 7,
   "id": "b278356f",
   "metadata": {},
   "outputs": [
    {
     "data": {
      "text/plain": [
       "5.265923675845"
      ]
     },
     "execution_count": 7,
     "metadata": {},
     "output_type": "execute_result"
    }
   ],
   "source": [
    "# leftmost large_chi value\n",
    "large_chi_df['ustat'].min()"
   ]
  },
  {
   "cell_type": "code",
   "execution_count": 8,
   "id": "d9ae7161",
   "metadata": {},
   "outputs": [
    {
     "data": {
      "text/plain": [
       "<matplotlib.lines.Line2D at 0x1845fd58c10>"
      ]
     },
     "execution_count": 8,
     "metadata": {},
     "output_type": "execute_result"
    },
    {
     "data": {
      "image/png": "[encoded data removed]",
      "text/plain": [
       "<Figure size 432x288 with 1 Axes>"
      ]
     },
     "metadata": {
      "needs_background": "light"
     },
     "output_type": "display_data"
    }
   ],
   "source": [
    "plt.scatter(small_chi_df['ustat'], small_chi_df['chi'], s = 10, c = 'blue')\n",
    "plt.scatter(large_chi_df['ustat'], large_chi_df['chi'], s = 10, c = 'red')\n",
    "\n",
    "plt.axhline(y=3, color='black', linestyle='-')\n",
    "plt.axvline(x=5.27, color='black', linestyle='-')\n",
    "plt.axvline(x=12.60, color='black', linestyle='-')"
   ]
  },
  {
   "cell_type": "code",
   "execution_count": null,
   "id": "7cc5a41f",
   "metadata": {},
   "outputs": [],
   "source": []
  },
  {
   "cell_type": "markdown",
   "id": "ad39df60",
   "metadata": {},
   "source": [
    "#### New Feature: Absolute Difference Between Alph1 and Alph2"
   ]
  },
  {
   "cell_type": "code",
   "execution_count": 9,
   "id": "9f415610",
   "metadata": {},
   "outputs": [],
   "source": [
    "# diff = |alph1 - alph2|\n",
    "diff = []\n",
    "\n",
    "for i in range(len(df['alph1'])):\n",
    "    diff.append(abs(df['alph1'][i] - df['alph2'][i]))\n",
    "    \n",
    "df['diff'] = diff"
   ]
  },
  {
   "cell_type": "code",
   "execution_count": 10,
   "id": "aa02047b",
   "metadata": {},
   "outputs": [
    {
     "data": {
      "text/plain": [
       "<AxesSubplot:>"
      ]
     },
     "execution_count": 10,
     "metadata": {},
     "output_type": "execute_result"
    },
    {
     "data": {
      "image/png": "[encoded data removed]",
      "text/plain": [
       "<Figure size 432x288 with 1 Axes>"
      ]
     },
     "metadata": {
      "needs_background": "light"
     },
     "output_type": "display_data"
    }
   ],
   "source": [
    "df['diff'].plot.box()"
   ]
  },
  {
   "cell_type": "code",
   "execution_count": 11,
   "id": "437269d5",
   "metadata": {},
   "outputs": [
    {
     "data": {
      "text/plain": [
       "<AxesSubplot:>"
      ]
     },
     "execution_count": 11,
     "metadata": {},
     "output_type": "execute_result"
    },
    {
     "data": {
      "image/png": "[encoded data removed]",
      "text/plain": [
       "<Figure size 432x288 with 1 Axes>"
      ]
     },
     "metadata": {
      "needs_background": "light"
     },
     "output_type": "display_data"
    }
   ],
   "source": [
    "df['diff'].plot.box(showfliers=False)"
   ]
  },
  {
   "cell_type": "code",
   "execution_count": 12,
   "id": "7e2c54d5",
   "metadata": {},
   "outputs": [
    {
     "name": "stdout",
     "output_type": "stream",
     "text": [
      "8.363363996971147\n",
      "0.13114754098399972\n",
      "0.0\n",
      "92.894594594594\n"
     ]
    }
   ],
   "source": [
    "print(df['diff'].mean())\n",
    "print(df['diff'].median())\n",
    "print(df['diff'].min())\n",
    "print(df['diff'].max())"
   ]
  },
  {
   "cell_type": "code",
   "execution_count": 13,
   "id": "a7ab71dd",
   "metadata": {},
   "outputs": [
    {
     "data": {
      "text/plain": [
       "0.25    0.000000\n",
       "0.50    0.131148\n",
       "0.75    0.366274\n",
       "Name: diff, dtype: float64"
      ]
     },
     "execution_count": 13,
     "metadata": {},
     "output_type": "execute_result"
    }
   ],
   "source": [
    "df['diff'].quantile([0.25,0.5,0.75])"
   ]
  },
  {
   "cell_type": "code",
   "execution_count": 14,
   "id": "6fe2d63c",
   "metadata": {},
   "outputs": [
    {
     "data": {
      "text/plain": [
       "<matplotlib.lines.Line2D at 0x1845fe0ac70>"
      ]
     },
     "execution_count": 14,
     "metadata": {},
     "output_type": "execute_result"
    },
    {
     "data": {
      "image/png": "[encoded data removed]",
      "text/plain": [
       "<Figure size 432x288 with 1 Axes>"
      ]
     },
     "metadata": {
      "needs_background": "light"
     },
     "output_type": "display_data"
    }
   ],
   "source": [
    "df.plot.scatter(x='diff', y='chi')\n",
    "plt.axhline(y=3, color='r', linestyle='-')"
   ]
  },
  {
   "cell_type": "code",
   "execution_count": 15,
   "id": "df29273f",
   "metadata": {},
   "outputs": [
    {
     "data": {
      "text/plain": [
       "4.670833333334"
      ]
     },
     "execution_count": 15,
     "metadata": {},
     "output_type": "execute_result"
    }
   ],
   "source": [
    "df.loc[df['chi'] >= 3]['diff'].max()\n",
    "#large_chi_df['diff'].max()"
   ]
  },
  {
   "cell_type": "markdown",
   "id": "d836ff10",
   "metadata": {},
   "source": [
    "All large chi values appear when the difference is very small. The largest difference is 4.67."
   ]
  },
  {
   "cell_type": "code",
   "execution_count": 16,
   "id": "db2b2291",
   "metadata": {},
   "outputs": [
    {
     "data": {
      "text/plain": [
       "<matplotlib.lines.Line2D at 0x1845fe91ee0>"
      ]
     },
     "execution_count": 16,
     "metadata": {},
     "output_type": "execute_result"
    },
    {
     "data": {
      "image/png": "[encoded data removed]",
      "text/plain": [
       "<Figure size 432x288 with 1 Axes>"
      ]
     },
     "metadata": {
      "needs_background": "light"
     },
     "output_type": "display_data"
    }
   ],
   "source": [
    "df.plot.scatter(x='diff', y='chi')\n",
    "plt.axhline(y=3, color='r', linestyle='-')\n",
    "plt.axvline(x=4.671, color='r', linestyle='-')"
   ]
  },
  {
   "cell_type": "code",
   "execution_count": 17,
   "id": "68e9fc4d",
   "metadata": {},
   "outputs": [
    {
     "data": {
      "text/plain": [
       "0      1.094479\n",
       "1      0.840347\n",
       "2      0.772829\n",
       "3      0.811944\n",
       "4      0.844523\n",
       "         ...   \n",
       "399    3.242146\n",
       "400    8.411301\n",
       "401    4.152371\n",
       "402    4.508679\n",
       "403    6.764706\n",
       "Name: chi, Length: 404, dtype: float64"
      ]
     },
     "execution_count": 17,
     "metadata": {},
     "output_type": "execute_result"
    }
   ],
   "source": [
    "df['chi']"
   ]
  },
  {
   "cell_type": "code",
   "execution_count": 18,
   "id": "a7c64a71",
   "metadata": {},
   "outputs": [],
   "source": [
    "# CHI\n",
    "\n",
    "# small chi = 0\n",
    "# large chi = 1\n",
    "labels = []\n",
    "for i in df['chi']:\n",
    "    if i < 3:\n",
    "        labels.append(0)\n",
    "    else:\n",
    "        labels.append(1)\n",
    "        \n",
    "df['chi'] = labels"
   ]
  },
  {
   "cell_type": "code",
   "execution_count": 19,
   "id": "1a749006",
   "metadata": {},
   "outputs": [
    {
     "data": {
      "text/plain": [
       "0      0\n",
       "1      0\n",
       "2      0\n",
       "3      0\n",
       "4      0\n",
       "      ..\n",
       "399    1\n",
       "400    1\n",
       "401    1\n",
       "402    1\n",
       "403    1\n",
       "Name: chi, Length: 404, dtype: int64"
      ]
     },
     "execution_count": 19,
     "metadata": {},
     "output_type": "execute_result"
    }
   ],
   "source": [
    "df['chi']"
   ]
  },
  {
   "cell_type": "code",
   "execution_count": 20,
   "id": "f4a183e1",
   "metadata": {},
   "outputs": [
    {
     "data": {
      "text/html": [
       "<div>\n",
       "<style scoped>\n",
       "    .dataframe tbody tr th:only-of-type {\n",
       "        vertical-align: middle;\n",
       "    }\n",
       "\n",
       "    .dataframe tbody tr th {\n",
       "        vertical-align: top;\n",
       "    }\n",
       "\n",
       "    .dataframe thead th {\n",
       "        text-align: right;\n",
       "    }\n",
       "</style>\n",
       "<table border=\"1\" class=\"dataframe\">\n",
       "  <thead>\n",
       "    <tr style=\"text-align: right;\">\n",
       "      <th></th>\n",
       "      <th>ustat</th>\n",
       "      <th>alph1</th>\n",
       "      <th>alph2</th>\n",
       "      <th>beta</th>\n",
       "      <th>chi</th>\n",
       "      <th>diff</th>\n",
       "    </tr>\n",
       "  </thead>\n",
       "  <tbody>\n",
       "    <tr>\n",
       "      <th>0</th>\n",
       "      <td>8.408213</td>\n",
       "      <td>2.344511</td>\n",
       "      <td>2.344511</td>\n",
       "      <td>60.0</td>\n",
       "      <td>0</td>\n",
       "      <td>0.0</td>\n",
       "    </tr>\n",
       "    <tr>\n",
       "      <th>1</th>\n",
       "      <td>7.006844</td>\n",
       "      <td>2.344511</td>\n",
       "      <td>2.344511</td>\n",
       "      <td>60.0</td>\n",
       "      <td>0</td>\n",
       "      <td>0.0</td>\n",
       "    </tr>\n",
       "    <tr>\n",
       "      <th>2</th>\n",
       "      <td>5.255133</td>\n",
       "      <td>2.344511</td>\n",
       "      <td>2.344511</td>\n",
       "      <td>60.0</td>\n",
       "      <td>0</td>\n",
       "      <td>0.0</td>\n",
       "    </tr>\n",
       "    <tr>\n",
       "      <th>3</th>\n",
       "      <td>3.503422</td>\n",
       "      <td>2.344511</td>\n",
       "      <td>2.344511</td>\n",
       "      <td>60.0</td>\n",
       "      <td>0</td>\n",
       "      <td>0.0</td>\n",
       "    </tr>\n",
       "    <tr>\n",
       "      <th>4</th>\n",
       "      <td>2.102053</td>\n",
       "      <td>2.344511</td>\n",
       "      <td>2.344511</td>\n",
       "      <td>60.0</td>\n",
       "      <td>0</td>\n",
       "      <td>0.0</td>\n",
       "    </tr>\n",
       "  </tbody>\n",
       "</table>\n",
       "</div>"
      ],
      "text/plain": [
       "      ustat     alph1     alph2  beta  chi  diff\n",
       "0  8.408213  2.344511  2.344511  60.0    0   0.0\n",
       "1  7.006844  2.344511  2.344511  60.0    0   0.0\n",
       "2  5.255133  2.344511  2.344511  60.0    0   0.0\n",
       "3  3.503422  2.344511  2.344511  60.0    0   0.0\n",
       "4  2.102053  2.344511  2.344511  60.0    0   0.0"
      ]
     },
     "execution_count": 20,
     "metadata": {},
     "output_type": "execute_result"
    }
   ],
   "source": [
    "df.head()"
   ]
  },
  {
   "cell_type": "code",
   "execution_count": null,
   "id": "bd2bf99e",
   "metadata": {},
   "outputs": [],
   "source": []
  },
  {
   "cell_type": "code",
   "execution_count": 22,
   "id": "b67b7c6b",
   "metadata": {},
   "outputs": [],
   "source": [
    "df.to_csv(\"../../data/processed/week03.csv\", index = False)"
   ]
  },
  {
   "cell_type": "code",
   "execution_count": null,
   "id": "40b6abe9",
   "metadata": {},
   "outputs": [],
   "source": []
  }
 ],
 "metadata": {
  "kernelspec": {
   "display_name": "Python 3 (ipykernel)",
   "language": "python",
   "name": "python3"
  },
  "language_info": {
   "codemirror_mode": {
    "name": "ipython",
    "version": 3
   },
   "file_extension": ".py",
   "mimetype": "text/x-python",
   "name": "python",
   "nbconvert_exporter": "python",
   "pygments_lexer": "ipython3",
   "version": "3.9.12"
  }
 },
 "nbformat": 4,
 "nbformat_minor": 5
}
