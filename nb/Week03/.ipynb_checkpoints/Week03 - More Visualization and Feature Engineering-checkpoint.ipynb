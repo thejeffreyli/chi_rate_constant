{
 "cells": [
  {
   "cell_type": "code",
   "execution_count": 1,
   "id": "330e1ba6",
   "metadata": {},
   "outputs": [],
   "source": [
    "import pandas as pd\n",
    "import numpy as np\n",
    "import matplotlib.pyplot as plt\n",
    "\n",
    "import sklearn "
   ]
  },
  {
   "cell_type": "markdown",
   "id": "a5a8233e",
   "metadata": {},
   "source": [
    "#### Removing Data Binning"
   ]
  },
  {
   "cell_type": "markdown",
   "id": "0069ba84",
   "metadata": {},
   "source": [
    "Converting continuous data to categorical data (binning) may have removed a lot of important information from an already small dataset. I will proceed with keeping the dataset as it is (except with the target) and report any differences regarding model assessment. "
   ]
  },
  {
   "cell_type": "code",
   "execution_count": 2,
   "id": "7cc5a41f",
   "metadata": {},
   "outputs": [
    {
     "data": {
      "text/html": [
       "<div>\n",
       "<style scoped>\n",
       "    .dataframe tbody tr th:only-of-type {\n",
       "        vertical-align: middle;\n",
       "    }\n",
       "\n",
       "    .dataframe tbody tr th {\n",
       "        vertical-align: top;\n",
       "    }\n",
       "\n",
       "    .dataframe thead th {\n",
       "        text-align: right;\n",
       "    }\n",
       "</style>\n",
       "<table border=\"1\" class=\"dataframe\">\n",
       "  <thead>\n",
       "    <tr style=\"text-align: right;\">\n",
       "      <th></th>\n",
       "      <th>ustat</th>\n",
       "      <th>alph1</th>\n",
       "      <th>alph2</th>\n",
       "      <th>beta</th>\n",
       "      <th>chi</th>\n",
       "    </tr>\n",
       "  </thead>\n",
       "  <tbody>\n",
       "    <tr>\n",
       "      <th>0</th>\n",
       "      <td>8.408213</td>\n",
       "      <td>2.344511</td>\n",
       "      <td>2.344511</td>\n",
       "      <td>60.0</td>\n",
       "      <td>1.094479</td>\n",
       "    </tr>\n",
       "    <tr>\n",
       "      <th>1</th>\n",
       "      <td>7.006844</td>\n",
       "      <td>2.344511</td>\n",
       "      <td>2.344511</td>\n",
       "      <td>60.0</td>\n",
       "      <td>0.840347</td>\n",
       "    </tr>\n",
       "    <tr>\n",
       "      <th>2</th>\n",
       "      <td>5.255133</td>\n",
       "      <td>2.344511</td>\n",
       "      <td>2.344511</td>\n",
       "      <td>60.0</td>\n",
       "      <td>0.772829</td>\n",
       "    </tr>\n",
       "    <tr>\n",
       "      <th>3</th>\n",
       "      <td>3.503422</td>\n",
       "      <td>2.344511</td>\n",
       "      <td>2.344511</td>\n",
       "      <td>60.0</td>\n",
       "      <td>0.811944</td>\n",
       "    </tr>\n",
       "    <tr>\n",
       "      <th>4</th>\n",
       "      <td>2.102053</td>\n",
       "      <td>2.344511</td>\n",
       "      <td>2.344511</td>\n",
       "      <td>60.0</td>\n",
       "      <td>0.844523</td>\n",
       "    </tr>\n",
       "  </tbody>\n",
       "</table>\n",
       "</div>"
      ],
      "text/plain": [
       "      ustat     alph1     alph2  beta       chi\n",
       "0  8.408213  2.344511  2.344511  60.0  1.094479\n",
       "1  7.006844  2.344511  2.344511  60.0  0.840347\n",
       "2  5.255133  2.344511  2.344511  60.0  0.772829\n",
       "3  3.503422  2.344511  2.344511  60.0  0.811944\n",
       "4  2.102053  2.344511  2.344511  60.0  0.844523"
      ]
     },
     "execution_count": 2,
     "metadata": {},
     "output_type": "execute_result"
    }
   ],
   "source": [
    "data = np.genfromtxt(\"../../data/data.dat\")\n",
    "data = np.delete(data, 0, 0)\n",
    "df = pd.DataFrame(data, columns = ['ustat','alph1','alph2', 'beta', 'chi'])\n",
    "df.head()"
   ]
  },
  {
   "cell_type": "code",
   "execution_count": 3,
   "id": "26784c70",
   "metadata": {},
   "outputs": [],
   "source": [
    "# CHI\n",
    "\n",
    "# small chi = 0\n",
    "# large chi = 1\n",
    "labels = []\n",
    "for i in df['chi']:\n",
    "    if i < 3:\n",
    "        labels.append(0)\n",
    "    else:\n",
    "        labels.append(1)\n",
    "        \n",
    "df['chi'] = labels"
   ]
  },
  {
   "cell_type": "code",
   "execution_count": 4,
   "id": "1a4ee126",
   "metadata": {},
   "outputs": [],
   "source": [
    "# week03_nobin.csv\n",
    "#df.to_csv(\"../../data/processed/week03_nobin.csv\", index = False)"
   ]
  },
  {
   "cell_type": "markdown",
   "id": "ad39df60",
   "metadata": {},
   "source": [
    "#### New Feature: Absolute Difference Between Alph1 and Alph2"
   ]
  },
  {
   "cell_type": "markdown",
   "id": "cff1f6cd",
   "metadata": {},
   "source": [
    "We think adding a new feature may potentially help in improving the model assessmenet by providing more information."
   ]
  },
  {
   "cell_type": "code",
   "execution_count": 5,
   "id": "37cb5ff0",
   "metadata": {},
   "outputs": [
    {
     "data": {
      "text/html": [
       "<div>\n",
       "<style scoped>\n",
       "    .dataframe tbody tr th:only-of-type {\n",
       "        vertical-align: middle;\n",
       "    }\n",
       "\n",
       "    .dataframe tbody tr th {\n",
       "        vertical-align: top;\n",
       "    }\n",
       "\n",
       "    .dataframe thead th {\n",
       "        text-align: right;\n",
       "    }\n",
       "</style>\n",
       "<table border=\"1\" class=\"dataframe\">\n",
       "  <thead>\n",
       "    <tr style=\"text-align: right;\">\n",
       "      <th></th>\n",
       "      <th>ustat</th>\n",
       "      <th>alph1</th>\n",
       "      <th>alph2</th>\n",
       "      <th>beta</th>\n",
       "      <th>chi</th>\n",
       "    </tr>\n",
       "  </thead>\n",
       "  <tbody>\n",
       "    <tr>\n",
       "      <th>0</th>\n",
       "      <td>8.408213</td>\n",
       "      <td>2.344511</td>\n",
       "      <td>2.344511</td>\n",
       "      <td>60.0</td>\n",
       "      <td>1.094479</td>\n",
       "    </tr>\n",
       "    <tr>\n",
       "      <th>1</th>\n",
       "      <td>7.006844</td>\n",
       "      <td>2.344511</td>\n",
       "      <td>2.344511</td>\n",
       "      <td>60.0</td>\n",
       "      <td>0.840347</td>\n",
       "    </tr>\n",
       "    <tr>\n",
       "      <th>2</th>\n",
       "      <td>5.255133</td>\n",
       "      <td>2.344511</td>\n",
       "      <td>2.344511</td>\n",
       "      <td>60.0</td>\n",
       "      <td>0.772829</td>\n",
       "    </tr>\n",
       "    <tr>\n",
       "      <th>3</th>\n",
       "      <td>3.503422</td>\n",
       "      <td>2.344511</td>\n",
       "      <td>2.344511</td>\n",
       "      <td>60.0</td>\n",
       "      <td>0.811944</td>\n",
       "    </tr>\n",
       "    <tr>\n",
       "      <th>4</th>\n",
       "      <td>2.102053</td>\n",
       "      <td>2.344511</td>\n",
       "      <td>2.344511</td>\n",
       "      <td>60.0</td>\n",
       "      <td>0.844523</td>\n",
       "    </tr>\n",
       "  </tbody>\n",
       "</table>\n",
       "</div>"
      ],
      "text/plain": [
       "      ustat     alph1     alph2  beta       chi\n",
       "0  8.408213  2.344511  2.344511  60.0  1.094479\n",
       "1  7.006844  2.344511  2.344511  60.0  0.840347\n",
       "2  5.255133  2.344511  2.344511  60.0  0.772829\n",
       "3  3.503422  2.344511  2.344511  60.0  0.811944\n",
       "4  2.102053  2.344511  2.344511  60.0  0.844523"
      ]
     },
     "execution_count": 5,
     "metadata": {},
     "output_type": "execute_result"
    }
   ],
   "source": [
    "data = np.genfromtxt(\"../../data/data.dat\")\n",
    "data = np.delete(data, 0, 0)\n",
    "df = pd.DataFrame(data, columns = ['ustat','alph1','alph2', 'beta', 'chi'])\n",
    "df.head()"
   ]
  },
  {
   "cell_type": "code",
   "execution_count": 6,
   "id": "9f415610",
   "metadata": {},
   "outputs": [],
   "source": [
    "# diff = |alph1 - alph2|\n",
    "diff = []\n",
    "\n",
    "for i in range(len(df['alph1'])):\n",
    "    diff.append(abs(df['alph1'][i] - df['alph2'][i]))\n",
    "    \n",
    "df['diff'] = diff"
   ]
  },
  {
   "cell_type": "code",
   "execution_count": 7,
   "id": "aa02047b",
   "metadata": {},
   "outputs": [
    {
     "data": {
      "text/plain": [
       "<AxesSubplot:>"
      ]
     },
     "execution_count": 7,
     "metadata": {},
     "output_type": "execute_result"
    },
    {
     "data": {
      "image/png": "[encoded data removed]",
      "text/plain": [
       "<Figure size 432x288 with 1 Axes>"
      ]
     },
     "metadata": {
      "needs_background": "light"
     },
     "output_type": "display_data"
    }
   ],
   "source": [
    "df['diff'].plot.box()"
   ]
  },
  {
   "cell_type": "code",
   "execution_count": 8,
   "id": "437269d5",
   "metadata": {},
   "outputs": [
    {
     "data": {
      "text/plain": [
       "<AxesSubplot:>"
      ]
     },
     "execution_count": 8,
     "metadata": {},
     "output_type": "execute_result"
    },
    {
     "data": {
      "image/png": "[encoded data removed]",
      "text/plain": [
       "<Figure size 432x288 with 1 Axes>"
      ]
     },
     "metadata": {
      "needs_background": "light"
     },
     "output_type": "display_data"
    }
   ],
   "source": [
    "df['diff'].plot.box(showfliers=False)"
   ]
  },
  {
   "cell_type": "code",
   "execution_count": 9,
   "id": "7e2c54d5",
   "metadata": {},
   "outputs": [
    {
     "name": "stdout",
     "output_type": "stream",
     "text": [
      "8.363363996971147\n",
      "0.13114754098399972\n",
      "0.0\n",
      "92.894594594594\n"
     ]
    }
   ],
   "source": [
    "print(df['diff'].mean())\n",
    "print(df['diff'].median())\n",
    "print(df['diff'].min())\n",
    "print(df['diff'].max())"
   ]
  },
  {
   "cell_type": "code",
   "execution_count": 10,
   "id": "a7ab71dd",
   "metadata": {},
   "outputs": [
    {
     "data": {
      "text/plain": [
       "0.25    0.000000\n",
       "0.50    0.131148\n",
       "0.75    0.366274\n",
       "Name: diff, dtype: float64"
      ]
     },
     "execution_count": 10,
     "metadata": {},
     "output_type": "execute_result"
    }
   ],
   "source": [
    "df['diff'].quantile([0.25,0.5,0.75])"
   ]
  },
  {
   "cell_type": "code",
   "execution_count": 11,
   "id": "6fe2d63c",
   "metadata": {},
   "outputs": [
    {
     "data": {
      "text/plain": [
       "<matplotlib.lines.Line2D at 0x1ee78202b20>"
      ]
     },
     "execution_count": 11,
     "metadata": {},
     "output_type": "execute_result"
    },
    {
     "data": {
      "image/png": "[encoded data removed]",
      "text/plain": [
       "<Figure size 432x288 with 1 Axes>"
      ]
     },
     "metadata": {
      "needs_background": "light"
     },
     "output_type": "display_data"
    }
   ],
   "source": [
    "df.plot.scatter(x='diff', y='chi')\n",
    "plt.axhline(y=3, color='r', linestyle='-')"
   ]
  },
  {
   "cell_type": "code",
   "execution_count": 12,
   "id": "df29273f",
   "metadata": {},
   "outputs": [
    {
     "data": {
      "text/plain": [
       "4.670833333334"
      ]
     },
     "execution_count": 12,
     "metadata": {},
     "output_type": "execute_result"
    }
   ],
   "source": [
    "df.loc[df['chi'] >= 3]['diff'].max()\n",
    "#large_chi_df['diff'].max()"
   ]
  },
  {
   "cell_type": "markdown",
   "id": "d836ff10",
   "metadata": {},
   "source": [
    "All large chi values appear when the difference is very small. The largest difference is 4.67."
   ]
  },
  {
   "cell_type": "code",
   "execution_count": 13,
   "id": "db2b2291",
   "metadata": {},
   "outputs": [
    {
     "data": {
      "text/plain": [
       "<matplotlib.lines.Line2D at 0x1ee78323ee0>"
      ]
     },
     "execution_count": 13,
     "metadata": {},
     "output_type": "execute_result"
    },
    {
     "data": {
      "image/png": "[encoded data removed]",
      "text/plain": [
       "<Figure size 432x288 with 1 Axes>"
      ]
     },
     "metadata": {
      "needs_background": "light"
     },
     "output_type": "display_data"
    }
   ],
   "source": [
    "df.plot.scatter(x='diff', y='chi')\n",
    "plt.axhline(y=3, color='r', linestyle='-')\n",
    "plt.axvline(x=4.671, color='r', linestyle='-')"
   ]
  },
  {
   "cell_type": "code",
   "execution_count": 14,
   "id": "a7c64a71",
   "metadata": {},
   "outputs": [],
   "source": [
    "# CHI\n",
    "\n",
    "# small chi = 0\n",
    "# large chi = 1\n",
    "labels = []\n",
    "for i in df['chi']:\n",
    "    if i < 3:\n",
    "        labels.append(0)\n",
    "    else:\n",
    "        labels.append(1)\n",
    "        \n",
    "df['chi'] = labels"
   ]
  },
  {
   "cell_type": "code",
   "execution_count": 15,
   "id": "bd2bf99e",
   "metadata": {},
   "outputs": [],
   "source": [
    "# week03_nobin_diff.csv\n",
    "#df.to_csv(\"../../data/processed/week03_nobin_diff.csv\", index = False)"
   ]
  },
  {
   "cell_type": "markdown",
   "id": "601b788f",
   "metadata": {},
   "source": [
    "#### Overcoming Overfitting"
   ]
  },
  {
   "cell_type": "code",
   "execution_count": 16,
   "id": "92da8be5",
   "metadata": {},
   "outputs": [
    {
     "data": {
      "text/html": [
       "<div>\n",
       "<style scoped>\n",
       "    .dataframe tbody tr th:only-of-type {\n",
       "        vertical-align: middle;\n",
       "    }\n",
       "\n",
       "    .dataframe tbody tr th {\n",
       "        vertical-align: top;\n",
       "    }\n",
       "\n",
       "    .dataframe thead th {\n",
       "        text-align: right;\n",
       "    }\n",
       "</style>\n",
       "<table border=\"1\" class=\"dataframe\">\n",
       "  <thead>\n",
       "    <tr style=\"text-align: right;\">\n",
       "      <th></th>\n",
       "      <th>ustat</th>\n",
       "      <th>alph1</th>\n",
       "      <th>alph2</th>\n",
       "      <th>beta</th>\n",
       "      <th>chi</th>\n",
       "    </tr>\n",
       "  </thead>\n",
       "  <tbody>\n",
       "    <tr>\n",
       "      <th>0</th>\n",
       "      <td>8.408213</td>\n",
       "      <td>2.344511</td>\n",
       "      <td>2.344511</td>\n",
       "      <td>60.0</td>\n",
       "      <td>1.094479</td>\n",
       "    </tr>\n",
       "    <tr>\n",
       "      <th>1</th>\n",
       "      <td>7.006844</td>\n",
       "      <td>2.344511</td>\n",
       "      <td>2.344511</td>\n",
       "      <td>60.0</td>\n",
       "      <td>0.840347</td>\n",
       "    </tr>\n",
       "    <tr>\n",
       "      <th>2</th>\n",
       "      <td>5.255133</td>\n",
       "      <td>2.344511</td>\n",
       "      <td>2.344511</td>\n",
       "      <td>60.0</td>\n",
       "      <td>0.772829</td>\n",
       "    </tr>\n",
       "    <tr>\n",
       "      <th>3</th>\n",
       "      <td>3.503422</td>\n",
       "      <td>2.344511</td>\n",
       "      <td>2.344511</td>\n",
       "      <td>60.0</td>\n",
       "      <td>0.811944</td>\n",
       "    </tr>\n",
       "    <tr>\n",
       "      <th>4</th>\n",
       "      <td>2.102053</td>\n",
       "      <td>2.344511</td>\n",
       "      <td>2.344511</td>\n",
       "      <td>60.0</td>\n",
       "      <td>0.844523</td>\n",
       "    </tr>\n",
       "  </tbody>\n",
       "</table>\n",
       "</div>"
      ],
      "text/plain": [
       "      ustat     alph1     alph2  beta       chi\n",
       "0  8.408213  2.344511  2.344511  60.0  1.094479\n",
       "1  7.006844  2.344511  2.344511  60.0  0.840347\n",
       "2  5.255133  2.344511  2.344511  60.0  0.772829\n",
       "3  3.503422  2.344511  2.344511  60.0  0.811944\n",
       "4  2.102053  2.344511  2.344511  60.0  0.844523"
      ]
     },
     "execution_count": 16,
     "metadata": {},
     "output_type": "execute_result"
    }
   ],
   "source": [
    "data = np.genfromtxt(\"../../data/data.dat\")\n",
    "data = np.delete(data, 0, 0)\n",
    "df = pd.DataFrame(data, columns = ['ustat','alph1','alph2', 'beta', 'chi'])\n",
    "df.head()"
   ]
  },
  {
   "cell_type": "code",
   "execution_count": 17,
   "id": "63b41bb4",
   "metadata": {},
   "outputs": [],
   "source": [
    "small_chi = np.genfromtxt(\"../../data/Small_chi.dat\")\n",
    "small_chi = np.delete(small_chi, 0, 0)\n",
    "small_chi_df = pd.DataFrame(small_chi, columns = ['ustat','alph1','alph2', 'beta', 'chi'])"
   ]
  },
  {
   "cell_type": "code",
   "execution_count": 18,
   "id": "355e4891",
   "metadata": {},
   "outputs": [
    {
     "data": {
      "text/plain": [
       "<AxesSubplot:xlabel='ustat', ylabel='chi'>"
      ]
     },
     "execution_count": 18,
     "metadata": {},
     "output_type": "execute_result"
    },
    {
     "data": {
      "image/png": "[encoded data removed]",
      "text/plain": [
       "<Figure size 432x288 with 1 Axes>"
      ]
     },
     "metadata": {
      "needs_background": "light"
     },
     "output_type": "display_data"
    }
   ],
   "source": [
    "small_chi_df.plot.scatter(x='ustat', y='chi')"
   ]
  },
  {
   "cell_type": "code",
   "execution_count": 19,
   "id": "4093ea10",
   "metadata": {},
   "outputs": [
    {
     "data": {
      "text/plain": [
       "12.597931067132"
      ]
     },
     "execution_count": 19,
     "metadata": {},
     "output_type": "execute_result"
    }
   ],
   "source": [
    "# rightmost small_chi value\n",
    "small_chi_df['ustat'].max()"
   ]
  },
  {
   "cell_type": "code",
   "execution_count": 20,
   "id": "40b6abe9",
   "metadata": {},
   "outputs": [],
   "source": [
    "large_chi = np.genfromtxt(\"../../data/Large_chi.dat\")\n",
    "large_chi = np.delete(large_chi, 0, 0)\n",
    "large_chi_df = pd.DataFrame(large_chi, columns = ['ustat','alph1','alph2', 'beta', 'chi'])"
   ]
  },
  {
   "cell_type": "code",
   "execution_count": 21,
   "id": "d8e23f11",
   "metadata": {},
   "outputs": [
    {
     "data": {
      "text/plain": [
       "<AxesSubplot:xlabel='ustat', ylabel='chi'>"
      ]
     },
     "execution_count": 21,
     "metadata": {},
     "output_type": "execute_result"
    },
    {
     "data": {
      "image/png": "[encoded data removed]",
      "text/plain": [
       "<Figure size 432x288 with 1 Axes>"
      ]
     },
     "metadata": {
      "needs_background": "light"
     },
     "output_type": "display_data"
    }
   ],
   "source": [
    "large_chi_df.plot.scatter(x='ustat', y='chi')"
   ]
  },
  {
   "cell_type": "code",
   "execution_count": 22,
   "id": "074460af",
   "metadata": {},
   "outputs": [
    {
     "data": {
      "text/plain": [
       "5.265923675845"
      ]
     },
     "execution_count": 22,
     "metadata": {},
     "output_type": "execute_result"
    }
   ],
   "source": [
    "# leftmost large_chi value\n",
    "large_chi_df['ustat'].min()"
   ]
  },
  {
   "cell_type": "code",
   "execution_count": 23,
   "id": "98a223a2",
   "metadata": {},
   "outputs": [
    {
     "data": {
      "text/plain": [
       "<matplotlib.lines.Line2D at 0x1ee784f1ee0>"
      ]
     },
     "execution_count": 23,
     "metadata": {},
     "output_type": "execute_result"
    },
    {
     "data": {
      "image/png": "[encoded data removed]",
      "text/plain": [
       "<Figure size 432x288 with 1 Axes>"
      ]
     },
     "metadata": {
      "needs_background": "light"
     },
     "output_type": "display_data"
    }
   ],
   "source": [
    "plt.scatter(small_chi_df['ustat'], small_chi_df['chi'], s = 10, c = 'blue')\n",
    "plt.scatter(large_chi_df['ustat'], large_chi_df['chi'], s = 10, c = 'red')\n",
    "\n",
    "plt.axhline(y=3, color='black', linestyle='-')\n",
    "plt.axvline(x=5.27, color='black', linestyle='-')\n",
    "plt.axvline(x=12.60, color='black', linestyle='-')"
   ]
  },
  {
   "cell_type": "markdown",
   "id": "53ee41a3",
   "metadata": {},
   "source": [
    "#### Bowman Suggestions:"
   ]
  },
  {
   "cell_type": "markdown",
   "id": "4b8f3208",
   "metadata": {},
   "source": [
    "1. Suppose you use u* and alphdif as inputs again.  Then train on all data in the large chi cluster and a random split (maybe 50:50) of the small chi cluster.  Then test on the data left out of the small chi cluster.  What we want to see if that test data gets assigned to the small cluster with no errors.\n",
    "\n",
    "2. Cut from the small and large chi datasets just the data with u* between 5 and 12.  Then we can eyeball the these datasets and see if we spot anything that might distinguish the two"
   ]
  },
  {
   "cell_type": "markdown",
   "id": "4818101a",
   "metadata": {},
   "source": [
    "Suggestion #1: Train on all data in the large chi cluster and a random split (maybe 50:50) of the small chi cluster. Then test on the data left out of the small chi cluster. "
   ]
  },
  {
   "cell_type": "code",
   "execution_count": 24,
   "id": "28b3b64d",
   "metadata": {},
   "outputs": [
    {
     "data": {
      "text/html": [
       "<div>\n",
       "<style scoped>\n",
       "    .dataframe tbody tr th:only-of-type {\n",
       "        vertical-align: middle;\n",
       "    }\n",
       "\n",
       "    .dataframe tbody tr th {\n",
       "        vertical-align: top;\n",
       "    }\n",
       "\n",
       "    .dataframe thead th {\n",
       "        text-align: right;\n",
       "    }\n",
       "</style>\n",
       "<table border=\"1\" class=\"dataframe\">\n",
       "  <thead>\n",
       "    <tr style=\"text-align: right;\">\n",
       "      <th></th>\n",
       "      <th>ustat</th>\n",
       "      <th>alph1</th>\n",
       "      <th>alph2</th>\n",
       "      <th>beta</th>\n",
       "      <th>chi</th>\n",
       "    </tr>\n",
       "  </thead>\n",
       "  <tbody>\n",
       "    <tr>\n",
       "      <th>0</th>\n",
       "      <td>8.408213</td>\n",
       "      <td>2.344511</td>\n",
       "      <td>2.344511</td>\n",
       "      <td>60.0</td>\n",
       "      <td>1.094479</td>\n",
       "    </tr>\n",
       "    <tr>\n",
       "      <th>1</th>\n",
       "      <td>7.006844</td>\n",
       "      <td>2.344511</td>\n",
       "      <td>2.344511</td>\n",
       "      <td>60.0</td>\n",
       "      <td>0.840347</td>\n",
       "    </tr>\n",
       "    <tr>\n",
       "      <th>2</th>\n",
       "      <td>5.255133</td>\n",
       "      <td>2.344511</td>\n",
       "      <td>2.344511</td>\n",
       "      <td>60.0</td>\n",
       "      <td>0.772829</td>\n",
       "    </tr>\n",
       "    <tr>\n",
       "      <th>3</th>\n",
       "      <td>3.503422</td>\n",
       "      <td>2.344511</td>\n",
       "      <td>2.344511</td>\n",
       "      <td>60.0</td>\n",
       "      <td>0.811944</td>\n",
       "    </tr>\n",
       "    <tr>\n",
       "      <th>4</th>\n",
       "      <td>2.102053</td>\n",
       "      <td>2.344511</td>\n",
       "      <td>2.344511</td>\n",
       "      <td>60.0</td>\n",
       "      <td>0.844523</td>\n",
       "    </tr>\n",
       "  </tbody>\n",
       "</table>\n",
       "</div>"
      ],
      "text/plain": [
       "      ustat     alph1     alph2  beta       chi\n",
       "0  8.408213  2.344511  2.344511  60.0  1.094479\n",
       "1  7.006844  2.344511  2.344511  60.0  0.840347\n",
       "2  5.255133  2.344511  2.344511  60.0  0.772829\n",
       "3  3.503422  2.344511  2.344511  60.0  0.811944\n",
       "4  2.102053  2.344511  2.344511  60.0  0.844523"
      ]
     },
     "execution_count": 24,
     "metadata": {},
     "output_type": "execute_result"
    }
   ],
   "source": [
    "data = np.genfromtxt(\"../../data/data.dat\")\n",
    "data = np.delete(data, 0, 0)\n",
    "df = pd.DataFrame(data, columns = ['ustat','alph1','alph2', 'beta', 'chi'])\n",
    "df.head()"
   ]
  },
  {
   "cell_type": "code",
   "execution_count": 25,
   "id": "d0a150bd",
   "metadata": {},
   "outputs": [],
   "source": [
    "# CHI\n",
    "\n",
    "# small chi = 0\n",
    "# large chi = 1\n",
    "labels = []\n",
    "for i in df['chi']:\n",
    "    if i < 3:\n",
    "        labels.append(0)\n",
    "    else:\n",
    "        labels.append(1)\n",
    "        \n",
    "df['chi'] = labels"
   ]
  },
  {
   "cell_type": "code",
   "execution_count": 26,
   "id": "ca04b822",
   "metadata": {},
   "outputs": [],
   "source": [
    "# diff = |alph1 - alph2|\n",
    "diff = []\n",
    "\n",
    "for i in range(len(df['alph1'])):\n",
    "    diff.append(abs(df['alph1'][i] - df['alph2'][i]))\n",
    "    \n",
    "df['diff'] = diff"
   ]
  },
  {
   "cell_type": "code",
   "execution_count": 27,
   "id": "935f6d56",
   "metadata": {},
   "outputs": [
    {
     "name": "stdout",
     "output_type": "stream",
     "text": [
      "<class 'pandas.core.frame.DataFrame'>\n",
      "Int64Index: 366 entries, 0 to 365\n",
      "Data columns (total 6 columns):\n",
      " #   Column  Non-Null Count  Dtype  \n",
      "---  ------  --------------  -----  \n",
      " 0   ustat   366 non-null    float64\n",
      " 1   alph1   366 non-null    float64\n",
      " 2   alph2   366 non-null    float64\n",
      " 3   beta    366 non-null    float64\n",
      " 4   chi     366 non-null    int64  \n",
      " 5   diff    366 non-null    float64\n",
      "dtypes: float64(5), int64(1)\n",
      "memory usage: 20.0 KB\n"
     ]
    }
   ],
   "source": [
    "small_chi_df = df.loc[df['chi'] == 0]\n",
    "small_chi_df.info()"
   ]
  },
  {
   "cell_type": "code",
   "execution_count": 28,
   "id": "aa037de8",
   "metadata": {},
   "outputs": [],
   "source": [
    "from sklearn.model_selection import train_test_split"
   ]
  },
  {
   "cell_type": "code",
   "execution_count": 29,
   "id": "415b7ab0",
   "metadata": {},
   "outputs": [],
   "source": [
    "# separating features and targets\n",
    "\n",
    "train_df = small_chi_df.sample(frac = 0.5)\n",
    "test_df = small_chi_df.drop(train_df.index)"
   ]
  },
  {
   "cell_type": "code",
   "execution_count": 30,
   "id": "7b105076",
   "metadata": {},
   "outputs": [
    {
     "data": {
      "text/html": [
       "<div>\n",
       "<style scoped>\n",
       "    .dataframe tbody tr th:only-of-type {\n",
       "        vertical-align: middle;\n",
       "    }\n",
       "\n",
       "    .dataframe tbody tr th {\n",
       "        vertical-align: top;\n",
       "    }\n",
       "\n",
       "    .dataframe thead th {\n",
       "        text-align: right;\n",
       "    }\n",
       "</style>\n",
       "<table border=\"1\" class=\"dataframe\">\n",
       "  <thead>\n",
       "    <tr style=\"text-align: right;\">\n",
       "      <th></th>\n",
       "      <th>ustat</th>\n",
       "      <th>alph1</th>\n",
       "      <th>alph2</th>\n",
       "      <th>beta</th>\n",
       "      <th>chi</th>\n",
       "      <th>diff</th>\n",
       "    </tr>\n",
       "  </thead>\n",
       "  <tbody>\n",
       "    <tr>\n",
       "      <th>151</th>\n",
       "      <td>8.546335</td>\n",
       "      <td>2.469976</td>\n",
       "      <td>2.103702</td>\n",
       "      <td>46.7</td>\n",
       "      <td>0</td>\n",
       "      <td>0.366274</td>\n",
       "    </tr>\n",
       "    <tr>\n",
       "      <th>334</th>\n",
       "      <td>3.009099</td>\n",
       "      <td>3.509592</td>\n",
       "      <td>3.378444</td>\n",
       "      <td>46.8</td>\n",
       "      <td>0</td>\n",
       "      <td>0.131148</td>\n",
       "    </tr>\n",
       "    <tr>\n",
       "      <th>7</th>\n",
       "      <td>10.833991</td>\n",
       "      <td>2.276779</td>\n",
       "      <td>2.276779</td>\n",
       "      <td>60.0</td>\n",
       "      <td>0</td>\n",
       "      <td>0.000000</td>\n",
       "    </tr>\n",
       "    <tr>\n",
       "      <th>187</th>\n",
       "      <td>7.878743</td>\n",
       "      <td>1.960251</td>\n",
       "      <td>1.692373</td>\n",
       "      <td>36.4</td>\n",
       "      <td>0</td>\n",
       "      <td>0.267878</td>\n",
       "    </tr>\n",
       "    <tr>\n",
       "      <th>292</th>\n",
       "      <td>3.369136</td>\n",
       "      <td>3.125267</td>\n",
       "      <td>2.660712</td>\n",
       "      <td>48.2</td>\n",
       "      <td>0</td>\n",
       "      <td>0.464555</td>\n",
       "    </tr>\n",
       "    <tr>\n",
       "      <th>...</th>\n",
       "      <td>...</td>\n",
       "      <td>...</td>\n",
       "      <td>...</td>\n",
       "      <td>...</td>\n",
       "      <td>...</td>\n",
       "      <td>...</td>\n",
       "    </tr>\n",
       "    <tr>\n",
       "      <th>129</th>\n",
       "      <td>1.543808</td>\n",
       "      <td>1.790162</td>\n",
       "      <td>1.790162</td>\n",
       "      <td>89.0</td>\n",
       "      <td>0</td>\n",
       "      <td>0.000000</td>\n",
       "    </tr>\n",
       "    <tr>\n",
       "      <th>208</th>\n",
       "      <td>1.013858</td>\n",
       "      <td>2.538868</td>\n",
       "      <td>2.191919</td>\n",
       "      <td>46.6</td>\n",
       "      <td>0</td>\n",
       "      <td>0.346949</td>\n",
       "    </tr>\n",
       "    <tr>\n",
       "      <th>289</th>\n",
       "      <td>0.894440</td>\n",
       "      <td>2.943029</td>\n",
       "      <td>2.505563</td>\n",
       "      <td>57.0</td>\n",
       "      <td>0</td>\n",
       "      <td>0.437466</td>\n",
       "    </tr>\n",
       "    <tr>\n",
       "      <th>357</th>\n",
       "      <td>8.448498</td>\n",
       "      <td>2.035408</td>\n",
       "      <td>2.035408</td>\n",
       "      <td>13.6</td>\n",
       "      <td>0</td>\n",
       "      <td>0.000000</td>\n",
       "    </tr>\n",
       "    <tr>\n",
       "      <th>159</th>\n",
       "      <td>2.601309</td>\n",
       "      <td>2.668613</td>\n",
       "      <td>2.307606</td>\n",
       "      <td>46.7</td>\n",
       "      <td>0</td>\n",
       "      <td>0.361007</td>\n",
       "    </tr>\n",
       "  </tbody>\n",
       "</table>\n",
       "<p>183 rows × 6 columns</p>\n",
       "</div>"
      ],
      "text/plain": [
       "         ustat     alph1     alph2  beta  chi      diff\n",
       "151   8.546335  2.469976  2.103702  46.7    0  0.366274\n",
       "334   3.009099  3.509592  3.378444  46.8    0  0.131148\n",
       "7    10.833991  2.276779  2.276779  60.0    0  0.000000\n",
       "187   7.878743  1.960251  1.692373  36.4    0  0.267878\n",
       "292   3.369136  3.125267  2.660712  48.2    0  0.464555\n",
       "..         ...       ...       ...   ...  ...       ...\n",
       "129   1.543808  1.790162  1.790162  89.0    0  0.000000\n",
       "208   1.013858  2.538868  2.191919  46.6    0  0.346949\n",
       "289   0.894440  2.943029  2.505563  57.0    0  0.437466\n",
       "357   8.448498  2.035408  2.035408  13.6    0  0.000000\n",
       "159   2.601309  2.668613  2.307606  46.7    0  0.361007\n",
       "\n",
       "[183 rows x 6 columns]"
      ]
     },
     "execution_count": 30,
     "metadata": {},
     "output_type": "execute_result"
    }
   ],
   "source": [
    "train_df"
   ]
  },
  {
   "cell_type": "code",
   "execution_count": 31,
   "id": "60de7bcc",
   "metadata": {},
   "outputs": [
    {
     "name": "stdout",
     "output_type": "stream",
     "text": [
      "<class 'pandas.core.frame.DataFrame'>\n",
      "Int64Index: 38 entries, 366 to 403\n",
      "Data columns (total 6 columns):\n",
      " #   Column  Non-Null Count  Dtype  \n",
      "---  ------  --------------  -----  \n",
      " 0   ustat   38 non-null     float64\n",
      " 1   alph1   38 non-null     float64\n",
      " 2   alph2   38 non-null     float64\n",
      " 3   beta    38 non-null     float64\n",
      " 4   chi     38 non-null     int64  \n",
      " 5   diff    38 non-null     float64\n",
      "dtypes: float64(5), int64(1)\n",
      "memory usage: 2.1 KB\n"
     ]
    }
   ],
   "source": [
    "# the remaining large chi will be added to the small chi training as 'noise'\n",
    "\n",
    "large_chi_df = df.loc[df['chi'] == 1]\n",
    "large_chi_df.info()"
   ]
  },
  {
   "cell_type": "code",
   "execution_count": 32,
   "id": "a60dfc9f",
   "metadata": {},
   "outputs": [],
   "source": [
    "frames = [train_df, large_chi_df]\n",
    "train_df = pd.concat(frames)"
   ]
  },
  {
   "cell_type": "code",
   "execution_count": 34,
   "id": "56b343aa",
   "metadata": {},
   "outputs": [
    {
     "data": {
      "text/html": [
       "<div>\n",
       "<style scoped>\n",
       "    .dataframe tbody tr th:only-of-type {\n",
       "        vertical-align: middle;\n",
       "    }\n",
       "\n",
       "    .dataframe tbody tr th {\n",
       "        vertical-align: top;\n",
       "    }\n",
       "\n",
       "    .dataframe thead th {\n",
       "        text-align: right;\n",
       "    }\n",
       "</style>\n",
       "<table border=\"1\" class=\"dataframe\">\n",
       "  <thead>\n",
       "    <tr style=\"text-align: right;\">\n",
       "      <th></th>\n",
       "      <th>ustat</th>\n",
       "      <th>alph1</th>\n",
       "      <th>alph2</th>\n",
       "      <th>beta</th>\n",
       "      <th>chi</th>\n",
       "      <th>diff</th>\n",
       "    </tr>\n",
       "  </thead>\n",
       "  <tbody>\n",
       "    <tr>\n",
       "      <th>151</th>\n",
       "      <td>8.546335</td>\n",
       "      <td>2.469976</td>\n",
       "      <td>2.103702</td>\n",
       "      <td>46.7</td>\n",
       "      <td>0</td>\n",
       "      <td>0.366274</td>\n",
       "    </tr>\n",
       "    <tr>\n",
       "      <th>334</th>\n",
       "      <td>3.009099</td>\n",
       "      <td>3.509592</td>\n",
       "      <td>3.378444</td>\n",
       "      <td>46.8</td>\n",
       "      <td>0</td>\n",
       "      <td>0.131148</td>\n",
       "    </tr>\n",
       "    <tr>\n",
       "      <th>7</th>\n",
       "      <td>10.833991</td>\n",
       "      <td>2.276779</td>\n",
       "      <td>2.276779</td>\n",
       "      <td>60.0</td>\n",
       "      <td>0</td>\n",
       "      <td>0.000000</td>\n",
       "    </tr>\n",
       "    <tr>\n",
       "      <th>187</th>\n",
       "      <td>7.878743</td>\n",
       "      <td>1.960251</td>\n",
       "      <td>1.692373</td>\n",
       "      <td>36.4</td>\n",
       "      <td>0</td>\n",
       "      <td>0.267878</td>\n",
       "    </tr>\n",
       "    <tr>\n",
       "      <th>292</th>\n",
       "      <td>3.369136</td>\n",
       "      <td>3.125267</td>\n",
       "      <td>2.660712</td>\n",
       "      <td>48.2</td>\n",
       "      <td>0</td>\n",
       "      <td>0.464555</td>\n",
       "    </tr>\n",
       "    <tr>\n",
       "      <th>...</th>\n",
       "      <td>...</td>\n",
       "      <td>...</td>\n",
       "      <td>...</td>\n",
       "      <td>...</td>\n",
       "      <td>...</td>\n",
       "      <td>...</td>\n",
       "    </tr>\n",
       "    <tr>\n",
       "      <th>399</th>\n",
       "      <td>7.524804</td>\n",
       "      <td>2.856577</td>\n",
       "      <td>2.856577</td>\n",
       "      <td>19.0</td>\n",
       "      <td>1</td>\n",
       "      <td>0.000000</td>\n",
       "    </tr>\n",
       "    <tr>\n",
       "      <th>400</th>\n",
       "      <td>7.021232</td>\n",
       "      <td>3.509592</td>\n",
       "      <td>3.378444</td>\n",
       "      <td>46.8</td>\n",
       "      <td>1</td>\n",
       "      <td>0.131148</td>\n",
       "    </tr>\n",
       "    <tr>\n",
       "      <th>401</th>\n",
       "      <td>5.265924</td>\n",
       "      <td>3.509592</td>\n",
       "      <td>3.378444</td>\n",
       "      <td>46.8</td>\n",
       "      <td>1</td>\n",
       "      <td>0.131148</td>\n",
       "    </tr>\n",
       "    <tr>\n",
       "      <th>402</th>\n",
       "      <td>8.632662</td>\n",
       "      <td>1.566148</td>\n",
       "      <td>6.236982</td>\n",
       "      <td>46.6</td>\n",
       "      <td>1</td>\n",
       "      <td>4.670833</td>\n",
       "    </tr>\n",
       "    <tr>\n",
       "      <th>403</th>\n",
       "      <td>8.852700</td>\n",
       "      <td>2.014170</td>\n",
       "      <td>2.128180</td>\n",
       "      <td>17.0</td>\n",
       "      <td>1</td>\n",
       "      <td>0.114010</td>\n",
       "    </tr>\n",
       "  </tbody>\n",
       "</table>\n",
       "<p>221 rows × 6 columns</p>\n",
       "</div>"
      ],
      "text/plain": [
       "         ustat     alph1     alph2  beta  chi      diff\n",
       "151   8.546335  2.469976  2.103702  46.7    0  0.366274\n",
       "334   3.009099  3.509592  3.378444  46.8    0  0.131148\n",
       "7    10.833991  2.276779  2.276779  60.0    0  0.000000\n",
       "187   7.878743  1.960251  1.692373  36.4    0  0.267878\n",
       "292   3.369136  3.125267  2.660712  48.2    0  0.464555\n",
       "..         ...       ...       ...   ...  ...       ...\n",
       "399   7.524804  2.856577  2.856577  19.0    1  0.000000\n",
       "400   7.021232  3.509592  3.378444  46.8    1  0.131148\n",
       "401   5.265924  3.509592  3.378444  46.8    1  0.131148\n",
       "402   8.632662  1.566148  6.236982  46.6    1  4.670833\n",
       "403   8.852700  2.014170  2.128180  17.0    1  0.114010\n",
       "\n",
       "[221 rows x 6 columns]"
      ]
     },
     "execution_count": 34,
     "metadata": {},
     "output_type": "execute_result"
    }
   ],
   "source": [
    "# check: 183 + 38 = 221 entries\n",
    "train_df"
   ]
  },
  {
   "cell_type": "code",
   "execution_count": 35,
   "id": "2d12f78b",
   "metadata": {},
   "outputs": [],
   "source": [
    "train_df.to_csv(\"../../data/processed/week03_train_df_sugg01.csv\", index = False)\n",
    "test_df.to_csv(\"../../data/processed/week03_test_df_sugg01.csv\", index = False)"
   ]
  },
  {
   "cell_type": "markdown",
   "id": "e1b7ade2",
   "metadata": {},
   "source": []
  }
 ],
 "metadata": {
  "kernelspec": {
   "display_name": "Python 3 (ipykernel)",
   "language": "python",
   "name": "python3"
  },
  "language_info": {
   "codemirror_mode": {
    "name": "ipython",
    "version": 3
   },
   "file_extension": ".py",
   "mimetype": "text/x-python",
   "name": "python",
   "nbconvert_exporter": "python",
   "pygments_lexer": "ipython3",
   "version": "3.9.12"
  }
 },
 "nbformat": 4,
 "nbformat_minor": 5
}
