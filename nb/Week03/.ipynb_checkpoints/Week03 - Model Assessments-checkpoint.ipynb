{
 "cells": [
  {
   "cell_type": "code",
   "execution_count": 1,
   "id": "cd2303c6",
   "metadata": {},
   "outputs": [],
   "source": [
    "import pandas as pd\n",
    "import matplotlib.pyplot as plt\n",
    "\n",
    "from sklearn.linear_model import LogisticRegression\n",
    "\n",
    "from sklearn.metrics import accuracy_score\n",
    "from sklearn.metrics import confusion_matrix\n",
    "from sklearn.metrics import plot_confusion_matrix\n",
    "\n",
    "from sklearn.model_selection import train_test_split\n",
    "\n",
    "from sklearn import metrics"
   ]
  },
  {
   "cell_type": "markdown",
   "id": "cc034c21",
   "metadata": {},
   "source": [
    "#### Logistic Regression"
   ]
  },
  {
   "cell_type": "markdown",
   "id": "4b1a8e8d",
   "metadata": {},
   "source": [
    "Logistic Regression is a discriminative classifier, which makes predictions based on whether an observation falls into one of two categories of a binary dependent variable. From logistic regression, we can describe the relationship between the dependent variable outcome and the multiple ordinal independent variables."
   ]
  },
  {
   "cell_type": "code",
   "execution_count": 2,
   "id": "5ece59e1",
   "metadata": {},
   "outputs": [],
   "source": [
    "\"LOGISTIC REGRESSION\"\n",
    "def logReg(xTrain, yTrain):\n",
    "    # from sklearn document on LogisticRegression\n",
    "    clf = LogisticRegression(random_state=0).fit(xTrain, yTrain) \n",
    "    return clf"
   ]
  },
  {
   "cell_type": "markdown",
   "id": "ef7fafe7",
   "metadata": {},
   "source": [
    "### Running and Assessing Models on Continuous Data "
   ]
  },
  {
   "cell_type": "markdown",
   "id": "18c3b9af",
   "metadata": {},
   "source": [
    "Rather than having categorical data, we see how logistic regression performs using continous features. "
   ]
  },
  {
   "cell_type": "code",
   "execution_count": 3,
   "id": "d358a648",
   "metadata": {
    "scrolled": true
   },
   "outputs": [
    {
     "data": {
      "text/html": [
       "<div>\n",
       "<style scoped>\n",
       "    .dataframe tbody tr th:only-of-type {\n",
       "        vertical-align: middle;\n",
       "    }\n",
       "\n",
       "    .dataframe tbody tr th {\n",
       "        vertical-align: top;\n",
       "    }\n",
       "\n",
       "    .dataframe thead th {\n",
       "        text-align: right;\n",
       "    }\n",
       "</style>\n",
       "<table border=\"1\" class=\"dataframe\">\n",
       "  <thead>\n",
       "    <tr style=\"text-align: right;\">\n",
       "      <th></th>\n",
       "      <th>ustat</th>\n",
       "      <th>alph1</th>\n",
       "      <th>alph2</th>\n",
       "      <th>beta</th>\n",
       "      <th>chi</th>\n",
       "    </tr>\n",
       "  </thead>\n",
       "  <tbody>\n",
       "    <tr>\n",
       "      <th>0</th>\n",
       "      <td>8.408213</td>\n",
       "      <td>2.344511</td>\n",
       "      <td>2.344511</td>\n",
       "      <td>60.0</td>\n",
       "      <td>0</td>\n",
       "    </tr>\n",
       "    <tr>\n",
       "      <th>1</th>\n",
       "      <td>7.006844</td>\n",
       "      <td>2.344511</td>\n",
       "      <td>2.344511</td>\n",
       "      <td>60.0</td>\n",
       "      <td>0</td>\n",
       "    </tr>\n",
       "    <tr>\n",
       "      <th>2</th>\n",
       "      <td>5.255133</td>\n",
       "      <td>2.344511</td>\n",
       "      <td>2.344511</td>\n",
       "      <td>60.0</td>\n",
       "      <td>0</td>\n",
       "    </tr>\n",
       "    <tr>\n",
       "      <th>3</th>\n",
       "      <td>3.503422</td>\n",
       "      <td>2.344511</td>\n",
       "      <td>2.344511</td>\n",
       "      <td>60.0</td>\n",
       "      <td>0</td>\n",
       "    </tr>\n",
       "    <tr>\n",
       "      <th>4</th>\n",
       "      <td>2.102053</td>\n",
       "      <td>2.344511</td>\n",
       "      <td>2.344511</td>\n",
       "      <td>60.0</td>\n",
       "      <td>0</td>\n",
       "    </tr>\n",
       "  </tbody>\n",
       "</table>\n",
       "</div>"
      ],
      "text/plain": [
       "      ustat     alph1     alph2  beta  chi\n",
       "0  8.408213  2.344511  2.344511  60.0    0\n",
       "1  7.006844  2.344511  2.344511  60.0    0\n",
       "2  5.255133  2.344511  2.344511  60.0    0\n",
       "3  3.503422  2.344511  2.344511  60.0    0\n",
       "4  2.102053  2.344511  2.344511  60.0    0"
      ]
     },
     "execution_count": 3,
     "metadata": {},
     "output_type": "execute_result"
    }
   ],
   "source": [
    "dir = \"../../data/processed/week03_nobin.csv\"\n",
    "df = pd.read_csv(dir)\n",
    "df.head()"
   ]
  },
  {
   "cell_type": "markdown",
   "id": "01cfd3cb",
   "metadata": {},
   "source": [
    "#### Splitting the data into training and testing. We will use train_test_split from Scikit Learn with a ratio of 67:33. "
   ]
  },
  {
   "cell_type": "code",
   "execution_count": 4,
   "id": "df0c5aa9",
   "metadata": {},
   "outputs": [],
   "source": [
    "# separating features and targets\n",
    "\n",
    "y = df['chi']\n",
    "x = df.drop(['chi'], axis=1)"
   ]
  },
  {
   "cell_type": "code",
   "execution_count": 5,
   "id": "fad09899",
   "metadata": {},
   "outputs": [],
   "source": [
    "# Train test split, ratio is 67:33\n",
    "xTrain, xTest, yTrain, yTest = train_test_split(x, y, test_size=0.33, random_state=42)"
   ]
  },
  {
   "cell_type": "code",
   "execution_count": 6,
   "id": "18b71736",
   "metadata": {},
   "outputs": [],
   "source": [
    "lr = logReg(xTrain, yTrain)"
   ]
  },
  {
   "cell_type": "code",
   "execution_count": 7,
   "id": "1e81197c",
   "metadata": {},
   "outputs": [
    {
     "name": "stdout",
     "output_type": "stream",
     "text": [
      "Logistic Regression train set score:  0.9518518518518518\n",
      "Confusion Matrix Results:  244 3 10 13\n"
     ]
    }
   ],
   "source": [
    "print(\"Logistic Regression train set score: \", accuracy_score(yTrain, lr.predict(xTrain)))\n",
    "tn, fp, fn, tp = confusion_matrix(yTrain, lr.predict(xTrain)).ravel()\n",
    "print(\"Confusion Matrix Results: \", tn, fp, fn, tp)"
   ]
  },
  {
   "cell_type": "code",
   "execution_count": 8,
   "id": "26a53e8f",
   "metadata": {},
   "outputs": [
    {
     "name": "stdout",
     "output_type": "stream",
     "text": [
      "Logistic Regression test set score:  0.9253731343283582\n",
      "Confusion Matrix Results:  116 3 7 8\n"
     ]
    }
   ],
   "source": [
    "print(\"Logistic Regression test set score: \", accuracy_score(yTest, lr.predict(xTest)))\n",
    "tn, fp, fn, tp = confusion_matrix(yTest, lr.predict(xTest)).ravel()\n",
    "print(\"Confusion Matrix Results: \", tn, fp, fn, tp)\n"
   ]
  },
  {
   "cell_type": "code",
   "execution_count": 9,
   "id": "34e50727",
   "metadata": {},
   "outputs": [
    {
     "name": "stderr",
     "output_type": "stream",
     "text": [
      "C:\\Users\\jeffr\\anaconda3\\lib\\site-packages\\sklearn\\utils\\deprecation.py:87: FutureWarning: Function plot_confusion_matrix is deprecated; Function `plot_confusion_matrix` is deprecated in 1.0 and will be removed in 1.2. Use one of the class methods: ConfusionMatrixDisplay.from_predictions or ConfusionMatrixDisplay.from_estimator.\n",
      "  warnings.warn(msg, category=FutureWarning)\n"
     ]
    },
    {
     "data": {
      "text/plain": [
       "Text(0.5, 1.0, 'Logistic Regression')"
      ]
     },
     "execution_count": 9,
     "metadata": {},
     "output_type": "execute_result"
    },
    {
     "data": {
      "image/png": "[encoded data removed]",
      "text/plain": [
       "<Figure size 432x288 with 2 Axes>"
      ]
     },
     "metadata": {
      "needs_background": "light"
     },
     "output_type": "display_data"
    }
   ],
   "source": [
    "disp = plot_confusion_matrix(lr, xTest, yTest, cmap=plt.cm.Blues)\n",
    "disp.ax_.set_title(\"Logistic Regression\")\n"
   ]
  },
  {
   "cell_type": "code",
   "execution_count": 10,
   "id": "93069988",
   "metadata": {},
   "outputs": [
    {
     "name": "stderr",
     "output_type": "stream",
     "text": [
      "C:\\Users\\jeffr\\anaconda3\\lib\\site-packages\\sklearn\\utils\\deprecation.py:87: FutureWarning: Function plot_roc_curve is deprecated; Function :func:`plot_roc_curve` is deprecated in 1.0 and will be removed in 1.2. Use one of the class methods: :meth:`sklearn.metric.RocCurveDisplay.from_predictions` or :meth:`sklearn.metric.RocCurveDisplay.from_estimator`.\n",
      "  warnings.warn(msg, category=FutureWarning)\n"
     ]
    },
    {
     "data": {
      "text/plain": [
       "<sklearn.metrics._plot.roc_curve.RocCurveDisplay at 0x1e92b875fd0>"
      ]
     },
     "execution_count": 10,
     "metadata": {},
     "output_type": "execute_result"
    },
    {
     "data": {
      "image/png": "[encoded data removed]",
      "text/plain": [
       "<Figure size 432x288 with 1 Axes>"
      ]
     },
     "metadata": {
      "needs_background": "light"
     },
     "output_type": "display_data"
    }
   ],
   "source": [
    "metrics.plot_roc_curve(lr, xTest, yTest)"
   ]
  },
  {
   "cell_type": "markdown",
   "id": "2b813c21",
   "metadata": {},
   "source": [
    "The results are pretty good with high training accuracy of 0.95 and testing accuracy of 0.92. The area under the curve score is high with a score of 0.95. The confusion matrix shows that the model does attempt to identify both groups, with a good True Negative (small chi) and True Positive (large chi). \n",
    "\n",
    "However, because the scores are so high. I suspect that our results may be the outcome of overfitting and/or highly unbalanced, small dataset."
   ]
  },
  {
   "cell_type": "markdown",
   "id": "f5c5c51c",
   "metadata": {},
   "source": [
    "### Adding a new feature: diff = the difference between alph1 and alph2."
   ]
  },
  {
   "cell_type": "code",
   "execution_count": 11,
   "id": "edfa7dac",
   "metadata": {},
   "outputs": [
    {
     "data": {
      "text/html": [
       "<div>\n",
       "<style scoped>\n",
       "    .dataframe tbody tr th:only-of-type {\n",
       "        vertical-align: middle;\n",
       "    }\n",
       "\n",
       "    .dataframe tbody tr th {\n",
       "        vertical-align: top;\n",
       "    }\n",
       "\n",
       "    .dataframe thead th {\n",
       "        text-align: right;\n",
       "    }\n",
       "</style>\n",
       "<table border=\"1\" class=\"dataframe\">\n",
       "  <thead>\n",
       "    <tr style=\"text-align: right;\">\n",
       "      <th></th>\n",
       "      <th>ustat</th>\n",
       "      <th>alph1</th>\n",
       "      <th>alph2</th>\n",
       "      <th>beta</th>\n",
       "      <th>chi</th>\n",
       "      <th>diff</th>\n",
       "    </tr>\n",
       "  </thead>\n",
       "  <tbody>\n",
       "    <tr>\n",
       "      <th>0</th>\n",
       "      <td>8.408213</td>\n",
       "      <td>2.344511</td>\n",
       "      <td>2.344511</td>\n",
       "      <td>60.0</td>\n",
       "      <td>0</td>\n",
       "      <td>0.0</td>\n",
       "    </tr>\n",
       "    <tr>\n",
       "      <th>1</th>\n",
       "      <td>7.006844</td>\n",
       "      <td>2.344511</td>\n",
       "      <td>2.344511</td>\n",
       "      <td>60.0</td>\n",
       "      <td>0</td>\n",
       "      <td>0.0</td>\n",
       "    </tr>\n",
       "    <tr>\n",
       "      <th>2</th>\n",
       "      <td>5.255133</td>\n",
       "      <td>2.344511</td>\n",
       "      <td>2.344511</td>\n",
       "      <td>60.0</td>\n",
       "      <td>0</td>\n",
       "      <td>0.0</td>\n",
       "    </tr>\n",
       "    <tr>\n",
       "      <th>3</th>\n",
       "      <td>3.503422</td>\n",
       "      <td>2.344511</td>\n",
       "      <td>2.344511</td>\n",
       "      <td>60.0</td>\n",
       "      <td>0</td>\n",
       "      <td>0.0</td>\n",
       "    </tr>\n",
       "    <tr>\n",
       "      <th>4</th>\n",
       "      <td>2.102053</td>\n",
       "      <td>2.344511</td>\n",
       "      <td>2.344511</td>\n",
       "      <td>60.0</td>\n",
       "      <td>0</td>\n",
       "      <td>0.0</td>\n",
       "    </tr>\n",
       "  </tbody>\n",
       "</table>\n",
       "</div>"
      ],
      "text/plain": [
       "      ustat     alph1     alph2  beta  chi  diff\n",
       "0  8.408213  2.344511  2.344511  60.0    0   0.0\n",
       "1  7.006844  2.344511  2.344511  60.0    0   0.0\n",
       "2  5.255133  2.344511  2.344511  60.0    0   0.0\n",
       "3  3.503422  2.344511  2.344511  60.0    0   0.0\n",
       "4  2.102053  2.344511  2.344511  60.0    0   0.0"
      ]
     },
     "execution_count": 11,
     "metadata": {},
     "output_type": "execute_result"
    }
   ],
   "source": [
    "dir = \"../../data/processed/week03_nobin_diff.csv\"\n",
    "df = pd.read_csv(dir)\n",
    "df.head()"
   ]
  },
  {
   "cell_type": "code",
   "execution_count": 12,
   "id": "103f0758",
   "metadata": {},
   "outputs": [],
   "source": [
    "# separating features and targets\n",
    "\n",
    "y = df['chi']\n",
    "x = df.drop(['chi'], axis=1)"
   ]
  },
  {
   "cell_type": "code",
   "execution_count": 13,
   "id": "2c7aac3d",
   "metadata": {},
   "outputs": [],
   "source": [
    "# Train test split, ratio is 66:33\n",
    "xTrain, xTest, yTrain, yTest = train_test_split(x, y, test_size=0.33, random_state=42)"
   ]
  },
  {
   "cell_type": "markdown",
   "id": "07f9373d",
   "metadata": {},
   "source": [
    "#### Logistic Regression"
   ]
  },
  {
   "cell_type": "code",
   "execution_count": 14,
   "id": "1bd08474",
   "metadata": {},
   "outputs": [],
   "source": [
    "lr = logReg(xTrain, yTrain)"
   ]
  },
  {
   "cell_type": "code",
   "execution_count": 15,
   "id": "664e719c",
   "metadata": {},
   "outputs": [
    {
     "name": "stdout",
     "output_type": "stream",
     "text": [
      "Logistic Regression train set score:  0.9518518518518518\n",
      "Confusion Matrix Results:  244 3 10 13\n"
     ]
    }
   ],
   "source": [
    "print(\"Logistic Regression train set score: \", accuracy_score(yTrain, lr.predict(xTrain)))\n",
    "tn, fp, fn, tp = confusion_matrix(yTrain, lr.predict(xTrain)).ravel()\n",
    "print(\"Confusion Matrix Results: \", tn, fp, fn, tp)"
   ]
  },
  {
   "cell_type": "code",
   "execution_count": 16,
   "id": "06fde3fd",
   "metadata": {},
   "outputs": [
    {
     "name": "stdout",
     "output_type": "stream",
     "text": [
      "Logistic Regression test set score:  0.9253731343283582\n",
      "Confusion Matrix Results:  116 3 7 8\n"
     ]
    }
   ],
   "source": [
    "print(\"Logistic Regression test set score: \", accuracy_score(yTest, lr.predict(xTest)))\n",
    "tn, fp, fn, tp = confusion_matrix(yTest, lr.predict(xTest)).ravel()\n",
    "print(\"Confusion Matrix Results: \", tn, fp, fn, tp)\n"
   ]
  },
  {
   "cell_type": "code",
   "execution_count": 17,
   "id": "4460a04c",
   "metadata": {},
   "outputs": [
    {
     "name": "stderr",
     "output_type": "stream",
     "text": [
      "C:\\Users\\jeffr\\anaconda3\\lib\\site-packages\\sklearn\\utils\\deprecation.py:87: FutureWarning: Function plot_confusion_matrix is deprecated; Function `plot_confusion_matrix` is deprecated in 1.0 and will be removed in 1.2. Use one of the class methods: ConfusionMatrixDisplay.from_predictions or ConfusionMatrixDisplay.from_estimator.\n",
      "  warnings.warn(msg, category=FutureWarning)\n"
     ]
    },
    {
     "data": {
      "text/plain": [
       "Text(0.5, 1.0, 'Logistic Regression')"
      ]
     },
     "execution_count": 17,
     "metadata": {},
     "output_type": "execute_result"
    },
    {
     "data": {
      "image/png": "[encoded data removed]",
      "text/plain": [
       "<Figure size 432x288 with 2 Axes>"
      ]
     },
     "metadata": {
      "needs_background": "light"
     },
     "output_type": "display_data"
    }
   ],
   "source": [
    "disp = plot_confusion_matrix(lr, xTest, yTest, cmap=plt.cm.Blues)\n",
    "disp.ax_.set_title(\"Logistic Regression\")\n"
   ]
  },
  {
   "cell_type": "code",
   "execution_count": 18,
   "id": "0a265915",
   "metadata": {},
   "outputs": [
    {
     "name": "stderr",
     "output_type": "stream",
     "text": [
      "C:\\Users\\jeffr\\anaconda3\\lib\\site-packages\\sklearn\\utils\\deprecation.py:87: FutureWarning: Function plot_roc_curve is deprecated; Function :func:`plot_roc_curve` is deprecated in 1.0 and will be removed in 1.2. Use one of the class methods: :meth:`sklearn.metric.RocCurveDisplay.from_predictions` or :meth:`sklearn.metric.RocCurveDisplay.from_estimator`.\n",
      "  warnings.warn(msg, category=FutureWarning)\n"
     ]
    },
    {
     "data": {
      "text/plain": [
       "<sklearn.metrics._plot.roc_curve.RocCurveDisplay at 0x1e92c292040>"
      ]
     },
     "execution_count": 18,
     "metadata": {},
     "output_type": "execute_result"
    },
    {
     "data": {
      "image/png": "[encoded data removed]",
      "text/plain": [
       "<Figure size 432x288 with 1 Axes>"
      ]
     },
     "metadata": {
      "needs_background": "light"
     },
     "output_type": "display_data"
    }
   ],
   "source": [
    "metrics.plot_roc_curve(lr, xTest, yTest)"
   ]
  },
  {
   "cell_type": "markdown",
   "id": "3a02be17",
   "metadata": {},
   "source": [
    "Alph1 and Alph2 might be redundant if we include diff. Let's remove them and see what happens."
   ]
  },
  {
   "cell_type": "code",
   "execution_count": 19,
   "id": "5d9fcaf4",
   "metadata": {},
   "outputs": [
    {
     "data": {
      "text/html": [
       "<div>\n",
       "<style scoped>\n",
       "    .dataframe tbody tr th:only-of-type {\n",
       "        vertical-align: middle;\n",
       "    }\n",
       "\n",
       "    .dataframe tbody tr th {\n",
       "        vertical-align: top;\n",
       "    }\n",
       "\n",
       "    .dataframe thead th {\n",
       "        text-align: right;\n",
       "    }\n",
       "</style>\n",
       "<table border=\"1\" class=\"dataframe\">\n",
       "  <thead>\n",
       "    <tr style=\"text-align: right;\">\n",
       "      <th></th>\n",
       "      <th>ustat</th>\n",
       "      <th>beta</th>\n",
       "      <th>chi</th>\n",
       "      <th>diff</th>\n",
       "    </tr>\n",
       "  </thead>\n",
       "  <tbody>\n",
       "    <tr>\n",
       "      <th>0</th>\n",
       "      <td>8.408213</td>\n",
       "      <td>60.0</td>\n",
       "      <td>0</td>\n",
       "      <td>0.000000</td>\n",
       "    </tr>\n",
       "    <tr>\n",
       "      <th>1</th>\n",
       "      <td>7.006844</td>\n",
       "      <td>60.0</td>\n",
       "      <td>0</td>\n",
       "      <td>0.000000</td>\n",
       "    </tr>\n",
       "    <tr>\n",
       "      <th>2</th>\n",
       "      <td>5.255133</td>\n",
       "      <td>60.0</td>\n",
       "      <td>0</td>\n",
       "      <td>0.000000</td>\n",
       "    </tr>\n",
       "    <tr>\n",
       "      <th>3</th>\n",
       "      <td>3.503422</td>\n",
       "      <td>60.0</td>\n",
       "      <td>0</td>\n",
       "      <td>0.000000</td>\n",
       "    </tr>\n",
       "    <tr>\n",
       "      <th>4</th>\n",
       "      <td>2.102053</td>\n",
       "      <td>60.0</td>\n",
       "      <td>0</td>\n",
       "      <td>0.000000</td>\n",
       "    </tr>\n",
       "    <tr>\n",
       "      <th>...</th>\n",
       "      <td>...</td>\n",
       "      <td>...</td>\n",
       "      <td>...</td>\n",
       "      <td>...</td>\n",
       "    </tr>\n",
       "    <tr>\n",
       "      <th>399</th>\n",
       "      <td>7.524804</td>\n",
       "      <td>19.0</td>\n",
       "      <td>1</td>\n",
       "      <td>0.000000</td>\n",
       "    </tr>\n",
       "    <tr>\n",
       "      <th>400</th>\n",
       "      <td>7.021232</td>\n",
       "      <td>46.8</td>\n",
       "      <td>1</td>\n",
       "      <td>0.131148</td>\n",
       "    </tr>\n",
       "    <tr>\n",
       "      <th>401</th>\n",
       "      <td>5.265924</td>\n",
       "      <td>46.8</td>\n",
       "      <td>1</td>\n",
       "      <td>0.131148</td>\n",
       "    </tr>\n",
       "    <tr>\n",
       "      <th>402</th>\n",
       "      <td>8.632662</td>\n",
       "      <td>46.6</td>\n",
       "      <td>1</td>\n",
       "      <td>4.670833</td>\n",
       "    </tr>\n",
       "    <tr>\n",
       "      <th>403</th>\n",
       "      <td>8.852700</td>\n",
       "      <td>17.0</td>\n",
       "      <td>1</td>\n",
       "      <td>0.114010</td>\n",
       "    </tr>\n",
       "  </tbody>\n",
       "</table>\n",
       "<p>404 rows × 4 columns</p>\n",
       "</div>"
      ],
      "text/plain": [
       "        ustat  beta  chi      diff\n",
       "0    8.408213  60.0    0  0.000000\n",
       "1    7.006844  60.0    0  0.000000\n",
       "2    5.255133  60.0    0  0.000000\n",
       "3    3.503422  60.0    0  0.000000\n",
       "4    2.102053  60.0    0  0.000000\n",
       "..        ...   ...  ...       ...\n",
       "399  7.524804  19.0    1  0.000000\n",
       "400  7.021232  46.8    1  0.131148\n",
       "401  5.265924  46.8    1  0.131148\n",
       "402  8.632662  46.6    1  4.670833\n",
       "403  8.852700  17.0    1  0.114010\n",
       "\n",
       "[404 rows x 4 columns]"
      ]
     },
     "execution_count": 19,
     "metadata": {},
     "output_type": "execute_result"
    }
   ],
   "source": [
    "x = df.drop(['alph1', 'alph2'], axis=1)\n",
    "x"
   ]
  },
  {
   "cell_type": "code",
   "execution_count": 20,
   "id": "beef184a",
   "metadata": {},
   "outputs": [],
   "source": [
    "# Train test split, ratio is 66:33\n",
    "xTrain, xTest, yTrain, yTest = train_test_split(x, y, test_size=0.33, random_state=42)"
   ]
  },
  {
   "cell_type": "code",
   "execution_count": 21,
   "id": "ac7a9e52",
   "metadata": {},
   "outputs": [],
   "source": [
    "lr = logReg(xTrain, yTrain)"
   ]
  },
  {
   "cell_type": "code",
   "execution_count": 22,
   "id": "6f6edad8",
   "metadata": {},
   "outputs": [
    {
     "name": "stdout",
     "output_type": "stream",
     "text": [
      "Logistic Regression train set score:  0.9925925925925926\n",
      "Confusion Matrix Results:  247 0 2 21\n"
     ]
    }
   ],
   "source": [
    "print(\"Logistic Regression train set score: \", accuracy_score(yTrain, lr.predict(xTrain)))\n",
    "tn, fp, fn, tp = confusion_matrix(yTrain, lr.predict(xTrain)).ravel()\n",
    "print(\"Confusion Matrix Results: \", tn, fp, fn, tp)"
   ]
  },
  {
   "cell_type": "code",
   "execution_count": 23,
   "id": "c8a40f01",
   "metadata": {},
   "outputs": [
    {
     "name": "stdout",
     "output_type": "stream",
     "text": [
      "Logistic Regression test set score:  1.0\n",
      "Confusion Matrix Results:  119 0 0 15\n"
     ]
    }
   ],
   "source": [
    "print(\"Logistic Regression test set score: \", accuracy_score(yTest, lr.predict(xTest)))\n",
    "tn, fp, fn, tp = confusion_matrix(yTest, lr.predict(xTest)).ravel()\n",
    "print(\"Confusion Matrix Results: \", tn, fp, fn, tp)"
   ]
  },
  {
   "cell_type": "code",
   "execution_count": 24,
   "id": "af508565",
   "metadata": {},
   "outputs": [
    {
     "name": "stderr",
     "output_type": "stream",
     "text": [
      "C:\\Users\\jeffr\\anaconda3\\lib\\site-packages\\sklearn\\utils\\deprecation.py:87: FutureWarning: Function plot_confusion_matrix is deprecated; Function `plot_confusion_matrix` is deprecated in 1.0 and will be removed in 1.2. Use one of the class methods: ConfusionMatrixDisplay.from_predictions or ConfusionMatrixDisplay.from_estimator.\n",
      "  warnings.warn(msg, category=FutureWarning)\n"
     ]
    },
    {
     "data": {
      "text/plain": [
       "Text(0.5, 1.0, 'Logistic Regression')"
      ]
     },
     "execution_count": 24,
     "metadata": {},
     "output_type": "execute_result"
    },
    {
     "data": {
      "image/png": "[encoded data removed]",
      "text/plain": [
       "<Figure size 432x288 with 2 Axes>"
      ]
     },
     "metadata": {
      "needs_background": "light"
     },
     "output_type": "display_data"
    }
   ],
   "source": [
    "disp = plot_confusion_matrix(lr, xTest, yTest, cmap=plt.cm.Blues)\n",
    "disp.ax_.set_title(\"Logistic Regression\")"
   ]
  },
  {
   "cell_type": "code",
   "execution_count": 25,
   "id": "6f14d70c",
   "metadata": {},
   "outputs": [
    {
     "name": "stderr",
     "output_type": "stream",
     "text": [
      "C:\\Users\\jeffr\\anaconda3\\lib\\site-packages\\sklearn\\utils\\deprecation.py:87: FutureWarning: Function plot_roc_curve is deprecated; Function :func:`plot_roc_curve` is deprecated in 1.0 and will be removed in 1.2. Use one of the class methods: :meth:`sklearn.metric.RocCurveDisplay.from_predictions` or :meth:`sklearn.metric.RocCurveDisplay.from_estimator`.\n",
      "  warnings.warn(msg, category=FutureWarning)\n"
     ]
    },
    {
     "data": {
      "text/plain": [
       "<sklearn.metrics._plot.roc_curve.RocCurveDisplay at 0x1e92c298bb0>"
      ]
     },
     "execution_count": 25,
     "metadata": {},
     "output_type": "execute_result"
    },
    {
     "data": {
      "image/png": "[encoded data removed]",
      "text/plain": [
       "<Figure size 432x288 with 1 Axes>"
      ]
     },
     "metadata": {
      "needs_background": "light"
     },
     "output_type": "display_data"
    }
   ],
   "source": [
    "metrics.plot_roc_curve(lr, xTest, yTest)"
   ]
  },
  {
   "cell_type": "markdown",
   "id": "eb129b9d",
   "metadata": {},
   "source": [
    "Perfect AUC. May be caused by overfitting."
   ]
  },
  {
   "cell_type": "markdown",
   "id": "87f0bd82",
   "metadata": {},
   "source": [
    "### Splitting the small_chi data in which half is training data and the other half is testing data. Add the remaining large_chi data into the training. Expect some errors, i.e., assigned to the large chi cluster. "
   ]
  },
  {
   "cell_type": "code",
   "execution_count": 26,
   "id": "4018a4a7",
   "metadata": {},
   "outputs": [
    {
     "data": {
      "text/html": [
       "<div>\n",
       "<style scoped>\n",
       "    .dataframe tbody tr th:only-of-type {\n",
       "        vertical-align: middle;\n",
       "    }\n",
       "\n",
       "    .dataframe tbody tr th {\n",
       "        vertical-align: top;\n",
       "    }\n",
       "\n",
       "    .dataframe thead th {\n",
       "        text-align: right;\n",
       "    }\n",
       "</style>\n",
       "<table border=\"1\" class=\"dataframe\">\n",
       "  <thead>\n",
       "    <tr style=\"text-align: right;\">\n",
       "      <th></th>\n",
       "      <th>ustat</th>\n",
       "      <th>alph1</th>\n",
       "      <th>alph2</th>\n",
       "      <th>beta</th>\n",
       "      <th>chi</th>\n",
       "      <th>diff</th>\n",
       "    </tr>\n",
       "  </thead>\n",
       "  <tbody>\n",
       "    <tr>\n",
       "      <th>0</th>\n",
       "      <td>1.083879</td>\n",
       "      <td>2.668613</td>\n",
       "      <td>2.307606</td>\n",
       "      <td>46.7</td>\n",
       "      <td>0</td>\n",
       "      <td>0.361007</td>\n",
       "    </tr>\n",
       "    <tr>\n",
       "      <th>1</th>\n",
       "      <td>9.414397</td>\n",
       "      <td>2.226188</td>\n",
       "      <td>1.893687</td>\n",
       "      <td>46.7</td>\n",
       "      <td>0</td>\n",
       "      <td>0.332501</td>\n",
       "    </tr>\n",
       "    <tr>\n",
       "      <th>2</th>\n",
       "      <td>3.611330</td>\n",
       "      <td>2.276779</td>\n",
       "      <td>2.276779</td>\n",
       "      <td>60.0</td>\n",
       "      <td>0</td>\n",
       "      <td>0.000000</td>\n",
       "    </tr>\n",
       "    <tr>\n",
       "      <th>3</th>\n",
       "      <td>1.088675</td>\n",
       "      <td>1.348658</td>\n",
       "      <td>1.348658</td>\n",
       "      <td>87.1</td>\n",
       "      <td>0</td>\n",
       "      <td>0.000000</td>\n",
       "    </tr>\n",
       "    <tr>\n",
       "      <th>4</th>\n",
       "      <td>3.369136</td>\n",
       "      <td>3.125267</td>\n",
       "      <td>2.660712</td>\n",
       "      <td>48.2</td>\n",
       "      <td>0</td>\n",
       "      <td>0.464555</td>\n",
       "    </tr>\n",
       "  </tbody>\n",
       "</table>\n",
       "</div>"
      ],
      "text/plain": [
       "      ustat     alph1     alph2  beta  chi      diff\n",
       "0  1.083879  2.668613  2.307606  46.7    0  0.361007\n",
       "1  9.414397  2.226188  1.893687  46.7    0  0.332501\n",
       "2  3.611330  2.276779  2.276779  60.0    0  0.000000\n",
       "3  1.088675  1.348658  1.348658  87.1    0  0.000000\n",
       "4  3.369136  3.125267  2.660712  48.2    0  0.464555"
      ]
     },
     "execution_count": 26,
     "metadata": {},
     "output_type": "execute_result"
    }
   ],
   "source": [
    "train_df = pd.read_csv(\"../../data/processed/week03_train_df_sugg01.csv\")\n",
    "train_df.head()"
   ]
  },
  {
   "cell_type": "code",
   "execution_count": 27,
   "id": "61b6e5a5",
   "metadata": {},
   "outputs": [
    {
     "data": {
      "text/html": [
       "<div>\n",
       "<style scoped>\n",
       "    .dataframe tbody tr th:only-of-type {\n",
       "        vertical-align: middle;\n",
       "    }\n",
       "\n",
       "    .dataframe tbody tr th {\n",
       "        vertical-align: top;\n",
       "    }\n",
       "\n",
       "    .dataframe thead th {\n",
       "        text-align: right;\n",
       "    }\n",
       "</style>\n",
       "<table border=\"1\" class=\"dataframe\">\n",
       "  <thead>\n",
       "    <tr style=\"text-align: right;\">\n",
       "      <th></th>\n",
       "      <th>ustat</th>\n",
       "      <th>alph1</th>\n",
       "      <th>alph2</th>\n",
       "      <th>beta</th>\n",
       "      <th>chi</th>\n",
       "      <th>diff</th>\n",
       "    </tr>\n",
       "  </thead>\n",
       "  <tbody>\n",
       "    <tr>\n",
       "      <th>0</th>\n",
       "      <td>8.408213</td>\n",
       "      <td>2.344511</td>\n",
       "      <td>2.344511</td>\n",
       "      <td>60.0</td>\n",
       "      <td>0</td>\n",
       "      <td>0.0</td>\n",
       "    </tr>\n",
       "    <tr>\n",
       "      <th>1</th>\n",
       "      <td>7.006844</td>\n",
       "      <td>2.344511</td>\n",
       "      <td>2.344511</td>\n",
       "      <td>60.0</td>\n",
       "      <td>0</td>\n",
       "      <td>0.0</td>\n",
       "    </tr>\n",
       "    <tr>\n",
       "      <th>2</th>\n",
       "      <td>5.255133</td>\n",
       "      <td>2.344511</td>\n",
       "      <td>2.344511</td>\n",
       "      <td>60.0</td>\n",
       "      <td>0</td>\n",
       "      <td>0.0</td>\n",
       "    </tr>\n",
       "    <tr>\n",
       "      <th>3</th>\n",
       "      <td>3.503422</td>\n",
       "      <td>2.344511</td>\n",
       "      <td>2.344511</td>\n",
       "      <td>60.0</td>\n",
       "      <td>0</td>\n",
       "      <td>0.0</td>\n",
       "    </tr>\n",
       "    <tr>\n",
       "      <th>4</th>\n",
       "      <td>0.875855</td>\n",
       "      <td>2.344511</td>\n",
       "      <td>2.344511</td>\n",
       "      <td>60.0</td>\n",
       "      <td>0</td>\n",
       "      <td>0.0</td>\n",
       "    </tr>\n",
       "  </tbody>\n",
       "</table>\n",
       "</div>"
      ],
      "text/plain": [
       "      ustat     alph1     alph2  beta  chi  diff\n",
       "0  8.408213  2.344511  2.344511  60.0    0   0.0\n",
       "1  7.006844  2.344511  2.344511  60.0    0   0.0\n",
       "2  5.255133  2.344511  2.344511  60.0    0   0.0\n",
       "3  3.503422  2.344511  2.344511  60.0    0   0.0\n",
       "4  0.875855  2.344511  2.344511  60.0    0   0.0"
      ]
     },
     "execution_count": 27,
     "metadata": {},
     "output_type": "execute_result"
    }
   ],
   "source": [
    "test_df = pd.read_csv(\"../../data/processed/week03_test_df_sugg01.csv\")\n",
    "test_df.head()"
   ]
  },
  {
   "cell_type": "code",
   "execution_count": 28,
   "id": "d17e238c",
   "metadata": {},
   "outputs": [],
   "source": [
    "# separating features and targets\n",
    "\n",
    "yTrain = train_df['chi']\n",
    "xTrain = train_df.drop(['chi'], axis=1)\n",
    "\n",
    "yTest = test_df['chi']\n",
    "xTest = test_df.drop(['chi'], axis=1)"
   ]
  },
  {
   "cell_type": "code",
   "execution_count": 29,
   "id": "429564f9",
   "metadata": {},
   "outputs": [],
   "source": [
    "lr = logReg(xTrain, yTrain)"
   ]
  },
  {
   "cell_type": "code",
   "execution_count": 30,
   "id": "d268008e",
   "metadata": {},
   "outputs": [
    {
     "name": "stdout",
     "output_type": "stream",
     "text": [
      "Logistic Regression train set score:  0.9276018099547512\n",
      "Confusion Matrix Results:  178 5 11 27\n"
     ]
    }
   ],
   "source": [
    "print(\"Logistic Regression train set score: \", accuracy_score(yTrain, lr.predict(xTrain)))\n",
    "tn, fp, fn, tp = confusion_matrix(yTrain, lr.predict(xTrain)).ravel()\n",
    "print(\"Confusion Matrix Results: \", tn, fp, fn, tp)"
   ]
  },
  {
   "cell_type": "code",
   "execution_count": 31,
   "id": "464392cc",
   "metadata": {},
   "outputs": [
    {
     "name": "stdout",
     "output_type": "stream",
     "text": [
      "Logistic Regression test set score:  0.9508196721311475\n",
      "Confusion Matrix Results:  174 9 0 0\n"
     ]
    }
   ],
   "source": [
    "print(\"Logistic Regression test set score: \", accuracy_score(yTest, lr.predict(xTest)))\n",
    "tn, fp, fn, tp = confusion_matrix(yTest, lr.predict(xTest)).ravel()\n",
    "print(\"Confusion Matrix Results: \", tn, fp, fn, tp)"
   ]
  },
  {
   "cell_type": "code",
   "execution_count": 32,
   "id": "232dc05a",
   "metadata": {},
   "outputs": [
    {
     "name": "stderr",
     "output_type": "stream",
     "text": [
      "C:\\Users\\jeffr\\anaconda3\\lib\\site-packages\\sklearn\\utils\\deprecation.py:87: FutureWarning: Function plot_confusion_matrix is deprecated; Function `plot_confusion_matrix` is deprecated in 1.0 and will be removed in 1.2. Use one of the class methods: ConfusionMatrixDisplay.from_predictions or ConfusionMatrixDisplay.from_estimator.\n",
      "  warnings.warn(msg, category=FutureWarning)\n"
     ]
    },
    {
     "data": {
      "text/plain": [
       "Text(0.5, 1.0, 'Logistic Regression')"
      ]
     },
     "execution_count": 32,
     "metadata": {},
     "output_type": "execute_result"
    },
    {
     "data": {
      "image/png": "[encoded data removed]",
      "text/plain": [
       "<Figure size 432x288 with 2 Axes>"
      ]
     },
     "metadata": {
      "needs_background": "light"
     },
     "output_type": "display_data"
    }
   ],
   "source": [
    "disp = plot_confusion_matrix(lr, xTest, yTest, cmap=plt.cm.Blues)\n",
    "disp.ax_.set_title(\"Logistic Regression\")\n"
   ]
  },
  {
   "cell_type": "code",
   "execution_count": 33,
   "id": "3c3bad29",
   "metadata": {},
   "outputs": [],
   "source": [
    "# No ROC because there is no FP\n",
    "#metrics.plot_roc_curve(lr, xTest, yTest)"
   ]
  },
  {
   "cell_type": "markdown",
   "id": "9af32a5e",
   "metadata": {},
   "source": [
    "The testing accuracy score was 0.95. 174 entries were correctly identified as 'small chi' (True Negative) and 9 were incorrectly identified as 'large chi (False Positive).'"
   ]
  },
  {
   "cell_type": "markdown",
   "id": "2f3efcba",
   "metadata": {},
   "source": [
    "### Processing data that overlap in the region of 5.26 <= chi < 12.60 of chi v ustat scatter."
   ]
  },
  {
   "cell_type": "code",
   "execution_count": 34,
   "id": "e7370176",
   "metadata": {},
   "outputs": [
    {
     "data": {
      "text/html": [
       "<div>\n",
       "<style scoped>\n",
       "    .dataframe tbody tr th:only-of-type {\n",
       "        vertical-align: middle;\n",
       "    }\n",
       "\n",
       "    .dataframe tbody tr th {\n",
       "        vertical-align: top;\n",
       "    }\n",
       "\n",
       "    .dataframe thead th {\n",
       "        text-align: right;\n",
       "    }\n",
       "</style>\n",
       "<table border=\"1\" class=\"dataframe\">\n",
       "  <thead>\n",
       "    <tr style=\"text-align: right;\">\n",
       "      <th></th>\n",
       "      <th>ustat</th>\n",
       "      <th>alph1</th>\n",
       "      <th>alph2</th>\n",
       "      <th>beta</th>\n",
       "      <th>chi</th>\n",
       "      <th>diff</th>\n",
       "    </tr>\n",
       "  </thead>\n",
       "  <tbody>\n",
       "    <tr>\n",
       "      <th>0</th>\n",
       "      <td>8.408213</td>\n",
       "      <td>2.344511</td>\n",
       "      <td>2.344511</td>\n",
       "      <td>60.0</td>\n",
       "      <td>0</td>\n",
       "      <td>0.0</td>\n",
       "    </tr>\n",
       "    <tr>\n",
       "      <th>1</th>\n",
       "      <td>7.006844</td>\n",
       "      <td>2.344511</td>\n",
       "      <td>2.344511</td>\n",
       "      <td>60.0</td>\n",
       "      <td>0</td>\n",
       "      <td>0.0</td>\n",
       "    </tr>\n",
       "    <tr>\n",
       "      <th>2</th>\n",
       "      <td>10.833991</td>\n",
       "      <td>2.276779</td>\n",
       "      <td>2.276779</td>\n",
       "      <td>60.0</td>\n",
       "      <td>0</td>\n",
       "      <td>0.0</td>\n",
       "    </tr>\n",
       "    <tr>\n",
       "      <th>3</th>\n",
       "      <td>8.667192</td>\n",
       "      <td>2.276779</td>\n",
       "      <td>2.276779</td>\n",
       "      <td>60.0</td>\n",
       "      <td>0</td>\n",
       "      <td>0.0</td>\n",
       "    </tr>\n",
       "    <tr>\n",
       "      <th>4</th>\n",
       "      <td>7.222660</td>\n",
       "      <td>2.276779</td>\n",
       "      <td>2.276779</td>\n",
       "      <td>60.0</td>\n",
       "      <td>0</td>\n",
       "      <td>0.0</td>\n",
       "    </tr>\n",
       "  </tbody>\n",
       "</table>\n",
       "</div>"
      ],
      "text/plain": [
       "       ustat     alph1     alph2  beta  chi  diff\n",
       "0   8.408213  2.344511  2.344511  60.0    0   0.0\n",
       "1   7.006844  2.344511  2.344511  60.0    0   0.0\n",
       "2  10.833991  2.276779  2.276779  60.0    0   0.0\n",
       "3   8.667192  2.276779  2.276779  60.0    0   0.0\n",
       "4   7.222660  2.276779  2.276779  60.0    0   0.0"
      ]
     },
     "execution_count": 34,
     "metadata": {},
     "output_type": "execute_result"
    }
   ],
   "source": [
    "dir = \"../../data/processed/week03_overlap_data.csv\"\n",
    "df = pd.read_csv(dir)\n",
    "df.head()"
   ]
  },
  {
   "cell_type": "code",
   "execution_count": 35,
   "id": "3fd601cb",
   "metadata": {},
   "outputs": [],
   "source": [
    "# separating features and targets\n",
    "\n",
    "y = df['chi']\n",
    "x = df.drop(['chi'], axis=1)"
   ]
  },
  {
   "cell_type": "code",
   "execution_count": 36,
   "id": "693d655f",
   "metadata": {},
   "outputs": [],
   "source": [
    "# Train test split, ratio is 67:33\n",
    "xTrain, xTest, yTrain, yTest = train_test_split(x, y, test_size=0.33, random_state=42)"
   ]
  },
  {
   "cell_type": "code",
   "execution_count": 37,
   "id": "42b73892",
   "metadata": {},
   "outputs": [],
   "source": [
    "lr = logReg(xTrain, yTrain)"
   ]
  },
  {
   "cell_type": "code",
   "execution_count": 38,
   "id": "2f321fea",
   "metadata": {},
   "outputs": [
    {
     "name": "stdout",
     "output_type": "stream",
     "text": [
      "Logistic Regression train set score:  0.7764705882352941\n",
      "Confusion Matrix Results:  58 5 14 8\n"
     ]
    }
   ],
   "source": [
    "print(\"Logistic Regression train set score: \", accuracy_score(yTrain, lr.predict(xTrain)))\n",
    "tn, fp, fn, tp = confusion_matrix(yTrain, lr.predict(xTrain)).ravel()\n",
    "print(\"Confusion Matrix Results: \", tn, fp, fn, tp)"
   ]
  },
  {
   "cell_type": "code",
   "execution_count": 39,
   "id": "d6b60a7f",
   "metadata": {},
   "outputs": [
    {
     "name": "stdout",
     "output_type": "stream",
     "text": [
      "Logistic Regression test set score:  0.8604651162790697\n",
      "Confusion Matrix Results:  34 1 5 3\n"
     ]
    }
   ],
   "source": [
    "print(\"Logistic Regression test set score: \", accuracy_score(yTest, lr.predict(xTest)))\n",
    "tn, fp, fn, tp = confusion_matrix(yTest, lr.predict(xTest)).ravel()\n",
    "print(\"Confusion Matrix Results: \", tn, fp, fn, tp)\n"
   ]
  },
  {
   "cell_type": "code",
   "execution_count": 40,
   "id": "1d8de791",
   "metadata": {},
   "outputs": [
    {
     "name": "stderr",
     "output_type": "stream",
     "text": [
      "C:\\Users\\jeffr\\anaconda3\\lib\\site-packages\\sklearn\\utils\\deprecation.py:87: FutureWarning: Function plot_confusion_matrix is deprecated; Function `plot_confusion_matrix` is deprecated in 1.0 and will be removed in 1.2. Use one of the class methods: ConfusionMatrixDisplay.from_predictions or ConfusionMatrixDisplay.from_estimator.\n",
      "  warnings.warn(msg, category=FutureWarning)\n"
     ]
    },
    {
     "data": {
      "text/plain": [
       "Text(0.5, 1.0, 'Logistic Regression')"
      ]
     },
     "execution_count": 40,
     "metadata": {},
     "output_type": "execute_result"
    },
    {
     "data": {
      "image/png": "[encoded data removed]",
      "text/plain": [
       "<Figure size 432x288 with 2 Axes>"
      ]
     },
     "metadata": {
      "needs_background": "light"
     },
     "output_type": "display_data"
    }
   ],
   "source": [
    "disp = plot_confusion_matrix(lr, xTest, yTest, cmap=plt.cm.Blues)\n",
    "disp.ax_.set_title(\"Logistic Regression\")"
   ]
  },
  {
   "cell_type": "code",
   "execution_count": 42,
   "id": "6f7f2fa4",
   "metadata": {},
   "outputs": [
    {
     "name": "stderr",
     "output_type": "stream",
     "text": [
      "C:\\Users\\jeffr\\anaconda3\\lib\\site-packages\\sklearn\\utils\\deprecation.py:87: FutureWarning: Function plot_roc_curve is deprecated; Function :func:`plot_roc_curve` is deprecated in 1.0 and will be removed in 1.2. Use one of the class methods: :meth:`sklearn.metric.RocCurveDisplay.from_predictions` or :meth:`sklearn.metric.RocCurveDisplay.from_estimator`.\n",
      "  warnings.warn(msg, category=FutureWarning)\n"
     ]
    },
    {
     "data": {
      "text/plain": [
       "<sklearn.metrics._plot.roc_curve.RocCurveDisplay at 0x1e92c3a28b0>"
      ]
     },
     "execution_count": 42,
     "metadata": {},
     "output_type": "execute_result"
    },
    {
     "data": {
      "image/png": "[encoded data removed]",
      "text/plain": [
       "<Figure size 432x288 with 1 Axes>"
      ]
     },
     "metadata": {
      "needs_background": "light"
     },
     "output_type": "display_data"
    }
   ],
   "source": [
    "metrics.plot_roc_curve(lr, xTest, yTest)"
   ]
  },
  {
   "cell_type": "code",
   "execution_count": null,
   "id": "08e72415",
   "metadata": {},
   "outputs": [],
   "source": []
  }
 ],
 "metadata": {
  "kernelspec": {
   "display_name": "Python 3 (ipykernel)",
   "language": "python",
   "name": "python3"
  },
  "language_info": {
   "codemirror_mode": {
    "name": "ipython",
    "version": 3
   },
   "file_extension": ".py",
   "mimetype": "text/x-python",
   "name": "python",
   "nbconvert_exporter": "python",
   "pygments_lexer": "ipython3",
   "version": "3.9.12"
  }
 },
 "nbformat": 4,
 "nbformat_minor": 5
}
