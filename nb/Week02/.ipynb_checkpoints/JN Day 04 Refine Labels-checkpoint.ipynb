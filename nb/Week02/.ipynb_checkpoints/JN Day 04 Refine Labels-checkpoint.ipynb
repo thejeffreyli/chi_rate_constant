{
 "cells": [
  {
   "cell_type": "code",
   "execution_count": 1,
   "id": "8866092a",
   "metadata": {},
   "outputs": [],
   "source": [
    "import pandas as pd\n",
    "import numpy as np\n",
    "import matplotlib.pyplot as plt\n",
    "\n",
    "import sklearn "
   ]
  },
  {
   "cell_type": "code",
   "execution_count": 2,
   "id": "ad19cf4d",
   "metadata": {},
   "outputs": [
    {
     "data": {
      "text/html": [
       "<div>\n",
       "<style scoped>\n",
       "    .dataframe tbody tr th:only-of-type {\n",
       "        vertical-align: middle;\n",
       "    }\n",
       "\n",
       "    .dataframe tbody tr th {\n",
       "        vertical-align: top;\n",
       "    }\n",
       "\n",
       "    .dataframe thead th {\n",
       "        text-align: right;\n",
       "    }\n",
       "</style>\n",
       "<table border=\"1\" class=\"dataframe\">\n",
       "  <thead>\n",
       "    <tr style=\"text-align: right;\">\n",
       "      <th></th>\n",
       "      <th>ustat</th>\n",
       "      <th>alph1</th>\n",
       "      <th>alph2</th>\n",
       "      <th>beta</th>\n",
       "      <th>chi</th>\n",
       "    </tr>\n",
       "  </thead>\n",
       "  <tbody>\n",
       "    <tr>\n",
       "      <th>0</th>\n",
       "      <td>8.408213</td>\n",
       "      <td>2.344511</td>\n",
       "      <td>2.344511</td>\n",
       "      <td>60.0</td>\n",
       "      <td>1.094479</td>\n",
       "    </tr>\n",
       "    <tr>\n",
       "      <th>1</th>\n",
       "      <td>7.006844</td>\n",
       "      <td>2.344511</td>\n",
       "      <td>2.344511</td>\n",
       "      <td>60.0</td>\n",
       "      <td>0.840347</td>\n",
       "    </tr>\n",
       "    <tr>\n",
       "      <th>2</th>\n",
       "      <td>5.255133</td>\n",
       "      <td>2.344511</td>\n",
       "      <td>2.344511</td>\n",
       "      <td>60.0</td>\n",
       "      <td>0.772829</td>\n",
       "    </tr>\n",
       "    <tr>\n",
       "      <th>3</th>\n",
       "      <td>3.503422</td>\n",
       "      <td>2.344511</td>\n",
       "      <td>2.344511</td>\n",
       "      <td>60.0</td>\n",
       "      <td>0.811944</td>\n",
       "    </tr>\n",
       "    <tr>\n",
       "      <th>4</th>\n",
       "      <td>2.102053</td>\n",
       "      <td>2.344511</td>\n",
       "      <td>2.344511</td>\n",
       "      <td>60.0</td>\n",
       "      <td>0.844523</td>\n",
       "    </tr>\n",
       "  </tbody>\n",
       "</table>\n",
       "</div>"
      ],
      "text/plain": [
       "      ustat     alph1     alph2  beta       chi\n",
       "0  8.408213  2.344511  2.344511  60.0  1.094479\n",
       "1  7.006844  2.344511  2.344511  60.0  0.840347\n",
       "2  5.255133  2.344511  2.344511  60.0  0.772829\n",
       "3  3.503422  2.344511  2.344511  60.0  0.811944\n",
       "4  2.102053  2.344511  2.344511  60.0  0.844523"
      ]
     },
     "execution_count": 2,
     "metadata": {},
     "output_type": "execute_result"
    }
   ],
   "source": [
    "data = np.genfromtxt(\"../../data/data.dat\")\n",
    "data = np.delete(data, 0, 0)\n",
    "df = pd.DataFrame(data, columns = ['ustat','alph1','alph2', 'beta', 'chi'])\n",
    "df.head()"
   ]
  },
  {
   "cell_type": "code",
   "execution_count": 17,
   "id": "bbf77812",
   "metadata": {},
   "outputs": [],
   "source": [
    "# Option 1: Let's see if we can restructure labels. We will take a look at unsupervised learning algorithms \n",
    "# to find groups in our data."
   ]
  },
  {
   "cell_type": "code",
   "execution_count": null,
   "id": "a010911a",
   "metadata": {},
   "outputs": [],
   "source": []
  }
 ],
 "metadata": {
  "kernelspec": {
   "display_name": "Python 3 (ipykernel)",
   "language": "python",
   "name": "python3"
  },
  "language_info": {
   "codemirror_mode": {
    "name": "ipython",
    "version": 3
   },
   "file_extension": ".py",
   "mimetype": "text/x-python",
   "name": "python",
   "nbconvert_exporter": "python",
   "pygments_lexer": "ipython3",
   "version": "3.9.12"
  }
 },
 "nbformat": 4,
 "nbformat_minor": 5
}
